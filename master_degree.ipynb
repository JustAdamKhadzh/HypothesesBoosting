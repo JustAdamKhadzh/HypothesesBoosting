{
 "cells": [
  {
   "cell_type": "code",
   "execution_count": 17,
   "metadata": {},
   "outputs": [],
   "source": [
    "import os\n",
    "import numpy as np\n",
    "import pandas as pd\n",
    "import functions as func\n",
    "\n",
    "\n",
    "from multiprocessing import Process, Pool\n",
    "from concurrent.futures import ProcessPoolExecutor, Executor, as_completed"
   ]
  },
  {
   "cell_type": "code",
   "execution_count": 3,
   "metadata": {},
   "outputs": [],
   "source": [
    "def read_data(path, filename):\n",
    "    print(f'reading file = {os.path.join(path, filename)}')\n",
    "    data = pd.read_csv(os.path.join(path, filename))\n",
    "    data = data.rename(columns={'Unnamed: 0':'Id'})\n",
    "    print(f'data shape = {data.shape}')\n",
    "    types_info = pd.DataFrame(data.dtypes.value_counts(), columns=['columns_count'])\n",
    "    print('types info about df columns: ')\n",
    "    print(types_info)\n",
    "    return data"
   ]
  },
  {
   "cell_type": "code",
   "execution_count": 4,
   "metadata": {},
   "outputs": [
    {
     "name": "stdout",
     "output_type": "stream",
     "text": [
      "total 28272\r\n",
      "drwx------@ 6 adam  staff   192B Dec 23 21:30 \u001b[34m.\u001b[m\u001b[m/\r\n",
      "drwxr-xr-x  8 adam  staff   256B Dec 23 21:36 \u001b[34m..\u001b[m\u001b[m/\r\n",
      "-rwxr-xr-x@ 1 adam  staff    15K Dec 11  2019 \u001b[31mData Dictionary.xls\u001b[m\u001b[m*\r\n",
      "-rwxr-xr-x@ 1 adam  staff   4.8M Dec 11  2019 \u001b[31mcs-test.csv\u001b[m\u001b[m*\r\n",
      "-rwxr-xr-x@ 1 adam  staff   7.2M Dec 11  2019 \u001b[31mcs-training.csv\u001b[m\u001b[m*\r\n",
      "-rwxr-xr-x@ 1 adam  staff   1.8M Dec 11  2019 \u001b[31msampleEntry.csv\u001b[m\u001b[m*\r\n"
     ]
    }
   ],
   "source": [
    "ls -la -h Datasets/GiveMeSomeCredit/"
   ]
  },
  {
   "cell_type": "code",
   "execution_count": 5,
   "metadata": {},
   "outputs": [
    {
     "name": "stdout",
     "output_type": "stream",
     "text": [
      "reading file = Datasets/GiveMeSomeCredit/cs-training.csv\n",
      "data shape = (150000, 12)\n",
      "types info about df columns: \n",
      "         columns_count\n",
      "int64                8\n",
      "float64              4\n",
      "reading file = Datasets/GiveMeSomeCredit/cs-test.csv\n",
      "data shape = (101503, 12)\n",
      "types info about df columns: \n",
      "         columns_count\n",
      "int64                7\n",
      "float64              5\n"
     ]
    }
   ],
   "source": [
    "train_data = read_data(path='Datasets/GiveMeSomeCredit/', filename='cs-training.csv')\n",
    "test_data = read_data(path='Datasets/GiveMeSomeCredit/', filename='cs-test.csv')\n",
    "descript = pd.read_excel(\"Datasets/GiveMeSomeCredit/Data Dictionary.xls\")\n",
    "# sample_data = pd.read_csv(\"Datasets/GiveMeSomeCredit/sampleEntry.csv\")"
   ]
  },
  {
   "cell_type": "code",
   "execution_count": 6,
   "metadata": {},
   "outputs": [],
   "source": [
    "def transform_to_description(data):\n",
    "    transformed_data = pd.DataFrame(columns=data.columns)\n",
    "    \n",
    "    for col in data:\n",
    "        transformed_data[col] = data[col].apply(lambda x: (x, x))\n",
    "    \n",
    "    return transformed_data"
   ]
  },
  {
   "cell_type": "code",
   "execution_count": 7,
   "metadata": {},
   "outputs": [],
   "source": [
    "train_data.fillna(0, inplace=True)\n",
    "test_data.fillna(0, inplace=True)\n",
    "\n",
    "#ставим колонку Id как индекс клиента\n",
    "train_data.set_index('Id', inplace=True)\n",
    "test_data.set_index('Id', inplace=True)\n",
    "\n",
    "#сохраняем метку класса\n",
    "train_label = train_data['SeriousDlqin2yrs'].copy()\n",
    "train_data.drop('SeriousDlqin2yrs', axis=1, inplace=True)\n",
    "#удаляем колонку класса из тестовых данных, так как она не несет никакой информации\n",
    "test_data.drop('SeriousDlqin2yrs', axis=1, inplace=True)"
   ]
  },
  {
   "cell_type": "code",
   "execution_count": 8,
   "metadata": {},
   "outputs": [
    {
     "data": {
      "text/plain": [
       "((150000, 10), (101503, 10))"
      ]
     },
     "execution_count": 8,
     "metadata": {},
     "output_type": "execute_result"
    }
   ],
   "source": [
    "train_data.shape, test_data.shape"
   ]
  },
  {
   "cell_type": "code",
   "execution_count": 9,
   "metadata": {},
   "outputs": [
    {
     "data": {
      "text/html": [
       "<div>\n",
       "<style scoped>\n",
       "    .dataframe tbody tr th:only-of-type {\n",
       "        vertical-align: middle;\n",
       "    }\n",
       "\n",
       "    .dataframe tbody tr th {\n",
       "        vertical-align: top;\n",
       "    }\n",
       "\n",
       "    .dataframe thead th {\n",
       "        text-align: right;\n",
       "    }\n",
       "</style>\n",
       "<table border=\"1\" class=\"dataframe\">\n",
       "  <thead>\n",
       "    <tr style=\"text-align: right;\">\n",
       "      <th></th>\n",
       "      <th>RevolvingUtilizationOfUnsecuredLines</th>\n",
       "      <th>age</th>\n",
       "      <th>NumberOfTime30-59DaysPastDueNotWorse</th>\n",
       "      <th>DebtRatio</th>\n",
       "      <th>MonthlyIncome</th>\n",
       "      <th>NumberOfOpenCreditLinesAndLoans</th>\n",
       "      <th>NumberOfTimes90DaysLate</th>\n",
       "      <th>NumberRealEstateLoansOrLines</th>\n",
       "      <th>NumberOfTime60-89DaysPastDueNotWorse</th>\n",
       "      <th>NumberOfDependents</th>\n",
       "    </tr>\n",
       "    <tr>\n",
       "      <th>Id</th>\n",
       "      <th></th>\n",
       "      <th></th>\n",
       "      <th></th>\n",
       "      <th></th>\n",
       "      <th></th>\n",
       "      <th></th>\n",
       "      <th></th>\n",
       "      <th></th>\n",
       "      <th></th>\n",
       "      <th></th>\n",
       "    </tr>\n",
       "  </thead>\n",
       "  <tbody>\n",
       "    <tr>\n",
       "      <th>1</th>\n",
       "      <td>0.77</td>\n",
       "      <td>45</td>\n",
       "      <td>2</td>\n",
       "      <td>0.80</td>\n",
       "      <td>9120.0</td>\n",
       "      <td>13</td>\n",
       "      <td>0</td>\n",
       "      <td>6</td>\n",
       "      <td>0</td>\n",
       "      <td>2.0</td>\n",
       "    </tr>\n",
       "    <tr>\n",
       "      <th>2</th>\n",
       "      <td>0.96</td>\n",
       "      <td>40</td>\n",
       "      <td>0</td>\n",
       "      <td>0.12</td>\n",
       "      <td>2600.0</td>\n",
       "      <td>4</td>\n",
       "      <td>0</td>\n",
       "      <td>0</td>\n",
       "      <td>0</td>\n",
       "      <td>1.0</td>\n",
       "    </tr>\n",
       "    <tr>\n",
       "      <th>3</th>\n",
       "      <td>0.66</td>\n",
       "      <td>38</td>\n",
       "      <td>1</td>\n",
       "      <td>0.09</td>\n",
       "      <td>3042.0</td>\n",
       "      <td>2</td>\n",
       "      <td>1</td>\n",
       "      <td>0</td>\n",
       "      <td>0</td>\n",
       "      <td>0.0</td>\n",
       "    </tr>\n",
       "    <tr>\n",
       "      <th>4</th>\n",
       "      <td>0.23</td>\n",
       "      <td>30</td>\n",
       "      <td>0</td>\n",
       "      <td>0.04</td>\n",
       "      <td>3300.0</td>\n",
       "      <td>5</td>\n",
       "      <td>0</td>\n",
       "      <td>0</td>\n",
       "      <td>0</td>\n",
       "      <td>0.0</td>\n",
       "    </tr>\n",
       "    <tr>\n",
       "      <th>5</th>\n",
       "      <td>0.91</td>\n",
       "      <td>49</td>\n",
       "      <td>1</td>\n",
       "      <td>0.02</td>\n",
       "      <td>63588.0</td>\n",
       "      <td>7</td>\n",
       "      <td>0</td>\n",
       "      <td>1</td>\n",
       "      <td>0</td>\n",
       "      <td>0.0</td>\n",
       "    </tr>\n",
       "  </tbody>\n",
       "</table>\n",
       "</div>"
      ],
      "text/plain": [
       "    RevolvingUtilizationOfUnsecuredLines  age  \\\n",
       "Id                                              \n",
       "1                                   0.77   45   \n",
       "2                                   0.96   40   \n",
       "3                                   0.66   38   \n",
       "4                                   0.23   30   \n",
       "5                                   0.91   49   \n",
       "\n",
       "    NumberOfTime30-59DaysPastDueNotWorse  DebtRatio  MonthlyIncome  \\\n",
       "Id                                                                   \n",
       "1                                      2       0.80         9120.0   \n",
       "2                                      0       0.12         2600.0   \n",
       "3                                      1       0.09         3042.0   \n",
       "4                                      0       0.04         3300.0   \n",
       "5                                      1       0.02        63588.0   \n",
       "\n",
       "    NumberOfOpenCreditLinesAndLoans  NumberOfTimes90DaysLate  \\\n",
       "Id                                                             \n",
       "1                                13                        0   \n",
       "2                                 4                        0   \n",
       "3                                 2                        1   \n",
       "4                                 5                        0   \n",
       "5                                 7                        0   \n",
       "\n",
       "    NumberRealEstateLoansOrLines  NumberOfTime60-89DaysPastDueNotWorse  \\\n",
       "Id                                                                       \n",
       "1                              6                                     0   \n",
       "2                              0                                     0   \n",
       "3                              0                                     0   \n",
       "4                              0                                     0   \n",
       "5                              1                                     0   \n",
       "\n",
       "    NumberOfDependents  \n",
       "Id                      \n",
       "1                  2.0  \n",
       "2                  1.0  \n",
       "3                  0.0  \n",
       "4                  0.0  \n",
       "5                  0.0  "
      ]
     },
     "execution_count": 9,
     "metadata": {},
     "output_type": "execute_result"
    }
   ],
   "source": [
    "float_cols = train_data.select_dtypes('float').columns\n",
    "train_data.loc[:, float_cols] = train_data.loc[:, float_cols].round(2)\n",
    "train_data.head()"
   ]
  },
  {
   "cell_type": "code",
   "execution_count": 10,
   "metadata": {},
   "outputs": [
    {
     "data": {
      "text/html": [
       "<div>\n",
       "<style scoped>\n",
       "    .dataframe tbody tr th:only-of-type {\n",
       "        vertical-align: middle;\n",
       "    }\n",
       "\n",
       "    .dataframe tbody tr th {\n",
       "        vertical-align: top;\n",
       "    }\n",
       "\n",
       "    .dataframe thead th {\n",
       "        text-align: right;\n",
       "    }\n",
       "</style>\n",
       "<table border=\"1\" class=\"dataframe\">\n",
       "  <thead>\n",
       "    <tr style=\"text-align: right;\">\n",
       "      <th></th>\n",
       "      <th>RevolvingUtilizationOfUnsecuredLines</th>\n",
       "      <th>age</th>\n",
       "      <th>NumberOfTime30-59DaysPastDueNotWorse</th>\n",
       "      <th>DebtRatio</th>\n",
       "      <th>MonthlyIncome</th>\n",
       "      <th>NumberOfOpenCreditLinesAndLoans</th>\n",
       "      <th>NumberOfTimes90DaysLate</th>\n",
       "      <th>NumberRealEstateLoansOrLines</th>\n",
       "      <th>NumberOfTime60-89DaysPastDueNotWorse</th>\n",
       "      <th>NumberOfDependents</th>\n",
       "    </tr>\n",
       "    <tr>\n",
       "      <th>Id</th>\n",
       "      <th></th>\n",
       "      <th></th>\n",
       "      <th></th>\n",
       "      <th></th>\n",
       "      <th></th>\n",
       "      <th></th>\n",
       "      <th></th>\n",
       "      <th></th>\n",
       "      <th></th>\n",
       "      <th></th>\n",
       "    </tr>\n",
       "  </thead>\n",
       "  <tbody>\n",
       "    <tr>\n",
       "      <th>1</th>\n",
       "      <td>0.89</td>\n",
       "      <td>43</td>\n",
       "      <td>0</td>\n",
       "      <td>0.18</td>\n",
       "      <td>5700.0</td>\n",
       "      <td>4</td>\n",
       "      <td>0</td>\n",
       "      <td>0</td>\n",
       "      <td>0</td>\n",
       "      <td>0.0</td>\n",
       "    </tr>\n",
       "    <tr>\n",
       "      <th>2</th>\n",
       "      <td>0.46</td>\n",
       "      <td>57</td>\n",
       "      <td>0</td>\n",
       "      <td>0.53</td>\n",
       "      <td>9141.0</td>\n",
       "      <td>15</td>\n",
       "      <td>0</td>\n",
       "      <td>4</td>\n",
       "      <td>0</td>\n",
       "      <td>2.0</td>\n",
       "    </tr>\n",
       "    <tr>\n",
       "      <th>3</th>\n",
       "      <td>0.04</td>\n",
       "      <td>59</td>\n",
       "      <td>0</td>\n",
       "      <td>0.69</td>\n",
       "      <td>5083.0</td>\n",
       "      <td>12</td>\n",
       "      <td>0</td>\n",
       "      <td>1</td>\n",
       "      <td>0</td>\n",
       "      <td>2.0</td>\n",
       "    </tr>\n",
       "    <tr>\n",
       "      <th>4</th>\n",
       "      <td>0.28</td>\n",
       "      <td>38</td>\n",
       "      <td>1</td>\n",
       "      <td>0.93</td>\n",
       "      <td>3200.0</td>\n",
       "      <td>7</td>\n",
       "      <td>0</td>\n",
       "      <td>2</td>\n",
       "      <td>0</td>\n",
       "      <td>0.0</td>\n",
       "    </tr>\n",
       "    <tr>\n",
       "      <th>5</th>\n",
       "      <td>1.00</td>\n",
       "      <td>27</td>\n",
       "      <td>0</td>\n",
       "      <td>0.02</td>\n",
       "      <td>3865.0</td>\n",
       "      <td>4</td>\n",
       "      <td>0</td>\n",
       "      <td>0</td>\n",
       "      <td>0</td>\n",
       "      <td>1.0</td>\n",
       "    </tr>\n",
       "  </tbody>\n",
       "</table>\n",
       "</div>"
      ],
      "text/plain": [
       "    RevolvingUtilizationOfUnsecuredLines  age  \\\n",
       "Id                                              \n",
       "1                                   0.89   43   \n",
       "2                                   0.46   57   \n",
       "3                                   0.04   59   \n",
       "4                                   0.28   38   \n",
       "5                                   1.00   27   \n",
       "\n",
       "    NumberOfTime30-59DaysPastDueNotWorse  DebtRatio  MonthlyIncome  \\\n",
       "Id                                                                   \n",
       "1                                      0       0.18         5700.0   \n",
       "2                                      0       0.53         9141.0   \n",
       "3                                      0       0.69         5083.0   \n",
       "4                                      1       0.93         3200.0   \n",
       "5                                      0       0.02         3865.0   \n",
       "\n",
       "    NumberOfOpenCreditLinesAndLoans  NumberOfTimes90DaysLate  \\\n",
       "Id                                                             \n",
       "1                                 4                        0   \n",
       "2                                15                        0   \n",
       "3                                12                        0   \n",
       "4                                 7                        0   \n",
       "5                                 4                        0   \n",
       "\n",
       "    NumberRealEstateLoansOrLines  NumberOfTime60-89DaysPastDueNotWorse  \\\n",
       "Id                                                                       \n",
       "1                              0                                     0   \n",
       "2                              4                                     0   \n",
       "3                              1                                     0   \n",
       "4                              2                                     0   \n",
       "5                              0                                     0   \n",
       "\n",
       "    NumberOfDependents  \n",
       "Id                      \n",
       "1                  0.0  \n",
       "2                  2.0  \n",
       "3                  2.0  \n",
       "4                  0.0  \n",
       "5                  1.0  "
      ]
     },
     "execution_count": 10,
     "metadata": {},
     "output_type": "execute_result"
    }
   ],
   "source": [
    "float_cols = test_data.select_dtypes('float').columns\n",
    "test_data.loc[:, float_cols] = test_data.loc[:, float_cols].round(2)\n",
    "test_data.head()"
   ]
  },
  {
   "cell_type": "code",
   "execution_count": 11,
   "metadata": {},
   "outputs": [
    {
     "data": {
      "text/html": [
       "<div>\n",
       "<style scoped>\n",
       "    .dataframe tbody tr th:only-of-type {\n",
       "        vertical-align: middle;\n",
       "    }\n",
       "\n",
       "    .dataframe tbody tr th {\n",
       "        vertical-align: top;\n",
       "    }\n",
       "\n",
       "    .dataframe thead th {\n",
       "        text-align: right;\n",
       "    }\n",
       "</style>\n",
       "<table border=\"1\" class=\"dataframe\">\n",
       "  <thead>\n",
       "    <tr style=\"text-align: right;\">\n",
       "      <th></th>\n",
       "      <th>RevolvingUtilizationOfUnsecuredLines</th>\n",
       "      <th>age</th>\n",
       "      <th>NumberOfTime30-59DaysPastDueNotWorse</th>\n",
       "      <th>DebtRatio</th>\n",
       "      <th>MonthlyIncome</th>\n",
       "      <th>NumberOfOpenCreditLinesAndLoans</th>\n",
       "      <th>NumberOfTimes90DaysLate</th>\n",
       "      <th>NumberRealEstateLoansOrLines</th>\n",
       "      <th>NumberOfTime60-89DaysPastDueNotWorse</th>\n",
       "      <th>NumberOfDependents</th>\n",
       "    </tr>\n",
       "    <tr>\n",
       "      <th>Id</th>\n",
       "      <th></th>\n",
       "      <th></th>\n",
       "      <th></th>\n",
       "      <th></th>\n",
       "      <th></th>\n",
       "      <th></th>\n",
       "      <th></th>\n",
       "      <th></th>\n",
       "      <th></th>\n",
       "      <th></th>\n",
       "    </tr>\n",
       "  </thead>\n",
       "  <tbody>\n",
       "    <tr>\n",
       "      <th>1</th>\n",
       "      <td>(0.77, 0.77)</td>\n",
       "      <td>(45, 45)</td>\n",
       "      <td>(2, 2)</td>\n",
       "      <td>(0.8, 0.8)</td>\n",
       "      <td>(9120.0, 9120.0)</td>\n",
       "      <td>(13, 13)</td>\n",
       "      <td>(0, 0)</td>\n",
       "      <td>(6, 6)</td>\n",
       "      <td>(0, 0)</td>\n",
       "      <td>(2.0, 2.0)</td>\n",
       "    </tr>\n",
       "    <tr>\n",
       "      <th>2</th>\n",
       "      <td>(0.96, 0.96)</td>\n",
       "      <td>(40, 40)</td>\n",
       "      <td>(0, 0)</td>\n",
       "      <td>(0.12, 0.12)</td>\n",
       "      <td>(2600.0, 2600.0)</td>\n",
       "      <td>(4, 4)</td>\n",
       "      <td>(0, 0)</td>\n",
       "      <td>(0, 0)</td>\n",
       "      <td>(0, 0)</td>\n",
       "      <td>(1.0, 1.0)</td>\n",
       "    </tr>\n",
       "    <tr>\n",
       "      <th>3</th>\n",
       "      <td>(0.66, 0.66)</td>\n",
       "      <td>(38, 38)</td>\n",
       "      <td>(1, 1)</td>\n",
       "      <td>(0.09, 0.09)</td>\n",
       "      <td>(3042.0, 3042.0)</td>\n",
       "      <td>(2, 2)</td>\n",
       "      <td>(1, 1)</td>\n",
       "      <td>(0, 0)</td>\n",
       "      <td>(0, 0)</td>\n",
       "      <td>(0.0, 0.0)</td>\n",
       "    </tr>\n",
       "    <tr>\n",
       "      <th>4</th>\n",
       "      <td>(0.23, 0.23)</td>\n",
       "      <td>(30, 30)</td>\n",
       "      <td>(0, 0)</td>\n",
       "      <td>(0.04, 0.04)</td>\n",
       "      <td>(3300.0, 3300.0)</td>\n",
       "      <td>(5, 5)</td>\n",
       "      <td>(0, 0)</td>\n",
       "      <td>(0, 0)</td>\n",
       "      <td>(0, 0)</td>\n",
       "      <td>(0.0, 0.0)</td>\n",
       "    </tr>\n",
       "    <tr>\n",
       "      <th>5</th>\n",
       "      <td>(0.91, 0.91)</td>\n",
       "      <td>(49, 49)</td>\n",
       "      <td>(1, 1)</td>\n",
       "      <td>(0.02, 0.02)</td>\n",
       "      <td>(63588.0, 63588.0)</td>\n",
       "      <td>(7, 7)</td>\n",
       "      <td>(0, 0)</td>\n",
       "      <td>(1, 1)</td>\n",
       "      <td>(0, 0)</td>\n",
       "      <td>(0.0, 0.0)</td>\n",
       "    </tr>\n",
       "  </tbody>\n",
       "</table>\n",
       "</div>"
      ],
      "text/plain": [
       "   RevolvingUtilizationOfUnsecuredLines       age  \\\n",
       "Id                                                  \n",
       "1                          (0.77, 0.77)  (45, 45)   \n",
       "2                          (0.96, 0.96)  (40, 40)   \n",
       "3                          (0.66, 0.66)  (38, 38)   \n",
       "4                          (0.23, 0.23)  (30, 30)   \n",
       "5                          (0.91, 0.91)  (49, 49)   \n",
       "\n",
       "   NumberOfTime30-59DaysPastDueNotWorse     DebtRatio       MonthlyIncome  \\\n",
       "Id                                                                          \n",
       "1                                (2, 2)    (0.8, 0.8)    (9120.0, 9120.0)   \n",
       "2                                (0, 0)  (0.12, 0.12)    (2600.0, 2600.0)   \n",
       "3                                (1, 1)  (0.09, 0.09)    (3042.0, 3042.0)   \n",
       "4                                (0, 0)  (0.04, 0.04)    (3300.0, 3300.0)   \n",
       "5                                (1, 1)  (0.02, 0.02)  (63588.0, 63588.0)   \n",
       "\n",
       "   NumberOfOpenCreditLinesAndLoans NumberOfTimes90DaysLate  \\\n",
       "Id                                                           \n",
       "1                         (13, 13)                  (0, 0)   \n",
       "2                           (4, 4)                  (0, 0)   \n",
       "3                           (2, 2)                  (1, 1)   \n",
       "4                           (5, 5)                  (0, 0)   \n",
       "5                           (7, 7)                  (0, 0)   \n",
       "\n",
       "   NumberRealEstateLoansOrLines NumberOfTime60-89DaysPastDueNotWorse  \\\n",
       "Id                                                                     \n",
       "1                        (6, 6)                               (0, 0)   \n",
       "2                        (0, 0)                               (0, 0)   \n",
       "3                        (0, 0)                               (0, 0)   \n",
       "4                        (0, 0)                               (0, 0)   \n",
       "5                        (1, 1)                               (0, 0)   \n",
       "\n",
       "   NumberOfDependents  \n",
       "Id                     \n",
       "1          (2.0, 2.0)  \n",
       "2          (1.0, 1.0)  \n",
       "3          (0.0, 0.0)  \n",
       "4          (0.0, 0.0)  \n",
       "5          (0.0, 0.0)  "
      ]
     },
     "execution_count": 11,
     "metadata": {},
     "output_type": "execute_result"
    }
   ],
   "source": [
    "transformed_train = transform_to_description(train_data)\n",
    "transformed_test = transform_to_description(test_data)\n",
    "transformed_train.head(5)"
   ]
  },
  {
   "cell_type": "code",
   "execution_count": 12,
   "metadata": {},
   "outputs": [
    {
     "data": {
      "text/plain": [
       "((150000, 10), (101503, 10))"
      ]
     },
     "execution_count": 12,
     "metadata": {},
     "output_type": "execute_result"
    }
   ],
   "source": [
    "transformed_train.shape, transformed_test.shape"
   ]
  },
  {
   "cell_type": "code",
   "execution_count": null,
   "metadata": {},
   "outputs": [],
   "source": []
  },
  {
   "cell_type": "code",
   "execution_count": null,
   "metadata": {},
   "outputs": [],
   "source": []
  },
  {
   "cell_type": "code",
   "execution_count": 13,
   "metadata": {},
   "outputs": [],
   "source": [
    "def similarity(vect1, vect2):\n",
    "    \n",
    "    \"\"\"\n",
    "    previous version:\n",
    "     vect1 = transformed_train.iloc[0]\n",
    "     vect2 = transformed_train.iloc[2]\n",
    "     func = (lambda x,y: (min(x[0], y[0]), max(x[1], y[1])))\n",
    "     pd.Series(map(func, vect1, vect2), index=train_data.columns)\n",
    "    \n",
    "     for col in cols:\n",
    "     vect_min = min(vect1.loc[col][0], vect2.loc[col][0])\n",
    "     vect_max = max(vect1.loc[col][1], vect2.loc[col][1])\n",
    "     vect[col] = (vect_min, vect_max)\n",
    "    \"\"\"\n",
    "    \n",
    "    func = lambda x, y: (min(x[0], y[0]), max(x[1], y[1]))\n",
    "    vect = pd.Series(map(func, vect1, vect2), index=vect1.index)\n",
    "    return vect\n",
    "\n",
    "def inclusion(obj, patterns):\n",
    "    \"\"\"\n",
    "    check where an obj is inluded in list of patterns\n",
    "    is_include = any([all(obj == elem) for elem in patterns])\n",
    "    \"\"\"     \n",
    "    is_include = any([obj.equals(elem) for elem in patterns])\n",
    "    return  is_include"
   ]
  },
  {
   "cell_type": "code",
   "execution_count": null,
   "metadata": {},
   "outputs": [],
   "source": []
  },
  {
   "cell_type": "code",
   "execution_count": null,
   "metadata": {},
   "outputs": [],
   "source": []
  },
  {
   "cell_type": "code",
   "execution_count": null,
   "metadata": {},
   "outputs": [],
   "source": []
  },
  {
   "cell_type": "markdown",
   "metadata": {},
   "source": [
    "**Алгоритм из работы Алексея(QBCA)**"
   ]
  },
  {
   "cell_type": "code",
   "execution_count": 98,
   "metadata": {},
   "outputs": [
    {
     "data": {
      "text/plain": [
       "(139974, 10026)"
      ]
     },
     "execution_count": 98,
     "metadata": {},
     "output_type": "execute_result"
    }
   ],
   "source": [
    "alpha = 0.0001\n",
    "sample_ratio = 0.003#parameter\n",
    "num_iters = 10#parameter\n",
    "N_neg = train_label.value_counts().reset_index().iloc[0, 1]\n",
    "N_pos = train_label.value_counts().reset_index().iloc[1, 1]\n",
    "N_neg, N_pos"
   ]
  },
  {
   "cell_type": "code",
   "execution_count": 15,
   "metadata": {},
   "outputs": [
    {
     "data": {
      "text/plain": [
       "((139974, 10), (10026, 10))"
      ]
     },
     "execution_count": 15,
     "metadata": {},
     "output_type": "execute_result"
    }
   ],
   "source": [
    "train_pos = transformed_train.loc[train_label[train_label == 1].index]\n",
    "train_neg = transformed_train.loc[train_label[train_label == 0].index]\n",
    "#не обновляем индекс так как индекс - это id клиента, имеет значимую информацию\n",
    "train_neg.shape, train_pos.shape"
   ]
  },
  {
   "cell_type": "code",
   "execution_count": 16,
   "metadata": {},
   "outputs": [],
   "source": [
    "def get_similarity_sample_repr(sample: pd.DataFrame):\n",
    "    \n",
    "    \"\"\"\n",
    "    get sample of feature represantations from pos or neg class dataset\n",
    "    returns feature represantation for sample by similarity operation\n",
    "    \"\"\"\n",
    "    pattern = None\n",
    "    for i, obj in sample.iterrows():\n",
    "        if pattern is None:\n",
    "            pattern = obj\n",
    "        pattern = similarity(pattern, obj)\n",
    "    return pattern\n",
    "    \n",
    "#операция нахождения объектов по признаковому представлению\n",
    "def is_included_in_repr(d, train_data):\n",
    "    \"\"\"\n",
    "    returns objects from train dataset(from train pos and neg data) that is included in d representation\n",
    "    \"\"\"\n",
    "    \n",
    "    d_list = []\n",
    "    \n",
    "    for i, obj in train_data.iterrows():\n",
    "        feature_repr = similarity(obj, d)\n",
    "        is_included = d.equals(feature_repr)\n",
    "        if is_included:\n",
    "            d_list.append(obj)\n",
    "            \n",
    "    return d_list\n",
    "\n",
    "\n",
    "def generate_hypothesises():\n",
    "    return None"
   ]
  },
  {
   "cell_type": "markdown",
   "metadata": {},
   "source": [
    "### Mining step\n",
    "\n",
    "\n",
    "    для положительного класса нас интересуют объекты отрицательного класса, \n",
    "    а для отрицательного - положительные\n",
    "    Уже после определения объектов из другого класса, попадающие в признаковое представление семпла данных, будет приниматься решение\n",
    "     о включение этого признакого представление в список гипотез представления(областей или интервальных представлений)\n",
    "    "
   ]
  },
  {
   "cell_type": "code",
   "execution_count": null,
   "metadata": {},
   "outputs": [],
   "source": []
  },
  {
   "cell_type": "markdown",
   "metadata": {},
   "source": [
    "При первом запуске сразу видно, что требуется очень много времени для генерации гипотез\n",
    "\n",
    "1) Нужно переписать цикл, и выразить его в виде функции\n",
    "2) Протестировать время работы генерации признаков для полож и отриц класса\n",
    "3) Посмотреть как можно добавить распараллеливание\n",
    "4) Протестировать в параллельном режиме"
   ]
  },
  {
   "cell_type": "markdown",
   "metadata": {},
   "source": [
    "To-do-list:\n",
    "\n",
    "1. **Нужно добавить логинг**\n",
    "2. **Нужно также проанализировать время работы и качество**\n",
    "3. **классификации при разном включении признаков из исходного множества**\n",
    "\n",
    "To-do-list\n",
    "1. Нужно раcпараллелить через процессы\n",
    "2. Подумать о том, каким образом генерить гипотезы. То есть выбирать не случайно выборку из множества объектов, а какую-то локальную область."
   ]
  },
  {
   "cell_type": "code",
   "execution_count": null,
   "metadata": {},
   "outputs": [],
   "source": []
  },
  {
   "cell_type": "code",
   "execution_count": null,
   "metadata": {},
   "outputs": [],
   "source": []
  },
  {
   "cell_type": "code",
   "execution_count": 92,
   "metadata": {},
   "outputs": [],
   "source": [
    "def generate_gypothesis(iteration: int,\n",
    "                        obj: pd.Series, \n",
    "                        train_data: pd.DataFrame, \n",
    "                        other_data: pd.DataFrame, \n",
    "                        sample_size: int, \n",
    "                        verbose: bool,\n",
    "                        other_data_size: int, \n",
    "                        alpha: float):\n",
    "        \n",
    "        \"\"\"\n",
    "        #get feature represantation for this objects sample\n",
    "        #test object + random sample from pos or neg class)\n",
    "        #get objects from other class that has feature represantation\n",
    "        #which is included in d\n",
    "        \n",
    "        \"\"\"\n",
    "        print(f'iteration: {iteration}')\n",
    "        \n",
    "        inds = np.random.choice(train_data.index, replace=False, size=sample_size)\n",
    "        sample = train_data.loc[inds, :].copy()\n",
    "        sample = sample.append(obj)\n",
    "        \n",
    "        d = get_similarity_sample_repr(sample)\n",
    "        if verbose:\n",
    "            print('got feature represantation for sample')\n",
    "        \n",
    "        d_sim_objects = is_included_in_repr(d, train_data=other_data)\n",
    "        #print(f'got {len(d_sim_objects)} d_sim_objects')\n",
    "        \n",
    "        if verbose:\n",
    "            print('got objects that is included in sample represantation')\n",
    "            \n",
    "        if d_sim_objects is None:\n",
    "            print('did not find any hypothesis on this iteration')\n",
    "            return None\n",
    "        if len(d_sim_objects) <= int(other_data_size * alpha):\n",
    "            return d\n",
    "        else:\n",
    "            return None\n",
    "\n",
    "def mining_step(test_obj: pd.Series, train_pos: pd.DataFrame, train_neg: pd.DataFrame,\n",
    "                num_iters: int, sample_ratio: float, alpha: float, mining_type: str = 'pos', \n",
    "                verbose : bool = False):\n",
    "    \"\"\"\n",
    "    returns list of hypothesises\n",
    "    \"\"\"\n",
    "    \n",
    "    n_jobs = 4\n",
    "    train_data = train_pos if mining_type == 'pos' else train_neg\n",
    "    other_data = train_neg if mining_type == 'pos' else train_pos\n",
    "    other_data_size = train_neg.shape[0] if mining_type == 'pos' else train_pos.shape[0]\n",
    "    \n",
    "    sample_size = int(train_data.shape[0] * sample_ratio)\n",
    "    print(f'using sample size = {sample_size}')\n",
    "    print(f'other data size = {other_data_size}')\n",
    "    print(f'other data rate size = {int(other_data_size * alpha)}')\n",
    "    print('start generating hypothesises')\n",
    "    \n",
    "    mining = partial(generate_gypothesis, \n",
    "                     obj=test_obj, \n",
    "                     train_data=train_data, \n",
    "                     other_data=other_data, \n",
    "                     sample_size=sample_size, \n",
    "                     verbose=verbose, \n",
    "                     other_data_size=other_data_size,\n",
    "                     alpha=alpha\n",
    "                    )\n",
    "    \n",
    "    with ProcessPoolExecutor(max_workers=n_jobs) as executor:\n",
    "        hypothesises = executor.map(mining, range(num_iters))\n",
    "\n",
    "    hypothesises = [res for res in hypothesises if res is not None]\n",
    "    return hypothesises\n",
    "    "
   ]
  },
  {
   "cell_type": "code",
   "execution_count": 84,
   "metadata": {},
   "outputs": [
    {
     "data": {
      "text/html": [
       "<div>\n",
       "<style scoped>\n",
       "    .dataframe tbody tr th:only-of-type {\n",
       "        vertical-align: middle;\n",
       "    }\n",
       "\n",
       "    .dataframe tbody tr th {\n",
       "        vertical-align: top;\n",
       "    }\n",
       "\n",
       "    .dataframe thead th {\n",
       "        text-align: right;\n",
       "    }\n",
       "</style>\n",
       "<table border=\"1\" class=\"dataframe\">\n",
       "  <thead>\n",
       "    <tr style=\"text-align: right;\">\n",
       "      <th></th>\n",
       "      <th>RevolvingUtilizationOfUnsecuredLines</th>\n",
       "      <th>age</th>\n",
       "      <th>NumberOfTime30-59DaysPastDueNotWorse</th>\n",
       "      <th>DebtRatio</th>\n",
       "      <th>MonthlyIncome</th>\n",
       "      <th>NumberOfOpenCreditLinesAndLoans</th>\n",
       "      <th>NumberOfTimes90DaysLate</th>\n",
       "      <th>NumberRealEstateLoansOrLines</th>\n",
       "      <th>NumberOfTime60-89DaysPastDueNotWorse</th>\n",
       "      <th>NumberOfDependents</th>\n",
       "    </tr>\n",
       "    <tr>\n",
       "      <th>Id</th>\n",
       "      <th></th>\n",
       "      <th></th>\n",
       "      <th></th>\n",
       "      <th></th>\n",
       "      <th></th>\n",
       "      <th></th>\n",
       "      <th></th>\n",
       "      <th></th>\n",
       "      <th></th>\n",
       "      <th></th>\n",
       "    </tr>\n",
       "  </thead>\n",
       "  <tbody>\n",
       "    <tr>\n",
       "      <th>1</th>\n",
       "      <td>(0.89, 0.89)</td>\n",
       "      <td>(43, 43)</td>\n",
       "      <td>(0, 0)</td>\n",
       "      <td>(0.18, 0.18)</td>\n",
       "      <td>(5700.0, 5700.0)</td>\n",
       "      <td>(4, 4)</td>\n",
       "      <td>(0, 0)</td>\n",
       "      <td>(0, 0)</td>\n",
       "      <td>(0, 0)</td>\n",
       "      <td>(0.0, 0.0)</td>\n",
       "    </tr>\n",
       "    <tr>\n",
       "      <th>2</th>\n",
       "      <td>(0.46, 0.46)</td>\n",
       "      <td>(57, 57)</td>\n",
       "      <td>(0, 0)</td>\n",
       "      <td>(0.53, 0.53)</td>\n",
       "      <td>(9141.0, 9141.0)</td>\n",
       "      <td>(15, 15)</td>\n",
       "      <td>(0, 0)</td>\n",
       "      <td>(4, 4)</td>\n",
       "      <td>(0, 0)</td>\n",
       "      <td>(2.0, 2.0)</td>\n",
       "    </tr>\n",
       "  </tbody>\n",
       "</table>\n",
       "</div>"
      ],
      "text/plain": [
       "   RevolvingUtilizationOfUnsecuredLines       age  \\\n",
       "Id                                                  \n",
       "1                          (0.89, 0.89)  (43, 43)   \n",
       "2                          (0.46, 0.46)  (57, 57)   \n",
       "\n",
       "   NumberOfTime30-59DaysPastDueNotWorse     DebtRatio     MonthlyIncome  \\\n",
       "Id                                                                        \n",
       "1                                (0, 0)  (0.18, 0.18)  (5700.0, 5700.0)   \n",
       "2                                (0, 0)  (0.53, 0.53)  (9141.0, 9141.0)   \n",
       "\n",
       "   NumberOfOpenCreditLinesAndLoans NumberOfTimes90DaysLate  \\\n",
       "Id                                                           \n",
       "1                           (4, 4)                  (0, 0)   \n",
       "2                         (15, 15)                  (0, 0)   \n",
       "\n",
       "   NumberRealEstateLoansOrLines NumberOfTime60-89DaysPastDueNotWorse  \\\n",
       "Id                                                                     \n",
       "1                        (0, 0)                               (0, 0)   \n",
       "2                        (4, 4)                               (0, 0)   \n",
       "\n",
       "   NumberOfDependents  \n",
       "Id                     \n",
       "1          (0.0, 0.0)  \n",
       "2          (2.0, 2.0)  "
      ]
     },
     "execution_count": 84,
     "metadata": {},
     "output_type": "execute_result"
    }
   ],
   "source": [
    "test_sample = transformed_test.loc[:2]\n",
    "test_sample"
   ]
  },
  {
   "cell_type": "code",
   "execution_count": 99,
   "metadata": {},
   "outputs": [
    {
     "data": {
      "text/plain": [
       "(10, 0.0001, 0.003)"
      ]
     },
     "execution_count": 99,
     "metadata": {},
     "output_type": "execute_result"
    }
   ],
   "source": [
    "num_iters, alpha, sample_ratio"
   ]
  },
  {
   "cell_type": "code",
   "execution_count": 80,
   "metadata": {},
   "outputs": [],
   "source": [
    "a = [1, 2, 3]\n",
    "b = [10, 10]"
   ]
  },
  {
   "cell_type": "code",
   "execution_count": 81,
   "metadata": {},
   "outputs": [],
   "source": [
    "b.extend(a)"
   ]
  },
  {
   "cell_type": "code",
   "execution_count": null,
   "metadata": {},
   "outputs": [],
   "source": []
  },
  {
   "cell_type": "code",
   "execution_count": null,
   "metadata": {},
   "outputs": [],
   "source": []
  },
  {
   "cell_type": "code",
   "execution_count": 100,
   "metadata": {},
   "outputs": [
    {
     "name": "stdout",
     "output_type": "stream",
     "text": [
      "start mining from pos objects\n",
      "using sample size = 30\n",
      "other data size = 139974\n",
      "other data rate size = 13\n",
      "start generating hypothesises\n",
      "iteration: 0\n",
      "iteration: 1\n",
      "iteration: 2\n",
      "iteration: 3\n",
      "iteration: 4\n",
      "iteration: 5\n",
      "iteration: 6\n",
      "iteration: 7\n",
      "iteration: 8\n",
      "iteration: 9\n",
      "start mining from neg objects\n",
      "using sample size = 419\n",
      "other data size = 10026\n",
      "other data rate size = 1\n",
      "start generating hypothesises\n",
      "iteration: 0\n",
      "iteration: 1\n",
      "iteration: 2\n",
      "iteration: 3\n",
      "iteration: 4\n",
      "iteration: 5\n",
      "iteration: 6\n",
      "iteration: 7\n",
      "iteration: 8\n",
      "iteration: 9\n"
     ]
    }
   ],
   "source": [
    "for i, obj in test_sample.iterrows():\n",
    "    \n",
    "    print(f'start mining from pos objects')\n",
    "    pos_hyps = mining_step(test_obj=obj, \n",
    "                           train_pos=train_pos,\n",
    "                           train_neg=train_neg,\n",
    "                           num_iters=num_iters,\n",
    "                           sample_ratio=sample_ratio, \n",
    "                           alpha = alpha, \n",
    "                           mining_type='pos', \n",
    "                           verbose=False\n",
    "                          )\n",
    "    print(f'start mining from neg objects')\n",
    "    neg_hyps = mining_step(test_obj=obj,\n",
    "                           train_pos=train_pos,\n",
    "                           train_neg=train_neg,\n",
    "                           num_iters=num_iters,\n",
    "                           sample_ratio=sample_ratio,\n",
    "                           alpha = alpha,\n",
    "                           mining_type='neg',\n",
    "                           verbose=False\n",
    "                          )\n",
    "    break"
   ]
  },
  {
   "cell_type": "code",
   "execution_count": 102,
   "metadata": {},
   "outputs": [
    {
     "data": {
      "text/plain": [
       "[]"
      ]
     },
     "execution_count": 102,
     "metadata": {},
     "output_type": "execute_result"
    }
   ],
   "source": []
  },
  {
   "cell_type": "code",
   "execution_count": 58,
   "metadata": {},
   "outputs": [],
   "source": [
    "# some_data = [1,1,1,3,3,3,5,5,5]\n",
    "def some_func_internal(x):\n",
    "    print(x)\n",
    "    print(some_data)\n",
    "    return sum(some_data[:x])\n",
    "\n",
    "def some_func_external(some_data):\n",
    "    some_data = list(range(16))\n",
    "    \n",
    "    with ProcessPoolExecutor(max_workers=2) as executor:\n",
    "        results = executor.map(some_func_internal, range(8))\n",
    "        \n",
    "#     print(results)"
   ]
  },
  {
   "cell_type": "code",
   "execution_count": 59,
   "metadata": {},
   "outputs": [
    {
     "ename": "NameError",
     "evalue": "name 'some_data' is not defined",
     "output_type": "error",
     "traceback": [
      "\u001b[0;31m---------------------------------------------------------------------------\u001b[0m",
      "\u001b[0;31mNameError\u001b[0m                                 Traceback (most recent call last)",
      "\u001b[0;32m<ipython-input-59-ae08d675594e>\u001b[0m in \u001b[0;36m<module>\u001b[0;34m()\u001b[0m\n\u001b[0;32m----> 1\u001b[0;31m \u001b[0msome_func_external\u001b[0m\u001b[0;34m(\u001b[0m\u001b[0msome_data\u001b[0m\u001b[0;34m)\u001b[0m\u001b[0;34m\u001b[0m\u001b[0m\n\u001b[0m",
      "\u001b[0;31mNameError\u001b[0m: name 'some_data' is not defined"
     ]
    }
   ],
   "source": [
    "some_func_external(some_data)"
   ]
  },
  {
   "cell_type": "code",
   "execution_count": 60,
   "metadata": {},
   "outputs": [],
   "source": [
    "from functools import partial"
   ]
  },
  {
   "cell_type": "code",
   "execution_count": 71,
   "metadata": {},
   "outputs": [],
   "source": [
    "def some_strange_func(x, y, z):\n",
    "    return x+y+z"
   ]
  },
  {
   "cell_type": "code",
   "execution_count": 76,
   "metadata": {},
   "outputs": [],
   "source": [
    "new_some_func = partial(some_strange_func, z=2, y=5)"
   ]
  },
  {
   "cell_type": "code",
   "execution_count": null,
   "metadata": {},
   "outputs": [],
   "source": []
  },
  {
   "cell_type": "code",
   "execution_count": 82,
   "metadata": {},
   "outputs": [],
   "source": [
    "# #здесь явно нужно написать отдельнцю функцию для этого\n",
    "# for i, obj in test_sample.iterrows():\n",
    "#     pos_gypothesis = [] \n",
    "#     neg_gypothesis = []\n",
    "#     sample_size = int(N_pos * sample_ratio)\n",
    "#     print('start generating pos gypothesis')\n",
    "#     for itr in range(num_iters):\n",
    "#         print(f'[{itr}] ...')\n",
    "#         #generating sample\n",
    "#         inds = np.random.choice(range(N_pos), size=sample_size)\n",
    "#         sample = train_pos.loc[inds, :]\n",
    "#         #append test object to pos sample\n",
    "#         sample = sample.append(obj)\n",
    "#         #get feature represantation for this objects sample\n",
    "#         #test object + random sample from pos class)\n",
    "#         d = get_similarity_sample_repr(sample)\n",
    "#         #get objects from neg class that has feature represantation\n",
    "#         #which is included in d\n",
    "#         d_sim_objects = is_included_in_repr(d, train_data=train_neg)\n",
    "#         if d_sim_objects is None:\n",
    "#             continue\n",
    "#         if len(d_sim_objects) <= int(N_neg * alpha):\n",
    "#             pos_gypothesis.append(xd)\n",
    "            \n",
    "#     #the same mining step for neg class\n",
    "#     sample_size = int(N_neg * sample_ratio)\n",
    "#     print('start generating neg gypothesis')\n",
    "#     for itr in range(num_iters):\n",
    "#         print(f'[{itr}] ...')\n",
    "#         #generating sample\n",
    "#         inds = np.random.choice(range(N_neg), size=sample_size)\n",
    "#         sample = train_neg.loc[inds, :]\n",
    "#         #append test object to neg sample\n",
    "#         sample = sample.append(obj)\n",
    "#         #get feature represantation for this objects sample\n",
    "#         #test object + random sample from neg class)\n",
    "#         d = get_similarity_sample_repr(sample)\n",
    "#         #get objects from pos class that has feature represantation\n",
    "#         #which is included in d\n",
    "#         d_sim_objects = is_included_in_repr(d, train_data=train_pos)\n",
    "#         if d_sim_objects is None:\n",
    "#             continue\n",
    "#         if len(d_sim_objects) <= int(N_pos * alpha):\n",
    "#             neg_gypothesis.append(d)"
   ]
  },
  {
   "cell_type": "code",
   "execution_count": 64,
   "metadata": {},
   "outputs": [
    {
     "data": {
      "text/plain": [
       "Id                                        (1, 143650)\n",
       "SeriousDlqin2yrs                             (0.0, 1)\n",
       "RevolvingUtilizationOfUnsecuredLines       (0.0, 1.0)\n",
       "age                                          (29, 62)\n",
       "NumberOfTime30-59DaysPastDueNotWorse           (0, 9)\n",
       "DebtRatio                               (0.0, 2538.0)\n",
       "MonthlyIncome                           (0.0, 7028.0)\n",
       "NumberOfOpenCreditLinesAndLoans               (1, 23)\n",
       "NumberOfTimes90DaysLate                        (0, 5)\n",
       "NumberRealEstateLoansOrLines                   (0, 2)\n",
       "NumberOfTime60-89DaysPastDueNotWorse           (0, 2)\n",
       "NumberOfDependents                         (0.0, 1.0)\n",
       "dtype: object"
      ]
     },
     "execution_count": 64,
     "metadata": {},
     "output_type": "execute_result"
    }
   ],
   "source": []
  },
  {
   "cell_type": "code",
   "execution_count": null,
   "metadata": {},
   "outputs": [],
   "source": []
  },
  {
   "cell_type": "code",
   "execution_count": 30,
   "metadata": {},
   "outputs": [],
   "source": [
    "a = pd.Series({'feat1':(1,1), 'feat2':(0, 1.4), 'feat3':(3, 4)})\n",
    "b = pd.Series({'feat1':(1,2), 'feat2':(1, 1.4), 'feat3':(7, 7)})\n",
    "c = pd.Series({'feat1':(1,1), 'feat2':(0.8, 1.6), 'feat3':(3, 4)})\n",
    "d = pd.Series({'feat1':(2,3), 'feat2':(0, 1.4), 'feat3':(4, 6)})\n",
    "\n",
    "patterns = []\n",
    "patterns.append(a)\n",
    "# patterns.append(b)\n",
    "patterns.append(c)\n",
    "# patterns.append(d)\n",
    "\n",
    "print(a.equals(b))\n",
    "print(a == b)\n",
    "\n",
    "test1 = pd.Series({'feat1':(1,3), 'feat2':(1, 3.4), 'feat3':(1, 1.9)})\n",
    "test2 = pd.Series({'feat1':(2,2.2), 'feat2':(2, 2.4), 'feat3':(3, 3.9)})\n",
    "test3 = pd.Series({'feat1':(3,3), 'feat2':(4, 4.4), 'feat3':(4, 4.9)})"
   ]
  },
  {
   "cell_type": "code",
   "execution_count": 7,
   "metadata": {},
   "outputs": [],
   "source": [
    "from time import sleep"
   ]
  },
  {
   "cell_type": "code",
   "execution_count": 69,
   "metadata": {},
   "outputs": [],
   "source": [
    "def compute(x):\n",
    "#     print(f'starting computing for {x}')\n",
    "#     print(f'process name = {multiprocessing.current_process().name}')\n",
    "    return x * 2"
   ]
  },
  {
   "cell_type": "code",
   "execution_count": 23,
   "metadata": {},
   "outputs": [
    {
     "name": "stdout",
     "output_type": "stream",
     "text": [
      "starting computing for 3\n",
      "starting computing for 5\n",
      "starting computing for 8\n",
      "got the result for 3\n",
      "got the result for 5\n",
      "got the result for 8\n"
     ]
    }
   ],
   "source": [
    "vals = [3, 5, 8]\n",
    "processes = []\n",
    "for x in vals:\n",
    "    p = Process(target=compute, args=(x,))\n",
    "    processes.append(p)\n",
    "    \n",
    "for p in processes:\n",
    "    p.start()\n",
    "       "
   ]
  },
  {
   "cell_type": "code",
   "execution_count": null,
   "metadata": {},
   "outputs": [],
   "source": []
  },
  {
   "cell_type": "code",
   "execution_count": null,
   "metadata": {},
   "outputs": [],
   "source": []
  },
  {
   "cell_type": "code",
   "execution_count": null,
   "metadata": {},
   "outputs": [],
   "source": []
  },
  {
   "cell_type": "code",
   "execution_count": null,
   "metadata": {},
   "outputs": [],
   "source": []
  },
  {
   "cell_type": "code",
   "execution_count": null,
   "metadata": {},
   "outputs": [],
   "source": []
  },
  {
   "cell_type": "code",
   "execution_count": null,
   "metadata": {},
   "outputs": [],
   "source": []
  },
  {
   "cell_type": "code",
   "execution_count": null,
   "metadata": {},
   "outputs": [],
   "source": []
  }
 ],
 "metadata": {
  "kernelspec": {
   "display_name": "Python 3",
   "language": "python",
   "name": "python3"
  },
  "language_info": {
   "codemirror_mode": {
    "name": "ipython",
    "version": 3
   },
   "file_extension": ".py",
   "mimetype": "text/x-python",
   "name": "python",
   "nbconvert_exporter": "python",
   "pygments_lexer": "ipython3",
   "version": "3.6.5"
  }
 },
 "nbformat": 4,
 "nbformat_minor": 2
}
