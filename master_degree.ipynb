{
 "cells": [
  {
   "cell_type": "code",
   "execution_count": 1,
   "metadata": {},
   "outputs": [],
   "source": [
    "import os\n",
    "import json\n",
    "import imp\n",
    "import numpy as np\n",
    "import pandas as pd\n",
    "import functions as utils\n",
    "import seaborn as sns\n",
    "import matplotlib.pyplot as plt\n",
    "\n",
    "from sklearn.model_selection import train_test_split\n",
    "from functools import partial\n",
    "from concurrent.futures import ProcessPoolExecutor, Executor, as_completed"
   ]
  },
  {
   "cell_type": "code",
   "execution_count": 2,
   "metadata": {},
   "outputs": [],
   "source": [
    "def read_data(path, filename):\n",
    "    print(f'reading file = {os.path.join(path, filename)}')\n",
    "    data = pd.read_csv(os.path.join(path, filename))\n",
    "    data = data.rename(columns={'Unnamed: 0':'Id'})\n",
    "    print(f'data shape = {data.shape}')\n",
    "    types_info = pd.DataFrame(data.dtypes.value_counts(), columns=['columns_count'])\n",
    "    print('types info about df columns: ')\n",
    "    print(types_info)\n",
    "    return data"
   ]
  },
  {
   "cell_type": "code",
   "execution_count": 3,
   "metadata": {},
   "outputs": [],
   "source": [
    "# ls -la -h Datasets/GiveMeSomeCredit/"
   ]
  },
  {
   "cell_type": "code",
   "execution_count": 4,
   "metadata": {},
   "outputs": [
    {
     "name": "stdout",
     "output_type": "stream",
     "text": [
      "reading file = Datasets/GiveMeSomeCredit/cs-training.csv\n",
      "data shape = (150000, 12)\n",
      "types info about df columns: \n",
      "         columns_count\n",
      "int64                8\n",
      "float64              4\n"
     ]
    }
   ],
   "source": [
    "train_data = read_data(path='Datasets/GiveMeSomeCredit/', filename='cs-training.csv')\n",
    "# test_data = read_data(path='Datasets/GiveMeSomeCredit/', filename='cs-test.csv')\n",
    "# descript = pd.read_excel(\"Datasets/GiveMeSomeCredit/Data Dictionary.xls\")\n",
    "# sample_data = pd.read_csv(\"Datasets/GiveMeSomeCredit/sampleEntry.csv\")"
   ]
  },
  {
   "cell_type": "code",
   "execution_count": 5,
   "metadata": {},
   "outputs": [
    {
     "data": {
      "text/plain": [
       "(117910, 12)"
      ]
     },
     "execution_count": 5,
     "metadata": {},
     "output_type": "execute_result"
    }
   ],
   "source": [
    "revolve_thresh = round(np.quantile(train_data.RevolvingUtilizationOfUnsecuredLines.values, q=[0.99])[0], 3)\n",
    "# debtratio_thresh = round(np.quantile(train_data.DebtRatio.values, q=[0.9])[0], 3)\n",
    "debtratio_thresh = 2.1\n",
    "revolve_thresh\n",
    "\n",
    "train_data = train_data[(train_data.RevolvingUtilizationOfUnsecuredLines < revolve_thresh) & \n",
    "                        (train_data.DebtRatio < debtratio_thresh)\n",
    "                       ]\n",
    "train_data.shape"
   ]
  },
  {
   "cell_type": "code",
   "execution_count": 6,
   "metadata": {},
   "outputs": [],
   "source": [
    "train_data.fillna(int(train_data.MonthlyIncome.mean()), inplace=True)"
   ]
  },
  {
   "cell_type": "code",
   "execution_count": 7,
   "metadata": {},
   "outputs": [],
   "source": [
    "train_data.fillna(0, inplace=True)\n",
    "# test_data.fillna(0, inplace=True)\n",
    "\n",
    "#ставим колонку Id как индекс клиента\n",
    "train_data.set_index('Id', inplace=True)\n",
    "# test_data.set_index('Id', inplace=True)\n",
    "\n",
    "#сохраняем метку класса\n",
    "train_label = train_data['SeriousDlqin2yrs'].copy()\n",
    "train_data.drop('SeriousDlqin2yrs', axis=1, inplace=True)\n",
    "#удаляем колонку класса из тестовых данных, так как она не несет никакой информации\n",
    "# test_data.drop('SeriousDlqin2yrs', axis=1, inplace=True)"
   ]
  },
  {
   "cell_type": "code",
   "execution_count": 8,
   "metadata": {},
   "outputs": [],
   "source": [
    "train_data['NumberOfDependents'] = train_data.NumberOfDependents.astype('int')\n",
    "train_data['MonthlyIncome'] = train_data.MonthlyIncome.astype('int')"
   ]
  },
  {
   "cell_type": "code",
   "execution_count": 9,
   "metadata": {},
   "outputs": [
    {
     "data": {
      "text/plain": [
       "(117910, 10)"
      ]
     },
     "execution_count": 9,
     "metadata": {},
     "output_type": "execute_result"
    }
   ],
   "source": [
    "train_data.shape#, test_data.shape"
   ]
  },
  {
   "cell_type": "code",
   "execution_count": 10,
   "metadata": {},
   "outputs": [],
   "source": [
    "float_cols = train_data.select_dtypes('float').columns\n",
    "train_data.loc[:, float_cols] = train_data.loc[:, float_cols].round(2)\n",
    "# train_data.head()"
   ]
  },
  {
   "cell_type": "code",
   "execution_count": 11,
   "metadata": {},
   "outputs": [],
   "source": [
    "# float_cols = test_data.select_dtypes('float').columns\n",
    "# test_data.loc[:, float_cols] = test_data.loc[:, float_cols].round(2)\n",
    "# test_data.head()"
   ]
  },
  {
   "cell_type": "code",
   "execution_count": 12,
   "metadata": {},
   "outputs": [],
   "source": [
    "transformed_train = utils.transform_to_description(train_data)\n",
    "# transformed_test = transform_to_description(test_data)\n",
    "# transformed_train.head(5)"
   ]
  },
  {
   "cell_type": "code",
   "execution_count": 13,
   "metadata": {},
   "outputs": [
    {
     "data": {
      "text/plain": [
       "(117910, 10)"
      ]
     },
     "execution_count": 13,
     "metadata": {},
     "output_type": "execute_result"
    }
   ],
   "source": [
    "transformed_train.shape#, transformed_test.shape"
   ]
  },
  {
   "cell_type": "code",
   "execution_count": 14,
   "metadata": {},
   "outputs": [],
   "source": [
    "trainX, testX, trainY, testY = train_test_split(transformed_train, train_label, test_size=0.4)"
   ]
  },
  {
   "cell_type": "code",
   "execution_count": 15,
   "metadata": {},
   "outputs": [],
   "source": [
    "valX, testX, valY, testY = train_test_split(testX, testY, test_size=0.5)"
   ]
  },
  {
   "cell_type": "code",
   "execution_count": 16,
   "metadata": {},
   "outputs": [
    {
     "name": "stdout",
     "output_type": "stream",
     "text": [
      "(70746, 10) (23582, 10) (23582, 10)\n",
      "(70746,) (23582,) (23582,)\n"
     ]
    }
   ],
   "source": [
    "print(trainX.shape, valX.shape, testX.shape)\n",
    "print(trainY.shape, valY.shape, testY.shape)"
   ]
  },
  {
   "cell_type": "code",
   "execution_count": 17,
   "metadata": {},
   "outputs": [
    {
     "data": {
      "text/plain": [
       "0    0.933494\n",
       "1    0.066506\n",
       "Name: SeriousDlqin2yrs, dtype: float64"
      ]
     },
     "execution_count": 17,
     "metadata": {},
     "output_type": "execute_result"
    }
   ],
   "source": [
    "trainY.value_counts(normalize=True)"
   ]
  },
  {
   "cell_type": "code",
   "execution_count": 18,
   "metadata": {},
   "outputs": [
    {
     "data": {
      "text/plain": [
       "0    0.933381\n",
       "1    0.066619\n",
       "Name: SeriousDlqin2yrs, dtype: float64"
      ]
     },
     "execution_count": 18,
     "metadata": {},
     "output_type": "execute_result"
    }
   ],
   "source": [
    "valY.value_counts(normalize=True)"
   ]
  },
  {
   "cell_type": "code",
   "execution_count": 19,
   "metadata": {},
   "outputs": [
    {
     "data": {
      "text/plain": [
       "0    0.934399\n",
       "1    0.065601\n",
       "Name: SeriousDlqin2yrs, dtype: float64"
      ]
     },
     "execution_count": 19,
     "metadata": {},
     "output_type": "execute_result"
    }
   ],
   "source": [
    "testY.value_counts(normalize=True)"
   ]
  },
  {
   "cell_type": "code",
   "execution_count": 14,
   "metadata": {},
   "outputs": [],
   "source": [
    "# alpha = 0.005\n",
    "# sample_ratio = 0.01\n",
    "# num_iters = 100\n",
    "# N_neg = train_label.value_counts().reset_index().iloc[0, 1]\n",
    "# N_pos = train_label.value_counts().reset_index().iloc[1, 1]\n",
    "# N_neg, N_pos\n",
    "\n",
    "# train_pos = transformed_train.loc[train_label[train_label == 1].index]\n",
    "# train_neg = transformed_train.loc[train_label[train_label == 0].index]\n",
    "\n",
    "# classes_ratio_pos = train_pos.shape[0] / train_neg.shape[0]\n",
    "# classes_ratio_neg = train_neg.shape[0] / train_pos.shape[0]\n",
    "# classes_ratio_pos, classes_ratio_neg"
   ]
  },
  {
   "cell_type": "code",
   "execution_count": null,
   "metadata": {
    "scrolled": true
   },
   "outputs": [],
   "source": []
  },
  {
   "cell_type": "markdown",
   "metadata": {},
   "source": [
    "### Mining step\n",
    "\n",
    "\n",
    "    для положительного класса нас интересуют объекты отрицательного класса, \n",
    "    а для отрицательного - положительные\n",
    "    Уже после определения объектов из другого класса, попадающие в признаковое представление семпла данных, будет приниматься решение\n",
    "     о включение этого признакого представление в список гипотез представления(областей или интервальных представлений)\n",
    "    "
   ]
  },
  {
   "cell_type": "markdown",
   "metadata": {},
   "source": [
    "Что нужно посмотреть:\n",
    "\n",
    "    1. Сравнение количества генерируемых гипотез в зависимости от критерия и области генерации выборки.\n",
    "    (Возможно изобразить всего 4 варианта: старый подход - локальная или случайная выборка, новый подход - \n",
    "    локальная или случайная выборка)\n",
    "    \n",
    "    2. Сравнение генерируемых гипотез для старого и нового критерия в зависимости от ширины локальной области генерации\n",
    "    (Возможно есть какая то оптимальная ширина окна)\n",
    "    "
   ]
  },
  {
   "cell_type": "code",
   "execution_count": null,
   "metadata": {},
   "outputs": [],
   "source": []
  },
  {
   "cell_type": "code",
   "execution_count": 293,
   "metadata": {},
   "outputs": [],
   "source": [
    "def generate_hypothesis(iteration: int, obj: pd.Series, object_area: pd.Series, train_data: pd.DataFrame, \n",
    "                        other_data: pd.DataFrame, sample_size: int, hypothesis_criterion: str,\n",
    "                        sample_type:str, verbose: bool, alpha: float):\n",
    "        \n",
    "        if iteration % 100 == 0:\n",
    "            print(f'iteration: {iteration}')\n",
    "        \n",
    "        if sample_type == 'local' and object_area is None:\n",
    "            print(f'Cannot generate sample from local area. Got None as local object area param!')\n",
    "            raise NotImplementedError('Wrong params for local sampling!')\n",
    "    \n",
    "        if sample_type == 'random' and object_area is not None:\n",
    "            print(f'got misleading params values. Got sample_type = None and local object area is not None')\n",
    "            return NotImplementedError('Wrong params for random sampling!')\n",
    "\n",
    "        sample = utils.generate_random_sample(train_data=train_data, sample_size=sample_size, d=object_area) \n",
    "        if sample is None:\n",
    "            return None\n",
    "        \n",
    "        sample.append(obj)\n",
    "        \n",
    "        d = utils.get_similarity_sample_repr(sample)\n",
    "        if verbose:\n",
    "            print('got feature represantation for sample')\n",
    "        \n",
    "        d_other_objects = utils.is_included_in_repr(d, train_data=other_data)\n",
    "        \n",
    "        if verbose and d_other_objects is not None:\n",
    "            print(f'got {d_other_objects.shape[0]} d_other_objects')\n",
    "            print(f'thresh for hypothesis = {int(other_data.shape[0] * alpha)}')\n",
    "        \n",
    "        result_hypothesis = utils.check_criterion(\n",
    "                        d=d, train_data=train_data, hypothesis_criterion=hypothesis_criterion, \n",
    "                        d_other_objects=d_other_objects, other_data=other_data, alpha=alpha)\n",
    "\n",
    "        return result_hypothesis\n",
    "        \n",
    "\n",
    "def mining_step(test_obj: pd.Series, train_pos: pd.DataFrame, train_neg: pd.DataFrame, sample_ratio: float, \n",
    "                alpha: float, hypothesis_criterion: str, sample_type: str, trainx_min: pd.Series, \n",
    "                trainx_max:pd.Series, fraction: float = 0.25, num_iters: int = 1000, expanding_iters: int = 50, \n",
    "                mining_type: str = 'pos', verbose : bool = False, n_jobs : int = 4):\n",
    "    \"\"\"\n",
    "    hypothesis_criterion: 'contr_class', если используем базовый критерий, \n",
    "                                когда смотрится пересечение с противоположным классом(старый критерий отбора гипотез)\n",
    "                           'both_classes', когда интересует пересечение по обоим классам(новый критерий отбора гипотез)\n",
    "                           \n",
    "    sample_type: 'random', если берем произвольную выборку интервальных представлений\n",
    "                 'local', если берем произвольную выборку из локальной области\n",
    "    \n",
    "    returns list of hypothesises\n",
    "    \"\"\"\n",
    "    \n",
    "    train_data = train_pos if mining_type == 'pos' else train_neg\n",
    "    other_data = train_neg if mining_type == 'pos' else train_pos\n",
    "    sample_size = int(train_data.shape[0] * sample_ratio)\n",
    "    print('start generating hypothesises')\n",
    "    \n",
    "    if sample_type == 'local':\n",
    "        print(f'start searching optimal local area')\n",
    "        object_area = None\n",
    "        itrs = 3\n",
    "        while itrs > 0:\n",
    "            object_area = utils.find_opt_local_area(obj=test_obj, train_data=train_data,\n",
    "                                                    trainx_min=trainx_min, trainx_max=trainx_max, \n",
    "                                                    frac=fraction, expanding_iters=expanding_iters)\n",
    "            if object_area is None:\n",
    "                expanding_iters = 2 * expanding_iters\n",
    "                itrs = itrs - 1\n",
    "            else:\n",
    "                break\n",
    "        if object_area is None:\n",
    "            sample_type = 'random'\n",
    "    else:\n",
    "        object_area = None\n",
    "    \n",
    "    print(f\"\"\"Use params: sample_type = {sample_type}\"\"\")\n",
    "    if object_area is None:\n",
    "        print('object area is None')\n",
    "    else:\n",
    "        print('object area is not None')\n",
    "    print(f'num_iters = {num_iters}')\n",
    "    print(f'expanding iters = {expanding_iters}')\n",
    "    print(f\"fraction = {fraction}\")\n",
    "    \n",
    "    mining = partial(generate_hypothesis, obj=test_obj, object_area=object_area, train_data=train_data, \n",
    "                     other_data=other_data, sample_size=sample_size, hypothesis_criterion=hypothesis_criterion,\n",
    "                     sample_type=sample_type, verbose=verbose, alpha=alpha)\n",
    "    \n",
    "    with ProcessPoolExecutor(max_workers=n_jobs) as executor:\n",
    "        hypothesises = executor.map(mining, range(num_iters))\n",
    "        \n",
    "    hypothesises = [res for res in hypothesises if res is not None]\n",
    "\n",
    "    return hypothesises"
   ]
  },
  {
   "cell_type": "code",
   "execution_count": null,
   "metadata": {},
   "outputs": [],
   "source": []
  },
  {
   "cell_type": "code",
   "execution_count": 76,
   "metadata": {},
   "outputs": [
    {
     "data": {
      "text/plain": [
       "((4705, 10), (66041, 10))"
      ]
     },
     "execution_count": 76,
     "metadata": {},
     "output_type": "execute_result"
    }
   ],
   "source": [
    "train_pos = trainX.loc[trainY[trainY == 1].index]\n",
    "train_neg = trainX.loc[trainY[trainY == 0].index]\n",
    "train_pos.shape, train_neg.shape"
   ]
  },
  {
   "cell_type": "code",
   "execution_count": 77,
   "metadata": {},
   "outputs": [
    {
     "data": {
      "text/plain": [
       "((1000, 10), (1000, 10))"
      ]
     },
     "execution_count": 77,
     "metadata": {},
     "output_type": "execute_result"
    }
   ],
   "source": [
    "train_pos = train_pos.sample(n=1000, replace=False)\n",
    "train_neg = train_neg.sample(n=1000, replace=False)\n",
    "train_pos.shape, train_neg.shape"
   ]
  },
  {
   "cell_type": "code",
   "execution_count": 78,
   "metadata": {},
   "outputs": [],
   "source": [
    "trainx_min = train_data.min()\n",
    "trainx_max = train_data.max()\n",
    "test_sample = valX.sample(30)"
   ]
  },
  {
   "cell_type": "code",
   "execution_count": 79,
   "metadata": {},
   "outputs": [],
   "source": [
    "utils = imp.reload(utils)"
   ]
  },
  {
   "cell_type": "markdown",
   "metadata": {},
   "source": [
    "#### Исследования количества итераций, необходимых для достижения определенной доли объектов обучающей выборки"
   ]
  },
  {
   "cell_type": "code",
   "execution_count": 261,
   "metadata": {},
   "outputs": [
    {
     "name": "stdout",
     "output_type": "stream",
     "text": [
      "[0.01, 0.03, 0.05, 0.07, 0.09, 0.11, 0.13, 0.15, 0.17, 0.19, 0.21]\n"
     ]
    }
   ],
   "source": [
    "fractions = list(range(1, 23, 2))\n",
    "fractions = [x/100 for x in fractions]\n",
    "num_iters = 1000\n",
    "print(fractions)\n",
    "\n",
    "iterations_list_pos = {}\n",
    "iterations_list_neg = {}\n",
    "\n",
    "for frac in fractions:\n",
    "    iterations_list_pos[frac] = []\n",
    "    iterations_list_neg[frac] = []"
   ]
  },
  {
   "cell_type": "code",
   "execution_count": null,
   "metadata": {},
   "outputs": [],
   "source": []
  },
  {
   "cell_type": "code",
   "execution_count": 82,
   "metadata": {
    "scrolled": false
   },
   "outputs": [],
   "source": [
    "for frac in fractions:\n",
    "    print(f'frac = {frac}')\n",
    "    for i, test_obj in test_sample.iterrows():\n",
    "        d, num_iter = utils.find_opt_local_area(obj=test_obj, train_data=train_pos, trainx_min=trainx_min,\n",
    "                                                trainx_max=trainx_max, frac=frac, num_iters=num_iters)\n",
    "        \n",
    "        iterations_list_pos[frac].append(num_iter)\n",
    "        \n",
    "iterations_list_pos_str = json.dumps(iterations_list_pos)\n",
    "\n",
    "with open('iterations_list_pos.txt', 'w') as f:\n",
    "    f.write(iterations_list_pos_str)"
   ]
  },
  {
   "cell_type": "code",
   "execution_count": null,
   "metadata": {},
   "outputs": [],
   "source": []
  },
  {
   "cell_type": "code",
   "execution_count": 340,
   "metadata": {},
   "outputs": [],
   "source": [
    "for frac in fractions:\n",
    "    print(f'frac = {frac}')\n",
    "    for i, test_obj in test_sample.iterrows():\n",
    "        d, num_iter = utils.find_opt_local_area(obj=test_obj, train_data=train_neg, trainx_min=trainx_min,\n",
    "                                                trainx_max=trainx_max, frac=frac, num_iters=num_iters)\n",
    "        \n",
    "        iterations_list_neg[frac].append(num_iter)\n",
    "        \n",
    "iterations_list_neg_str=json.dumps(iterations_list_neg)\n",
    "\n",
    "with open('iterations_list_neg.txt', 'w') as f:\n",
    "    f.write(iterations_list_neg_str)"
   ]
  },
  {
   "cell_type": "code",
   "execution_count": 132,
   "metadata": {},
   "outputs": [
    {
     "name": "stdout",
     "output_type": "stream",
     "text": [
      "{'0.01': [14, 14, 96, 16, 20, 12, 10, 14, 60, 14, 41, 17, 26, 15, 16, 14, 14, 17, 13, 13, 12, 11, 18, 36, 13, 8, 14, 19, 11, 17], '0.03': [18, 21, 97, 23, 26, 18, 15, 20, 79, 19, 58, 22, 32, 19, 20, 18, 18, 23, 18, 19, 16, 16, 23, 53, 21, 12, 18, 28, 18, 20], '0.05': [20, 25, 97, 27, 30, 21, 18, 25, 92, 22, 71, 25, 35, 23, 25, 21, 21, 25, 21, 23, 19, 18, 26, 63, 26, 14, 21, 31, 21, 23], '0.07': [22, 27, 97, 31, 33, 23, 19, 28, 102, 25, 82, 27, 38, 25, 27, 22, 24, 26, 24, 28, 23, 21, 32, 71, 30, 16, 24, 35, 25, 24], '0.09': [24, 28, 98, 32, 36, 25, 22, 31, 111, 27, 90, 27, 40, 27, 30, 24, 26, 29, 26, 29, 25, 23, 37, 76, 34, 18, 26, 38, 27, 26], '0.11': [25, 30, 98, 34, 38, 26, 24, 35, 116, 31, 95, 27, 44, 29, 32, 26, 28, 31, 28, 33, 27, 24, 43, 79, 39, 21, 27, 41, 30, 28], '0.13': [26, 32, 98, 36, 41, 28, 26, 39, 123, 33, 103, 27, 45, 31, 35, 27, 30, 32, 30, 35, 29, 26, 47, 83, 43, 23, 29, 45, 33, 29], '0.15': [29, 34, 98, 37, 44, 29, 28, 42, 128, 36, 107, 28, 47, 33, 36, 27, 32, 34, 32, 37, 31, 27, 54, 89, 47, 24, 32, 48, 36, 31], '0.17': [31, 35, 98, 38, 47, 31, 30, 46, 131, 38, 110, 31, 50, 34, 39, 27, 34, 36, 34, 40, 34, 28, 60, 92, 51, 26, 33, 52, 37, 33], '0.19': [34, 37, 99, 39, 49, 33, 31, 49, 137, 41, 116, 36, 52, 35, 40, 29, 35, 38, 36, 43, 36, 29, 66, 93, 57, 27, 34, 54, 39, 36], '0.21': [35, 38, 99, 41, 51, 34, 33, 53, 140, 43, 119, 46, 53, 36, 42, 30, 35, 40, 38, 44, 38, 30, 70, 94, 62, 29, 36, 57, 42, 37]}\n",
      "{'0.01': [11, 15, 95, 13, 11, 12, 16, 11, 37, 9, 33, 22, 13, 24, 19, 16, 15, 15, 20, 10, 11, 18, 11, 16, 11, 14, 15, 17, 8, 13], '0.03': [14, 20, 97, 20, 14, 19, 23, 16, 57, 13, 52, 27, 18, 29, 26, 23, 20, 19, 28, 14, 14, 25, 15, 28, 18, 21, 18, 24, 14, 17], '0.05': [17, 22, 97, 24, 16, 23, 28, 18, 76, 15, 58, 28, 22, 31, 32, 27, 23, 21, 33, 17, 16, 28, 18, 42, 20, 27, 21, 29, 16, 19], '0.07': [19, 24, 97, 26, 19, 26, 33, 20, 92, 17, 72, 39, 25, 37, 36, 29, 25, 23, 36, 19, 18, 32, 22, 49, 22, 31, 22, 31, 18, 20], '0.09': [20, 26, 98, 28, 21, 28, 37, 22, 98, 19, 78, 51, 27, 41, 39, 32, 28, 24, 40, 21, 19, 35, 24, 56, 24, 36, 24, 33, 19, 21], '0.11': [21, 28, 98, 30, 22, 31, 40, 24, 105, 20, 85, 57, 28, 46, 41, 34, 30, 25, 44, 23, 21, 39, 25, 63, 26, 38, 27, 35, 20, 22], '0.13': [22, 30, 98, 31, 24, 32, 44, 26, 113, 22, 92, 65, 30, 50, 45, 37, 32, 25, 46, 24, 22, 47, 28, 70, 28, 45, 28, 37, 22, 23], '0.15': [23, 31, 98, 32, 25, 34, 47, 27, 119, 23, 99, 68, 31, 56, 47, 41, 33, 26, 50, 25, 23, 54, 32, 73, 29, 50, 30, 38, 23, 23], '0.17': [24, 32, 98, 33, 26, 35, 50, 28, 123, 24, 102, 71, 33, 60, 51, 43, 35, 27, 52, 27, 25, 59, 34, 77, 30, 56, 32, 39, 24, 24], '0.19': [24, 33, 99, 34, 28, 37, 52, 29, 126, 26, 105, 72, 34, 65, 52, 44, 37, 29, 53, 28, 25, 65, 37, 80, 31, 59, 33, 41, 25, 25], '0.21': [25, 35, 99, 35, 29, 38, 58, 30, 130, 26, 109, 73, 35, 69, 54, 46, 39, 30, 55, 29, 27, 68, 40, 83, 33, 64, 34, 43, 26, 26]}\n"
     ]
    }
   ],
   "source": [
    "with open('iterations_list_pos_result.txt', 'r') as f:\n",
    "    iteration_list_pos_str = f.read()\n",
    "iterations_list_pos = json.loads(iteration_list_pos_str)\n",
    "print(iterations_list_pos)\n",
    "\n",
    "with open('iterations_list_neg_result.txt', 'r') as f:\n",
    "    iteration_list_neg_str = f.read()\n",
    "iterations_list_neg = json.loads(iteration_list_neg_str)\n",
    "print(iterations_list_neg)"
   ]
  },
  {
   "cell_type": "code",
   "execution_count": null,
   "metadata": {},
   "outputs": [],
   "source": []
  },
  {
   "cell_type": "code",
   "execution_count": 133,
   "metadata": {},
   "outputs": [],
   "source": [
    "for key, val in iterations_list_pos.items():\n",
    "    iterations_list_pos[key] = np.mean(val)\n",
    "    \n",
    "iterations_list_pos = pd.DataFrame.from_dict(data=iterations_list_pos, orient='index', columns=['iters'])\n",
    "iterations_list_pos.reset_index(drop=False, inplace=True)\n",
    "iterations_list_pos.rename(columns={'index':'frac'}, inplace=True)"
   ]
  },
  {
   "cell_type": "code",
   "execution_count": null,
   "metadata": {},
   "outputs": [],
   "source": []
  },
  {
   "cell_type": "code",
   "execution_count": null,
   "metadata": {},
   "outputs": [],
   "source": []
  },
  {
   "cell_type": "code",
   "execution_count": 134,
   "metadata": {},
   "outputs": [],
   "source": [
    "for key, val in iterations_list_neg.items():\n",
    "    iterations_list_neg[key] = np.mean(val)\n",
    "\n",
    "iterations_list_neg = pd.DataFrame.from_dict(data=iterations_list_neg, orient='index', columns=['iters'])\n",
    "iterations_list_neg.reset_index(drop=False, inplace=True)\n",
    "iterations_list_neg.rename(columns={'index':'frac'}, inplace=True)"
   ]
  },
  {
   "cell_type": "code",
   "execution_count": 150,
   "metadata": {},
   "outputs": [
    {
     "data": {
      "image/png": "[encoded data removed]",
      "text/plain": [
       "<Figure size 864x432 with 1 Axes>"
      ]
     },
     "metadata": {},
     "output_type": "display_data"
    }
   ],
   "source": [
    "plt.figure(figsize=(12,6))\n",
    "sns.lineplot(y='iters', x='frac', data=iterations_list_pos, label='pos')\n",
    "sns.lineplot(y='iters', x='frac', data=iterations_list_neg, label='neg')\n",
    "plt.ylabel('Avg iters')\n",
    "plt.xlabel('Frac')\n",
    "plt.title('Среднее количество итераций расширения локальной области')\n",
    "plt.legend()\n",
    "plt.savefig('images/AvgItersLocalExpanding.png')"
   ]
  },
  {
   "cell_type": "markdown",
   "metadata": {},
   "source": [
    "    Измененный вариант отбора объектов, по которым будут искаться гипотезы\n",
    "    Будем смотреть объекты обучающей выборки, которые находятся в локальной области тестового объекта\n",
    "    На рисунке представлен график изменения объектов обучающей выборки для каждого класса. По оси Х представлена доля объектов из обучающей выборки, а по оси Y - количество итераций расширения локальной области, которое необходимо произвести, чтобы определенная доля объектов из выборки оказалась в локальной области объекта"
   ]
  },
  {
   "cell_type": "code",
   "execution_count": null,
   "metadata": {
    "scrolled": true
   },
   "outputs": [],
   "source": []
  },
  {
   "cell_type": "code",
   "execution_count": null,
   "metadata": {},
   "outputs": [],
   "source": []
  },
  {
   "cell_type": "markdown",
   "metadata": {},
   "source": [
    "**Исследование количества генерируемых гипотез в зависимости от набора параметров для нового подхода отбора гипотез**"
   ]
  },
  {
   "cell_type": "code",
   "execution_count": null,
   "metadata": {},
   "outputs": [],
   "source": []
  },
  {
   "cell_type": "markdown",
   "metadata": {},
   "source": [
    "*Сначала проверим построение старого подхода генерации гипотез*"
   ]
  },
  {
   "cell_type": "code",
   "execution_count": 294,
   "metadata": {},
   "outputs": [],
   "source": [
    "alpha_params = [0.004]#, 0.002, 0.003, 0.004]\n",
    "sample_ratio_params = [0.004]#, 0.002, 0.004, 0.006, 0.008, 0.01]\n",
    "\n",
    "results_pos = {}\n",
    "results_neg = {}\n",
    "pos_hyps = []\n",
    "neg_hyps = []\n",
    "\n",
    "for alpha in alpha_params:\n",
    "    results_pos[alpha] = {}\n",
    "    results_neg[alpha] = {}\n",
    "    \n",
    "for alpha in alpha_params:\n",
    "    for sample_ratio in sample_ratio_params:\n",
    "        results_pos[alpha][sample_ratio] = []\n",
    "        results_neg[alpha][sample_ratio] = []"
   ]
  },
  {
   "cell_type": "code",
   "execution_count": null,
   "metadata": {},
   "outputs": [],
   "source": []
  },
  {
   "cell_type": "code",
   "execution_count": null,
   "metadata": {},
   "outputs": [],
   "source": []
  },
  {
   "cell_type": "code",
   "execution_count": 295,
   "metadata": {},
   "outputs": [],
   "source": [
    "params = {\n",
    "    'train_pos': train_pos,\n",
    "    'train_neg': train_neg,\n",
    "    'num_iters': 300,\n",
    "    'hypothesis_criterion': 'contr_class',\n",
    "    'sample_type': 'random',\n",
    "    'trainx_min': trainx_min,\n",
    "    'trainx_max': trainx_max,\n",
    "    'verbose': False,\n",
    "    'n_jobs': 4\n",
    "}"
   ]
  },
  {
   "cell_type": "code",
   "execution_count": null,
   "metadata": {},
   "outputs": [],
   "source": []
  },
  {
   "cell_type": "code",
   "execution_count": null,
   "metadata": {},
   "outputs": [],
   "source": []
  },
  {
   "cell_type": "code",
   "execution_count": 296,
   "metadata": {},
   "outputs": [
    {
     "name": "stdout",
     "output_type": "stream",
     "text": [
      "using params: alpha = 0.004, \n",
      "\n",
      "            sample_ratio = 0.004,\n",
      "\n",
      "            num_iters = 300\n",
      "start generating hypothesises\n",
      "Use params: sample_type = random\n",
      "object area is None\n",
      "num_iters = 300\n",
      "expanding iters = 50\n",
      "fraction = 0.25\n",
      "iteration: 0\n",
      "iteration: 100\n",
      "iteration: 200\n",
      "start generating hypothesises\n",
      "Use params: sample_type = random\n",
      "object area is None\n",
      "num_iters = 300\n",
      "expanding iters = 50\n",
      "fraction = 0.25\n",
      "iteration: 0\n",
      "iteration: 100\n",
      "iteration: 200\n",
      "CPU times: user 4.5 s, sys: 460 ms, total: 4.96 s\n",
      "Wall time: 1min\n"
     ]
    }
   ],
   "source": [
    "%%time\n",
    "for alpha in alpha_params:\n",
    "    for sample_ratio in sample_ratio_params:\n",
    "        for i, obj in test_sample[4:5].iterrows():\n",
    "            print(f\"\"\"using params: alpha = {alpha}, \\n\n",
    "            sample_ratio = {sample_ratio},\\n\n",
    "            num_iters = {params['num_iters']}\"\"\")\n",
    "            pos_hyps = mining_step(test_obj=obj, sample_ratio=sample_ratio, alpha = alpha,\n",
    "                                   mining_type='pos', **params)\n",
    "            \n",
    "            pos_hyps_shape = pd.DataFrame(pos_hyps).shape[0] if len(pos_hyps) > 0 else 0\n",
    "            results_pos[alpha][sample_ratio].append(pos_hyps_shape)\n",
    "            \n",
    "            neg_hyps = mining_step(test_obj=obj, sample_ratio=sample_ratio, alpha = alpha,\n",
    "                                   mining_type='neg', **params)\n",
    "            \n",
    "            neg_hyps_shape = pd.DataFrame(neg_hyps).shape[0] if len(neg_hyps) > 0 else 0\n",
    "            results_neg[alpha][sample_ratio].append(neg_hyps_shape)"
   ]
  },
  {
   "cell_type": "code",
   "execution_count": null,
   "metadata": {},
   "outputs": [],
   "source": []
  },
  {
   "cell_type": "code",
   "execution_count": null,
   "metadata": {},
   "outputs": [],
   "source": []
  },
  {
   "cell_type": "code",
   "execution_count": null,
   "metadata": {},
   "outputs": [],
   "source": [
    "            "
   ]
  },
  {
   "cell_type": "markdown",
   "metadata": {},
   "source": [
    "**Новый подход генерации гипотез**"
   ]
  },
  {
   "cell_type": "code",
   "execution_count": 309,
   "metadata": {},
   "outputs": [],
   "source": [
    "alpha_params = [2.0]#, 1.05, 1.1, 1.3, 1.5, 1.7, 2.0]\n",
    "sample_ratio_params = [0.002]#, 0.002, 0.004, 0.006, 0.008, 0.01]\n",
    "\n",
    "results_pos = {}\n",
    "results_neg = {}\n",
    "pos_hyps = []\n",
    "neg_hyps = []\n",
    "\n",
    "for alpha in alpha_params:\n",
    "    results_pos[alpha] = {}\n",
    "    results_neg[alpha] = {}\n",
    "    \n",
    "for alpha in alpha_params:\n",
    "    for sample_ratio in sample_ratio_params:\n",
    "        results_pos[alpha][sample_ratio] = []\n",
    "        results_neg[alpha][sample_ratio] = []"
   ]
  },
  {
   "cell_type": "code",
   "execution_count": 310,
   "metadata": {},
   "outputs": [
    {
     "name": "stdout",
     "output_type": "stream",
     "text": [
      "{2.0: {0.002: []}}\n",
      "{2.0: {0.002: []}}\n"
     ]
    }
   ],
   "source": [
    "print(results_pos)\n",
    "print(results_neg)"
   ]
  },
  {
   "cell_type": "code",
   "execution_count": 313,
   "metadata": {},
   "outputs": [],
   "source": [
    "params = {\n",
    "    'train_pos': train_pos,\n",
    "    'train_neg': train_neg,\n",
    "    'num_iters': 200,\n",
    "    'hypothesis_criterion': 'both_classes',\n",
    "    'sample_type': 'local',\n",
    "    'trainx_min': trainx_min,\n",
    "    'trainx_max': trainx_max,\n",
    "    'fraction': 0.17,\n",
    "    'expanding_iters': 120, #максимальное количество итераций расширения\n",
    "    'verbose': False,\n",
    "    'n_jobs': 4\n",
    "}"
   ]
  },
  {
   "cell_type": "code",
   "execution_count": 314,
   "metadata": {},
   "outputs": [],
   "source": [
    "utils = imp.reload(utils)"
   ]
  },
  {
   "cell_type": "code",
   "execution_count": 315,
   "metadata": {
    "scrolled": true
   },
   "outputs": [
    {
     "name": "stdout",
     "output_type": "stream",
     "text": [
      "using params: alpha = 2.0, \n",
      "\n",
      "                sample_ratio = 0.002, \n",
      "\n",
      "                num_iters = 200\n",
      "start generating hypothesises\n",
      "start searching optimal local area\n",
      "itr: 10\n",
      "itr: 20\n",
      "itr: 30\n",
      "itr: 40\n",
      "Use params: sample_type = local\n",
      "object area is not None\n",
      "num_iters = 200\n",
      "expanding iters = 120\n",
      "fraction = 0.17\n",
      "iteration: 0\n",
      "iteration: 100\n",
      "start generating hypothesises\n",
      "start searching optimal local area\n",
      "itr: 10\n",
      "itr: 20\n",
      "itr: 30\n",
      "Use params: sample_type = local\n",
      "object area is not None\n",
      "num_iters = 200\n",
      "expanding iters = 120\n",
      "fraction = 0.17\n",
      "iteration: 0\n",
      "iteration: 100\n",
      "CPU times: user 22.1 s, sys: 873 ms, total: 22.9 s\n",
      "Wall time: 2min 18s\n"
     ]
    }
   ],
   "source": [
    "%%time\n",
    "for alpha in alpha_params:\n",
    "    for sample_ratio in sample_ratio_params:\n",
    "        for i, obj in test_sample[5:6].iterrows():\n",
    "            print(f\"\"\"using params: alpha = {alpha}, \\n\n",
    "                sample_ratio = {sample_ratio}, \\n\n",
    "                num_iters = {params['num_iters']}\"\"\")\n",
    "            pos_hyps = mining_step(test_obj=obj, sample_ratio=sample_ratio, alpha = alpha,\n",
    "                                   mining_type='pos', **params)\n",
    "            \n",
    "            pos_hyps_shape = pd.DataFrame(pos_hyps).shape[0] if len(pos_hyps) > 0 else 0\n",
    "            results_pos[alpha][sample_ratio].append(pos_hyps_shape)\n",
    "            \n",
    "            neg_hyps = mining_step(test_obj=obj, sample_ratio=sample_ratio, alpha = alpha,\n",
    "                                   mining_type='neg',**params)\n",
    "            \n",
    "            neg_hyps_shape = pd.DataFrame(neg_hyps).shape[0] if len(neg_hyps) > 0 else 0\n",
    "            results_neg[alpha][sample_ratio].append(neg_hyps_shape)"
   ]
  },
  {
   "cell_type": "code",
   "execution_count": null,
   "metadata": {},
   "outputs": [],
   "source": []
  },
  {
   "cell_type": "code",
   "execution_count": null,
   "metadata": {},
   "outputs": [],
   "source": []
  },
  {
   "cell_type": "markdown",
   "metadata": {},
   "source": [
    "**Оценивание модели, вычисление ROC AUC and Gini coefficient**"
   ]
  },
  {
   "cell_type": "markdown",
   "metadata": {},
   "source": [
    "##### Проделаем для стандартного метода, который уже использовался"
   ]
  },
  {
   "cell_type": "markdown",
   "metadata": {},
   "source": [
    "    Берем множество объеков(тестовое)\n",
    "    Для каждого объекта считаем множество положительных и негативных гипотез\n",
    "    Разница между количеством гипотез будет как раз скором, а знак этой разницы - классом"
   ]
  },
  {
   "cell_type": "code",
   "execution_count": 339,
   "metadata": {},
   "outputs": [],
   "source": [
    "for i, test_obj in test_sample.iterrows():\n",
    "    pos_hyps = mining_step(test_obj=test_obj, train_pos=train_pos, train_neg=train_neg, \n",
    "                            num_iters='',sample_ratio='', alpha = '',\n",
    "                                   hypothesis_criterion='contr_class', sample_type='random',\n",
    "                                   mining_type='pos', trainx_min=trainx_min, trainx_max=trainx_max,\n",
    "                                    verbose=False, n_jobs=4\n",
    "                        )\n",
    "    neg_hyps = mining_step(test_obj=test_obj, train_pos=train_pos, train_neg=train_neg, \n",
    "                            num_iters='',sample_ratio='', alpha = '',\n",
    "                                   hypothesis_criterion='contr_class', sample_type='random',\n",
    "                                   mining_type='neg', trainx_min=trainx_min, trainx_max=trainx_max,\n",
    "                           verbose=False, n_jobs=2\n",
    "                        )\n",
    "pos_hyps = pd.DataFrame(pos_hyps)\n",
    "neg_hyps = pd.DataFrame(neg_hyps)"
   ]
  },
  {
   "cell_type": "code",
   "execution_count": null,
   "metadata": {},
   "outputs": [],
   "source": []
  },
  {
   "cell_type": "code",
   "execution_count": 291,
   "metadata": {},
   "outputs": [],
   "source": []
  },
  {
   "cell_type": "code",
   "execution_count": 295,
   "metadata": {},
   "outputs": [],
   "source": [
    "from time import sleep"
   ]
  },
  {
   "cell_type": "code",
   "execution_count": 213,
   "metadata": {},
   "outputs": [],
   "source": [
    "\n",
    "sample_ratio=0.003\n",
    "alpha = 0.004\n",
    "hypothesis_criterion = 'both_classes'\n",
    "sample_type = 'local'"
   ]
  },
  {
   "cell_type": "code",
   "execution_count": 260,
   "metadata": {},
   "outputs": [],
   "source": [
    "params = {\n",
    "    'train_pos': train_pos,\n",
    "    'train_neg': train_neg,\n",
    "    'num_iters': 150,\n",
    "    'alpha':0.004,\n",
    "    'sample_ratio':0.004,\n",
    "    'hypothesis_criterion': 'both_classes',\n",
    "    'sample_type': 'local',\n",
    "    'trainx_min': trainx_min,\n",
    "    'trainx_max': trainx_max,\n",
    "    'fraction': 0.17,\n",
    "    'num_iters': 200, #максимальное количество итераций расширения\n",
    "    'verbose': False,\n",
    "    'n_jobs': 4\n",
    "}"
   ]
  },
  {
   "cell_type": "code",
   "execution_count": 249,
   "metadata": {},
   "outputs": [],
   "source": [
    "def calculate_metric_for_obj(test_obj: pd.Series, **kwargs):\n",
    "    \n",
    "    \n",
    "    pos_hyps = mining_step(test_obj=test_obj, mining_type='pos', **kwargs)\n",
    "    pos_hyps = pd.DataFrame(pos_hyps)\n",
    "    \n",
    "    \n",
    "    neg_hyps = mining_step(test_obj=test_obj, mining_type='neg', **kwargs)\n",
    "    neg_hyps = pd.DataFrame(neg_hyps)\n",
    "    \n",
    "    \n",
    "    diff = pos_hyps.shape[0] - neg_hyps.shape[0]\n",
    "    label = None\n",
    "    if diff > 0:\n",
    "        label = 1\n",
    "    elif diff < 0:\n",
    "        label = 0\n",
    "    else:\n",
    "        label = -1\n",
    "        \n",
    "    return diff, label"
   ]
  },
  {
   "cell_type": "code",
   "execution_count": 250,
   "metadata": {},
   "outputs": [],
   "source": [
    "def evaluate_model(test_sample: pd.DataFrame, **kwargs):\n",
    "    \n",
    "    results = {}\n",
    "    \n",
    "    print(f'using params: num_iters = {num_iterations}, sample_ratio = {sample_ratio}, alpha = {alpha}')\n",
    "    \n",
    "    for i, test_obj in test_sample.iterrows():\n",
    "        diff, label = calculate_metric_for_obj(test_obj=test_obj, **kwargs)\n",
    "        results[i] = (diff, label)\n",
    "        \n",
    "    return results"
   ]
  },
  {
   "cell_type": "code",
   "execution_count": 257,
   "metadata": {},
   "outputs": [],
   "source": [
    "results = {}"
   ]
  },
  {
   "cell_type": "code",
   "execution_count": 258,
   "metadata": {},
   "outputs": [],
   "source": [
    "utils=imp.reload(utils)"
   ]
  },
  {
   "cell_type": "code",
   "execution_count": 259,
   "metadata": {},
   "outputs": [
    {
     "name": "stdout",
     "output_type": "stream",
     "text": [
      "using params: num_iters = 1000, sample_ratio = 0.003, alpha = 0.004\n",
      "start generating hypothesises\n",
      "start searching optimal local area\n",
      "0.17 120\n",
      "itr: 10\n",
      "itr: 20\n",
      "itr: 30\n",
      "itr: 40\n",
      "iteration: 0\n",
      "iteration: 100\n",
      "start generating hypothesises\n",
      "start searching optimal local area\n",
      "0.17 120\n",
      "itr: 10\n",
      "itr: 20\n",
      "itr: 30\n",
      "iteration: 0\n",
      "iteration: 100\n",
      "start generating hypothesises\n",
      "start searching optimal local area\n",
      "0.17 120\n",
      "itr: 10\n",
      "itr: 20\n",
      "itr: 30\n",
      "itr: 40\n",
      "iteration: 0\n",
      "iteration: 100\n",
      "start generating hypothesises\n",
      "start searching optimal local area\n",
      "0.17 120\n",
      "itr: 10\n",
      "itr: 20\n",
      "itr: 30\n",
      "iteration: 0\n",
      "iteration: 100\n",
      "start generating hypothesises\n",
      "start searching optimal local area\n",
      "0.17 120\n",
      "itr: 10\n",
      "itr: 20\n",
      "itr: 30\n",
      "itr: 40\n",
      "itr: 50\n",
      "itr: 60\n",
      "itr: 70\n",
      "itr: 80\n",
      "itr: 90\n",
      "itr: 100\n",
      "not enough iterations. try more iterations/ Current num_iters = 120\n",
      "iteration: 0\n",
      "Cannot generate sample from local area. Got None as local object area param!\n",
      "Cannot generate sample from local area. Got None as local object area param!\n",
      "Cannot generate sample from local area. Got None as local object area param!\n",
      "Cannot generate sample from local area. Got None as local object area param!\n",
      "Cannot generate sample from local area. Got None as local object area param!\n",
      "Cannot generate sample from local area. Got None as local object area param!\n",
      "Cannot generate sample from local area. Got None as local object area param!\n",
      "Cannot generate sample from local area. Got None as local object area param!\n",
      "Cannot generate sample from local area. Got None as local object area param!\n",
      "Cannot generate sample from local area. Got None as local object area param!\n",
      "Cannot generate sample from local area. Got None as local object area param!\n",
      "Cannot generate sample from local area. Got None as local object area param!\n",
      "Cannot generate sample from local area. Got None as local object area param!\n",
      "Cannot generate sample from local area. Got None as local object area param!\n",
      "Cannot generate sample from local area. Got None as local object area param!\n",
      "Cannot generate sample from local area. Got None as local object area param!\n",
      "Cannot generate sample from local area. Got None as local object area param!\n",
      "Cannot generate sample from local area. Got None as local object area param!\n",
      "Cannot generate sample from local area. Got None as local object area param!\n",
      "Cannot generate sample from local area. Got None as local object area param!\n",
      "Cannot generate sample from local area. Got None as local object area param!\n",
      "Cannot generate sample from local area. Got None as local object area param!\n",
      "Cannot generate sample from local area. Got None as local object area param!\n",
      "Cannot generate sample from local area. Got None as local object area param!\n",
      "Cannot generate sample from local area. Got None as local object area param!\n",
      "Cannot generate sample from local area. Got None as local object area param!\n",
      "Cannot generate sample from local area. Got None as local object area param!\n",
      "Cannot generate sample from local area. Got None as local object area param!\n",
      "Cannot generate sample from local area. Got None as local object area param!\n",
      "Cannot generate sample from local area. Got None as local object area param!\n",
      "Cannot generate sample from local area. Got None as local object area param!\n",
      "Cannot generate sample from local area. Got None as local object area param!\n",
      "Cannot generate sample from local area. Got None as local object area param!\n",
      "Cannot generate sample from local area. Got None as local object area param!\n",
      "Cannot generate sample from local area. Got None as local object area param!\n",
      "Cannot generate sample from local area. Got None as local object area param!\n",
      "Cannot generate sample from local area. Got None as local object area param!\n",
      "Cannot generate sample from local area. Got None as local object area param!\n",
      "Cannot generate sample from local area. Got None as local object area param!\n",
      "Cannot generate sample from local area. Got None as local object area param!\n",
      "Cannot generate sample from local area. Got None as local object area param!\n",
      "Cannot generate sample from local area. Got None as local object area param!\n",
      "Cannot generate sample from local area. Got None as local object area param!\n",
      "Cannot generate sample from local area. Got None as local object area param!\n",
      "Cannot generate sample from local area. Got None as local object area param!\n",
      "Cannot generate sample from local area. Got None as local object area param!\n",
      "Cannot generate sample from local area. Got None as local object area param!\n",
      "Cannot generate sample from local area. Got None as local object area param!\n",
      "Cannot generate sample from local area. Got None as local object area param!\n",
      "Cannot generate sample from local area. Got None as local object area param!\n",
      "Cannot generate sample from local area. Got None as local object area param!\n",
      "Cannot generate sample from local area. Got None as local object area param!\n",
      "Cannot generate sample from local area. Got None as local object area param!\n",
      "Cannot generate sample from local area. Got None as local object area param!\n",
      "Cannot generate sample from local area. Got None as local object area param!\n",
      "Cannot generate sample from local area. Got None as local object area param!\n",
      "Cannot generate sample from local area. Got None as local object area param!\n",
      "Cannot generate sample from local area. Got None as local object area param!\n",
      "Cannot generate sample from local area. Got None as local object area param!\n",
      "Cannot generate sample from local area. Got None as local object area param!\n",
      "Cannot generate sample from local area. Got None as local object area param!\n",
      "Cannot generate sample from local area. Got None as local object area param!\n",
      "Cannot generate sample from local area. Got None as local object area param!\n",
      "Cannot generate sample from local area. Got None as local object area param!\n",
      "Cannot generate sample from local area. Got None as local object area param!\n",
      "Cannot generate sample from local area. Got None as local object area param!\n",
      "Cannot generate sample from local area. Got None as local object area param!\n",
      "Cannot generate sample from local area. Got None as local object area param!\n",
      "Cannot generate sample from local area. Got None as local object area param!\n",
      "Cannot generate sample from local area. Got None as local object area param!\n",
      "Cannot generate sample from local area. Got None as local object area param!\n",
      "Cannot generate sample from local area. Got None as local object area param!\n",
      "Cannot generate sample from local area. Got None as local object area param!\n",
      "Cannot generate sample from local area. Got None as local object area param!\n",
      "Cannot generate sample from local area. Got None as local object area param!\n",
      "Cannot generate sample from local area. Got None as local object area param!\n",
      "Cannot generate sample from local area. Got None as local object area param!\n",
      "Cannot generate sample from local area. Got None as local object area param!\n",
      "Cannot generate sample from local area. Got None as local object area param!\n",
      "Cannot generate sample from local area. Got None as local object area param!\n",
      "Cannot generate sample from local area. Got None as local object area param!\n",
      "Cannot generate sample from local area. Got None as local object area param!\n",
      "Cannot generate sample from local area. Got None as local object area param!\n",
      "Cannot generate sample from local area. Got None as local object area param!\n",
      "Cannot generate sample from local area. Got None as local object area param!\n",
      "Cannot generate sample from local area. Got None as local object area param!\n",
      "Cannot generate sample from local area. Got None as local object area param!\n",
      "Cannot generate sample from local area. Got None as local object area param!\n",
      "Cannot generate sample from local area. Got None as local object area param!\n",
      "Cannot generate sample from local area. Got None as local object area param!\n",
      "Cannot generate sample from local area. Got None as local object area param!\n",
      "Cannot generate sample from local area. Got None as local object area param!\n",
      "Cannot generate sample from local area. Got None as local object area param!\n",
      "Cannot generate sample from local area. Got None as local object area param!\n",
      "Cannot generate sample from local area. Got None as local object area param!\n",
      "Cannot generate sample from local area. Got None as local object area param!\n"
     ]
    },
    {
     "name": "stdout",
     "output_type": "stream",
     "text": [
      "Cannot generate sample from local area. Got None as local object area param!\n",
      "Cannot generate sample from local area. Got None as local object area param!\n",
      "Cannot generate sample from local area. Got None as local object area param!\n",
      "Cannot generate sample from local area. Got None as local object area param!\n",
      "iteration: 100\n",
      "Cannot generate sample from local area. Got None as local object area param!\n",
      "Cannot generate sample from local area. Got None as local object area param!\n",
      "Cannot generate sample from local area. Got None as local object area param!\n",
      "Cannot generate sample from local area. Got None as local object area param!\n",
      "Cannot generate sample from local area. Got None as local object area param!\n",
      "Cannot generate sample from local area. Got None as local object area param!\n",
      "Cannot generate sample from local area. Got None as local object area param!\n",
      "Cannot generate sample from local area. Got None as local object area param!\n",
      "Cannot generate sample from local area. Got None as local object area param!\n",
      "Cannot generate sample from local area. Got None as local object area param!\n",
      "Cannot generate sample from local area. Got None as local object area param!\n",
      "Cannot generate sample from local area. Got None as local object area param!\n",
      "Cannot generate sample from local area. Got None as local object area param!\n",
      "Cannot generate sample from local area. Got None as local object area param!\n",
      "Cannot generate sample from local area. Got None as local object area param!\n",
      "Cannot generate sample from local area. Got None as local object area param!\n",
      "Cannot generate sample from local area. Got None as local object area param!\n",
      "Cannot generate sample from local area. Got None as local object area param!\n",
      "Cannot generate sample from local area. Got None as local object area param!\n",
      "Cannot generate sample from local area. Got None as local object area param!\n"
     ]
    },
    {
     "ename": "NotImplementedError",
     "evalue": "Wrong params for local sampling!",
     "output_type": "error",
     "traceback": [
      "\u001b[0;31m---------------------------------------------------------------------------\u001b[0m",
      "\u001b[0;31m_RemoteTraceback\u001b[0m                          Traceback (most recent call last)",
      "\u001b[0;31m_RemoteTraceback\u001b[0m: \n\"\"\"\nTraceback (most recent call last):\n  File \"/anaconda3/lib/python3.6/concurrent/futures/process.py\", line 175, in _process_worker\n    r = call_item.fn(*call_item.args, **call_item.kwargs)\n  File \"/anaconda3/lib/python3.6/concurrent/futures/process.py\", line 153, in _process_chunk\n    return [fn(*args) for args in chunk]\n  File \"/anaconda3/lib/python3.6/concurrent/futures/process.py\", line 153, in <listcomp>\n    return [fn(*args) for args in chunk]\n  File \"<ipython-input-256-643f8156589d>\", line 10, in generate_hypothesis\n    raise NotImplementedError('Wrong params for local sampling!')\nNotImplementedError: Wrong params for local sampling!\n\"\"\"",
      "\nThe above exception was the direct cause of the following exception:\n",
      "\u001b[0;31mNotImplementedError\u001b[0m                       Traceback (most recent call last)",
      "\u001b[0;32m<timed exec>\u001b[0m in \u001b[0;36m<module>\u001b[0;34m()\u001b[0m\n",
      "\u001b[0;32m<ipython-input-250-eca0f74d3761>\u001b[0m in \u001b[0;36mevaluate_model\u001b[0;34m(test_sample, **kwargs)\u001b[0m\n\u001b[1;32m      6\u001b[0m \u001b[0;34m\u001b[0m\u001b[0m\n\u001b[1;32m      7\u001b[0m     \u001b[0;32mfor\u001b[0m \u001b[0mi\u001b[0m\u001b[0;34m,\u001b[0m \u001b[0mtest_obj\u001b[0m \u001b[0;32min\u001b[0m \u001b[0mtest_sample\u001b[0m\u001b[0;34m.\u001b[0m\u001b[0miterrows\u001b[0m\u001b[0;34m(\u001b[0m\u001b[0;34m)\u001b[0m\u001b[0;34m:\u001b[0m\u001b[0;34m\u001b[0m\u001b[0m\n\u001b[0;32m----> 8\u001b[0;31m         \u001b[0mdiff\u001b[0m\u001b[0;34m,\u001b[0m \u001b[0mlabel\u001b[0m \u001b[0;34m=\u001b[0m \u001b[0mcalculate_metric_for_obj\u001b[0m\u001b[0;34m(\u001b[0m\u001b[0mtest_obj\u001b[0m\u001b[0;34m=\u001b[0m\u001b[0mtest_obj\u001b[0m\u001b[0;34m,\u001b[0m \u001b[0;34m**\u001b[0m\u001b[0mkwargs\u001b[0m\u001b[0;34m)\u001b[0m\u001b[0;34m\u001b[0m\u001b[0m\n\u001b[0m\u001b[1;32m      9\u001b[0m         \u001b[0mresults\u001b[0m\u001b[0;34m[\u001b[0m\u001b[0mi\u001b[0m\u001b[0;34m]\u001b[0m \u001b[0;34m=\u001b[0m \u001b[0;34m(\u001b[0m\u001b[0mdiff\u001b[0m\u001b[0;34m,\u001b[0m \u001b[0mlabel\u001b[0m\u001b[0;34m)\u001b[0m\u001b[0;34m\u001b[0m\u001b[0m\n\u001b[1;32m     10\u001b[0m \u001b[0;34m\u001b[0m\u001b[0m\n",
      "\u001b[0;32m<ipython-input-249-0b2c4d7dfbb8>\u001b[0m in \u001b[0;36mcalculate_metric_for_obj\u001b[0;34m(test_obj, **kwargs)\u001b[0m\n\u001b[1;32m      2\u001b[0m \u001b[0;34m\u001b[0m\u001b[0m\n\u001b[1;32m      3\u001b[0m \u001b[0;34m\u001b[0m\u001b[0m\n\u001b[0;32m----> 4\u001b[0;31m     \u001b[0mpos_hyps\u001b[0m \u001b[0;34m=\u001b[0m \u001b[0mmining_step\u001b[0m\u001b[0;34m(\u001b[0m\u001b[0mtest_obj\u001b[0m\u001b[0;34m=\u001b[0m\u001b[0mtest_obj\u001b[0m\u001b[0;34m,\u001b[0m \u001b[0mmining_type\u001b[0m\u001b[0;34m=\u001b[0m\u001b[0;34m'pos'\u001b[0m\u001b[0;34m,\u001b[0m \u001b[0;34m**\u001b[0m\u001b[0mkwargs\u001b[0m\u001b[0;34m)\u001b[0m\u001b[0;34m\u001b[0m\u001b[0m\n\u001b[0m\u001b[1;32m      5\u001b[0m     \u001b[0mpos_hyps\u001b[0m \u001b[0;34m=\u001b[0m \u001b[0mpd\u001b[0m\u001b[0;34m.\u001b[0m\u001b[0mDataFrame\u001b[0m\u001b[0;34m(\u001b[0m\u001b[0mpos_hyps\u001b[0m\u001b[0;34m)\u001b[0m\u001b[0;34m\u001b[0m\u001b[0m\n\u001b[1;32m      6\u001b[0m \u001b[0;34m\u001b[0m\u001b[0m\n",
      "\u001b[0;32m<ipython-input-256-643f8156589d>\u001b[0m in \u001b[0;36mmining_step\u001b[0;34m(test_obj, train_pos, train_neg, num_iters, sample_ratio, alpha, hypothesis_criterion, sample_type, trainx_min, trainx_max, fraction, mining_type, verbose, n_jobs)\u001b[0m\n\u001b[1;32m     86\u001b[0m \u001b[0;31m#     print(hypothesises)\u001b[0m\u001b[0;34m\u001b[0m\u001b[0;34m\u001b[0m\u001b[0m\n\u001b[1;32m     87\u001b[0m \u001b[0;34m\u001b[0m\u001b[0m\n\u001b[0;32m---> 88\u001b[0;31m     \u001b[0mhypothesises\u001b[0m \u001b[0;34m=\u001b[0m \u001b[0;34m[\u001b[0m\u001b[0mres\u001b[0m \u001b[0;32mfor\u001b[0m \u001b[0mres\u001b[0m \u001b[0;32min\u001b[0m \u001b[0mhypothesises\u001b[0m \u001b[0;32mif\u001b[0m \u001b[0mres\u001b[0m \u001b[0;32mis\u001b[0m \u001b[0;32mnot\u001b[0m \u001b[0;32mNone\u001b[0m\u001b[0;34m]\u001b[0m\u001b[0;34m\u001b[0m\u001b[0m\n\u001b[0m\u001b[1;32m     89\u001b[0m \u001b[0;31m#     print(f'All hypothesises are generated!')\u001b[0m\u001b[0;34m\u001b[0m\u001b[0;34m\u001b[0m\u001b[0m\n\u001b[1;32m     90\u001b[0m     \u001b[0;32mreturn\u001b[0m \u001b[0mhypothesises\u001b[0m\u001b[0;34m\u001b[0m\u001b[0m\n",
      "\u001b[0;32m<ipython-input-256-643f8156589d>\u001b[0m in \u001b[0;36m<listcomp>\u001b[0;34m(.0)\u001b[0m\n\u001b[1;32m     86\u001b[0m \u001b[0;31m#     print(hypothesises)\u001b[0m\u001b[0;34m\u001b[0m\u001b[0;34m\u001b[0m\u001b[0m\n\u001b[1;32m     87\u001b[0m \u001b[0;34m\u001b[0m\u001b[0m\n\u001b[0;32m---> 88\u001b[0;31m     \u001b[0mhypothesises\u001b[0m \u001b[0;34m=\u001b[0m \u001b[0;34m[\u001b[0m\u001b[0mres\u001b[0m \u001b[0;32mfor\u001b[0m \u001b[0mres\u001b[0m \u001b[0;32min\u001b[0m \u001b[0mhypothesises\u001b[0m \u001b[0;32mif\u001b[0m \u001b[0mres\u001b[0m \u001b[0;32mis\u001b[0m \u001b[0;32mnot\u001b[0m \u001b[0;32mNone\u001b[0m\u001b[0;34m]\u001b[0m\u001b[0;34m\u001b[0m\u001b[0m\n\u001b[0m\u001b[1;32m     89\u001b[0m \u001b[0;31m#     print(f'All hypothesises are generated!')\u001b[0m\u001b[0;34m\u001b[0m\u001b[0;34m\u001b[0m\u001b[0m\n\u001b[1;32m     90\u001b[0m     \u001b[0;32mreturn\u001b[0m \u001b[0mhypothesises\u001b[0m\u001b[0;34m\u001b[0m\u001b[0m\n",
      "\u001b[0;32m/anaconda3/lib/python3.6/concurrent/futures/process.py\u001b[0m in \u001b[0;36m_chain_from_iterable_of_lists\u001b[0;34m(iterable)\u001b[0m\n\u001b[1;32m    364\u001b[0m     \u001b[0mcareful\u001b[0m \u001b[0;32mnot\u001b[0m \u001b[0mto\u001b[0m \u001b[0mkeep\u001b[0m \u001b[0mreferences\u001b[0m \u001b[0mto\u001b[0m \u001b[0myielded\u001b[0m \u001b[0mobjects\u001b[0m\u001b[0;34m.\u001b[0m\u001b[0;34m\u001b[0m\u001b[0m\n\u001b[1;32m    365\u001b[0m     \"\"\"\n\u001b[0;32m--> 366\u001b[0;31m     \u001b[0;32mfor\u001b[0m \u001b[0melement\u001b[0m \u001b[0;32min\u001b[0m \u001b[0miterable\u001b[0m\u001b[0;34m:\u001b[0m\u001b[0;34m\u001b[0m\u001b[0m\n\u001b[0m\u001b[1;32m    367\u001b[0m         \u001b[0melement\u001b[0m\u001b[0;34m.\u001b[0m\u001b[0mreverse\u001b[0m\u001b[0;34m(\u001b[0m\u001b[0;34m)\u001b[0m\u001b[0;34m\u001b[0m\u001b[0m\n\u001b[1;32m    368\u001b[0m         \u001b[0;32mwhile\u001b[0m \u001b[0melement\u001b[0m\u001b[0;34m:\u001b[0m\u001b[0;34m\u001b[0m\u001b[0m\n",
      "\u001b[0;32m/anaconda3/lib/python3.6/concurrent/futures/_base.py\u001b[0m in \u001b[0;36mresult_iterator\u001b[0;34m()\u001b[0m\n\u001b[1;32m    584\u001b[0m                     \u001b[0;31m# Careful not to keep a reference to the popped future\u001b[0m\u001b[0;34m\u001b[0m\u001b[0;34m\u001b[0m\u001b[0m\n\u001b[1;32m    585\u001b[0m                     \u001b[0;32mif\u001b[0m \u001b[0mtimeout\u001b[0m \u001b[0;32mis\u001b[0m \u001b[0;32mNone\u001b[0m\u001b[0;34m:\u001b[0m\u001b[0;34m\u001b[0m\u001b[0m\n\u001b[0;32m--> 586\u001b[0;31m                         \u001b[0;32myield\u001b[0m \u001b[0mfs\u001b[0m\u001b[0;34m.\u001b[0m\u001b[0mpop\u001b[0m\u001b[0;34m(\u001b[0m\u001b[0;34m)\u001b[0m\u001b[0;34m.\u001b[0m\u001b[0mresult\u001b[0m\u001b[0;34m(\u001b[0m\u001b[0;34m)\u001b[0m\u001b[0;34m\u001b[0m\u001b[0m\n\u001b[0m\u001b[1;32m    587\u001b[0m                     \u001b[0;32melse\u001b[0m\u001b[0;34m:\u001b[0m\u001b[0;34m\u001b[0m\u001b[0m\n\u001b[1;32m    588\u001b[0m                         \u001b[0;32myield\u001b[0m \u001b[0mfs\u001b[0m\u001b[0;34m.\u001b[0m\u001b[0mpop\u001b[0m\u001b[0;34m(\u001b[0m\u001b[0;34m)\u001b[0m\u001b[0;34m.\u001b[0m\u001b[0mresult\u001b[0m\u001b[0;34m(\u001b[0m\u001b[0mend_time\u001b[0m \u001b[0;34m-\u001b[0m \u001b[0mtime\u001b[0m\u001b[0;34m.\u001b[0m\u001b[0mtime\u001b[0m\u001b[0;34m(\u001b[0m\u001b[0;34m)\u001b[0m\u001b[0;34m)\u001b[0m\u001b[0;34m\u001b[0m\u001b[0m\n",
      "\u001b[0;32m/anaconda3/lib/python3.6/concurrent/futures/_base.py\u001b[0m in \u001b[0;36mresult\u001b[0;34m(self, timeout)\u001b[0m\n\u001b[1;32m    423\u001b[0m                 \u001b[0;32mraise\u001b[0m \u001b[0mCancelledError\u001b[0m\u001b[0;34m(\u001b[0m\u001b[0;34m)\u001b[0m\u001b[0;34m\u001b[0m\u001b[0m\n\u001b[1;32m    424\u001b[0m             \u001b[0;32melif\u001b[0m \u001b[0mself\u001b[0m\u001b[0;34m.\u001b[0m\u001b[0m_state\u001b[0m \u001b[0;34m==\u001b[0m \u001b[0mFINISHED\u001b[0m\u001b[0;34m:\u001b[0m\u001b[0;34m\u001b[0m\u001b[0m\n\u001b[0;32m--> 425\u001b[0;31m                 \u001b[0;32mreturn\u001b[0m \u001b[0mself\u001b[0m\u001b[0;34m.\u001b[0m\u001b[0m__get_result\u001b[0m\u001b[0;34m(\u001b[0m\u001b[0;34m)\u001b[0m\u001b[0;34m\u001b[0m\u001b[0m\n\u001b[0m\u001b[1;32m    426\u001b[0m \u001b[0;34m\u001b[0m\u001b[0m\n\u001b[1;32m    427\u001b[0m             \u001b[0mself\u001b[0m\u001b[0;34m.\u001b[0m\u001b[0m_condition\u001b[0m\u001b[0;34m.\u001b[0m\u001b[0mwait\u001b[0m\u001b[0;34m(\u001b[0m\u001b[0mtimeout\u001b[0m\u001b[0;34m)\u001b[0m\u001b[0;34m\u001b[0m\u001b[0m\n",
      "\u001b[0;32m/anaconda3/lib/python3.6/concurrent/futures/_base.py\u001b[0m in \u001b[0;36m__get_result\u001b[0;34m(self)\u001b[0m\n\u001b[1;32m    382\u001b[0m     \u001b[0;32mdef\u001b[0m \u001b[0m__get_result\u001b[0m\u001b[0;34m(\u001b[0m\u001b[0mself\u001b[0m\u001b[0;34m)\u001b[0m\u001b[0;34m:\u001b[0m\u001b[0;34m\u001b[0m\u001b[0m\n\u001b[1;32m    383\u001b[0m         \u001b[0;32mif\u001b[0m \u001b[0mself\u001b[0m\u001b[0;34m.\u001b[0m\u001b[0m_exception\u001b[0m\u001b[0;34m:\u001b[0m\u001b[0;34m\u001b[0m\u001b[0m\n\u001b[0;32m--> 384\u001b[0;31m             \u001b[0;32mraise\u001b[0m \u001b[0mself\u001b[0m\u001b[0;34m.\u001b[0m\u001b[0m_exception\u001b[0m\u001b[0;34m\u001b[0m\u001b[0m\n\u001b[0m\u001b[1;32m    385\u001b[0m         \u001b[0;32melse\u001b[0m\u001b[0;34m:\u001b[0m\u001b[0;34m\u001b[0m\u001b[0m\n\u001b[1;32m    386\u001b[0m             \u001b[0;32mreturn\u001b[0m \u001b[0mself\u001b[0m\u001b[0;34m.\u001b[0m\u001b[0m_result\u001b[0m\u001b[0;34m\u001b[0m\u001b[0m\n",
      "\u001b[0;31mNotImplementedError\u001b[0m: Wrong params for local sampling!"
     ]
    }
   ],
   "source": [
    "%%time\n",
    "results = evaluate_model(test_sample=test_sample[9:12], **params)"
   ]
  },
  {
   "cell_type": "code",
   "execution_count": 207,
   "metadata": {},
   "outputs": [
    {
     "data": {
      "text/plain": [
       "{40388: (-21, 0), 2606: (-24, 0), 24092: (-32, 0)}"
      ]
     },
     "execution_count": 207,
     "metadata": {},
     "output_type": "execute_result"
    }
   ],
   "source": [
    "results"
   ]
  },
  {
   "cell_type": "code",
   "execution_count": 211,
   "metadata": {},
   "outputs": [
    {
     "data": {
      "text/html": [
       "<div>\n",
       "<style scoped>\n",
       "    .dataframe tbody tr th:only-of-type {\n",
       "        vertical-align: middle;\n",
       "    }\n",
       "\n",
       "    .dataframe tbody tr th {\n",
       "        vertical-align: top;\n",
       "    }\n",
       "\n",
       "    .dataframe thead th {\n",
       "        text-align: right;\n",
       "    }\n",
       "</style>\n",
       "<table border=\"1\" class=\"dataframe\">\n",
       "  <thead>\n",
       "    <tr style=\"text-align: right;\">\n",
       "      <th></th>\n",
       "      <th>RevolvingUtilizationOfUnsecuredLines</th>\n",
       "      <th>age</th>\n",
       "      <th>NumberOfTime30-59DaysPastDueNotWorse</th>\n",
       "      <th>DebtRatio</th>\n",
       "      <th>MonthlyIncome</th>\n",
       "      <th>NumberOfOpenCreditLinesAndLoans</th>\n",
       "      <th>NumberOfTimes90DaysLate</th>\n",
       "      <th>NumberRealEstateLoansOrLines</th>\n",
       "      <th>NumberOfTime60-89DaysPastDueNotWorse</th>\n",
       "      <th>NumberOfDependents</th>\n",
       "    </tr>\n",
       "    <tr>\n",
       "      <th>Id</th>\n",
       "      <th></th>\n",
       "      <th></th>\n",
       "      <th></th>\n",
       "      <th></th>\n",
       "      <th></th>\n",
       "      <th></th>\n",
       "      <th></th>\n",
       "      <th></th>\n",
       "      <th></th>\n",
       "      <th></th>\n",
       "    </tr>\n",
       "  </thead>\n",
       "  <tbody>\n",
       "    <tr>\n",
       "      <th>40388</th>\n",
       "      <td>(0.01, 0.01)</td>\n",
       "      <td>(28, 28)</td>\n",
       "      <td>(0, 0)</td>\n",
       "      <td>(0.07, 0.07)</td>\n",
       "      <td>(7083, 7083)</td>\n",
       "      <td>(7, 7)</td>\n",
       "      <td>(0, 0)</td>\n",
       "      <td>(0, 0)</td>\n",
       "      <td>(0, 0)</td>\n",
       "      <td>(1, 1)</td>\n",
       "    </tr>\n",
       "    <tr>\n",
       "      <th>2606</th>\n",
       "      <td>(0.25, 0.25)</td>\n",
       "      <td>(66, 66)</td>\n",
       "      <td>(0, 0)</td>\n",
       "      <td>(0.83, 0.83)</td>\n",
       "      <td>(4183, 4183)</td>\n",
       "      <td>(17, 17)</td>\n",
       "      <td>(0, 0)</td>\n",
       "      <td>(3, 3)</td>\n",
       "      <td>(0, 0)</td>\n",
       "      <td>(0, 0)</td>\n",
       "    </tr>\n",
       "    <tr>\n",
       "      <th>24092</th>\n",
       "      <td>(0.7, 0.7)</td>\n",
       "      <td>(29, 29)</td>\n",
       "      <td>(0, 0)</td>\n",
       "      <td>(0.81, 0.81)</td>\n",
       "      <td>(1000, 1000)</td>\n",
       "      <td>(5, 5)</td>\n",
       "      <td>(0, 0)</td>\n",
       "      <td>(0, 0)</td>\n",
       "      <td>(0, 0)</td>\n",
       "      <td>(0, 0)</td>\n",
       "    </tr>\n",
       "  </tbody>\n",
       "</table>\n",
       "</div>"
      ],
      "text/plain": [
       "      RevolvingUtilizationOfUnsecuredLines       age  \\\n",
       "Id                                                     \n",
       "40388                         (0.01, 0.01)  (28, 28)   \n",
       "2606                          (0.25, 0.25)  (66, 66)   \n",
       "24092                           (0.7, 0.7)  (29, 29)   \n",
       "\n",
       "      NumberOfTime30-59DaysPastDueNotWorse     DebtRatio MonthlyIncome  \\\n",
       "Id                                                                       \n",
       "40388                               (0, 0)  (0.07, 0.07)  (7083, 7083)   \n",
       "2606                                (0, 0)  (0.83, 0.83)  (4183, 4183)   \n",
       "24092                               (0, 0)  (0.81, 0.81)  (1000, 1000)   \n",
       "\n",
       "      NumberOfOpenCreditLinesAndLoans NumberOfTimes90DaysLate  \\\n",
       "Id                                                              \n",
       "40388                          (7, 7)                  (0, 0)   \n",
       "2606                         (17, 17)                  (0, 0)   \n",
       "24092                          (5, 5)                  (0, 0)   \n",
       "\n",
       "      NumberRealEstateLoansOrLines NumberOfTime60-89DaysPastDueNotWorse  \\\n",
       "Id                                                                        \n",
       "40388                       (0, 0)                               (0, 0)   \n",
       "2606                        (3, 3)                               (0, 0)   \n",
       "24092                       (0, 0)                               (0, 0)   \n",
       "\n",
       "      NumberOfDependents  \n",
       "Id                        \n",
       "40388             (1, 1)  \n",
       "2606              (0, 0)  \n",
       "24092             (0, 0)  "
      ]
     },
     "execution_count": 211,
     "metadata": {},
     "output_type": "execute_result"
    }
   ],
   "source": [
    "test_sample.loc[test_sample[9:12].index]"
   ]
  },
  {
   "cell_type": "code",
   "execution_count": null,
   "metadata": {},
   "outputs": [],
   "source": []
  },
  {
   "cell_type": "code",
   "execution_count": null,
   "metadata": {},
   "outputs": [],
   "source": [
    "vals"
   ]
  },
  {
   "cell_type": "code",
   "execution_count": null,
   "metadata": {},
   "outputs": [],
   "source": []
  },
  {
   "cell_type": "code",
   "execution_count": 24,
   "metadata": {},
   "outputs": [],
   "source": [
    "# %%time\n",
    "# t = hypothesises_to_feat_matrix(pos_hyps=pos_hyps, neg_hyps=neg_hyps, trainX=train_pos.sample(1))"
   ]
  },
  {
   "cell_type": "markdown",
   "metadata": {},
   "source": []
  },
  {
   "cell_type": "markdown",
   "metadata": {},
   "source": [
    "**Обучение, основанное на признаках, полученных из сгенерированных гипотез**"
   ]
  },
  {
   "cell_type": "code",
   "execution_count": 290,
   "metadata": {},
   "outputs": [
    {
     "name": "stdout",
     "output_type": "stream",
     "text": [
      "CPU times: user 4.07 s, sys: 442 ms, total: 4.51 s\n",
      "Wall time: 3min 47s\n"
     ]
    }
   ],
   "source": [
    "%%time\n",
    "gen = transform_to_feature_matrix(pos_hyps=pos_hyps, neg_hyps=neg_hyps, trainX=trainX.sample(512))"
   ]
  },
  {
   "cell_type": "code",
   "execution_count": 285,
   "metadata": {},
   "outputs": [
    {
     "data": {
      "text/plain": [
       "(1.18, 1.25, 1.71)"
      ]
     },
     "execution_count": 285,
     "metadata": {},
     "output_type": "execute_result"
    }
   ],
   "source": [
    "1.18, 1.25, 1.71, 2 range 1 4\n",
    "3.95(8), 7.35(16), 29(64), 512"
   ]
  },
  {
   "cell_type": "raw",
   "metadata": {},
   "source": [
    "t = to_binary_repr(train_pos.iloc[10], pos_hyps=pos_hyps, neg_hyps=neg_hyps)"
   ]
  },
  {
   "cell_type": "code",
   "execution_count": 70,
   "metadata": {},
   "outputs": [],
   "source": [
    "# %%time\n",
    "# result = hypothesises_to_feat_matrix(pos_hyps=pos_hyps, neg_hyps=neg_hyps, trainX=trainX.sample(1000))"
   ]
  },
  {
   "cell_type": "code",
   "execution_count": null,
   "metadata": {},
   "outputs": [],
   "source": []
  },
  {
   "cell_type": "markdown",
   "metadata": {},
   "source": [
    "**Обучение композиции, основанное на гипотезах, считая их слабыми классификаторами(Бустинг)**"
   ]
  },
  {
   "cell_type": "code",
   "execution_count": 36,
   "metadata": {},
   "outputs": [],
   "source": [
    "pos_hyps = pd.read_csv('hypothesises/test_pos_hyps.csv')\n",
    "neg_hyps = pd.read_csv('hypothesises/test_neg_hyps.csv')\n",
    "hyps = pd.concat([pos_hyps, neg_hyps])\n",
    "hyps.reset_index(drop=True, inplace=True)"
   ]
  },
  {
   "cell_type": "code",
   "execution_count": null,
   "metadata": {},
   "outputs": [],
   "source": []
  },
  {
   "cell_type": "code",
   "execution_count": 43,
   "metadata": {},
   "outputs": [],
   "source": [
    "def hyps_boosting(hypothesises: pd.DataFrame, num_iterations):\n",
    "    '''\n",
    "    у гипотез есть индекс, просто число, от 0 до кол-ва гипотез, будем использовать его за id этой гипотезы\n",
    "    '''\n",
    "    \n",
    "    ansamble = []\n",
    "    weights = list(range(1, 11))\n",
    "    weights = [w / 10 for w in weights]\n",
    "    \n",
    "    hyps_indices = list(hypothesises.index)\n",
    "    \n",
    "    ##допустим первую берем случайно(потом переделаем, чтоб брать осознанно)\n",
    "    index = np.random.choice(hyps_indices, replace=False)\n",
    "    h = hypothesises.loc[index]\n",
    "    hyps_indices.remove(index)\n",
    "    ansamble.append(h)\n",
    "    \n",
    "    #тут еще проверяется критерий того, что данный \n",
    "    while not hyps_indices and num_iterations > 0:\n",
    "        \n",
    "        index = np.random.choice(hyps_indices, replace=False)\n",
    "        h = hypothesises.loc[index]\n",
    "        \n",
    "        \n",
    "    \n",
    "    return weights\n",
    "    \n",
    "    "
   ]
  },
  {
   "cell_type": "code",
   "execution_count": 42,
   "metadata": {},
   "outputs": [
    {
     "data": {
      "text/plain": [
       "[0.1, 0.2, 0.3, 0.4, 0.5, 0.6, 0.7, 0.8, 0.9, 1.0]"
      ]
     },
     "execution_count": 42,
     "metadata": {},
     "output_type": "execute_result"
    }
   ],
   "source": [
    "hyps_boosting(hypothesises=hyps, num_iterations=10)"
   ]
  },
  {
   "cell_type": "code",
   "execution_count": 83,
   "metadata": {},
   "outputs": [
    {
     "data": {
      "text/plain": [
       "[0, 1, 2, 3, 4, 5, 6, 7, 8, 9, 10, 11, 12]"
      ]
     },
     "execution_count": 83,
     "metadata": {},
     "output_type": "execute_result"
    }
   ],
   "source": [
    "inds = list(range(13))\n",
    "inds"
   ]
  },
  {
   "cell_type": "code",
   "execution_count": 104,
   "metadata": {},
   "outputs": [
    {
     "data": {
      "text/plain": [
       "5"
      ]
     },
     "execution_count": 104,
     "metadata": {},
     "output_type": "execute_result"
    }
   ],
   "source": [
    "np.random.choice(inds)"
   ]
  },
  {
   "cell_type": "code",
   "execution_count": null,
   "metadata": {
    "scrolled": true
   },
   "outputs": [],
   "source": []
  },
  {
   "cell_type": "code",
   "execution_count": null,
   "metadata": {},
   "outputs": [],
   "source": []
  },
  {
   "cell_type": "code",
   "execution_count": null,
   "metadata": {},
   "outputs": [],
   "source": []
  },
  {
   "cell_type": "code",
   "execution_count": null,
   "metadata": {},
   "outputs": [],
   "source": []
  },
  {
   "cell_type": "code",
   "execution_count": null,
   "metadata": {},
   "outputs": [],
   "source": []
  },
  {
   "cell_type": "code",
   "execution_count": null,
   "metadata": {},
   "outputs": [],
   "source": []
  },
  {
   "cell_type": "code",
   "execution_count": null,
   "metadata": {},
   "outputs": [],
   "source": []
  },
  {
   "cell_type": "code",
   "execution_count": null,
   "metadata": {},
   "outputs": [],
   "source": []
  },
  {
   "cell_type": "code",
   "execution_count": null,
   "metadata": {},
   "outputs": [],
   "source": []
  },
  {
   "cell_type": "code",
   "execution_count": 62,
   "metadata": {},
   "outputs": [],
   "source": [
    "# a = pd.Series({'feat1':(1,1), 'feat2':(0, 1.4), 'feat3':(3, 4)})\n",
    "# b = pd.Series({'feat1':(1,2), 'feat2':(1, 1.4), 'feat3':(7, 7)})\n",
    "# c = pd.Series({'feat1':(1,1), 'feat2':(0.8, 1.6), 'feat3':(3, 4)})\n",
    "# d = pd.Series({'feat1':(2,3), 'feat2':(0, 1.4), 'feat3':(4, 6)})\n",
    "\n",
    "\n",
    "# print(a.equals(b))\n",
    "# print(a == b)\n",
    "\n",
    "# test1 = pd.Series({'feat1':(1,3), 'feat2':(1, 3.4), 'feat3':(1, 1.9)})\n",
    "# test2 = pd.Series({'feat1':(2,2.2), 'feat2':(2, 2.4), 'feat3':(3, 3.9)})\n",
    "# test3 = pd.Series({'feat1':(3,3), 'feat2':(4, 4.4), 'feat3':(4, 4.9)})\n",
    "\n",
    "g1 = pd.Series({'feat1':(1,1), 'feat2':(1.5, 1.5)})\n",
    "g2 = pd.DataFrame({'feat1':(-1,-1), 'feat2':(0, 0)})\n",
    "g3 = pd.Series({'feat1':(0.5,0.5), 'feat2':(1, 1)})\n",
    "\n",
    "test1 = pd.Series({'feat1':(0.1, 1), 'feat2':(-0.5, 0)})\n",
    "test2 = pd.DataFrame({'feat1':(-0.1, 1), 'feat2':(0.5, 0.8)})\n",
    "tst = pd.Series({'feat1':(-1, 1), 'feat2':(0, 1.5)})"
   ]
  },
  {
   "cell_type": "code",
   "execution_count": 287,
   "metadata": {},
   "outputs": [],
   "source": [
    "# for i,obj in sample.iterrows():\n",
    "#     print(similarity(pd.DataFrame(d).T, obj))"
   ]
  },
  {
   "cell_type": "code",
   "execution_count": 286,
   "metadata": {},
   "outputs": [],
   "source": [
    "# sample = pd.DataFrame([g1, g2, g3, test1, test2])\n",
    "# sample"
   ]
  },
  {
   "cell_type": "code",
   "execution_count": 248,
   "metadata": {},
   "outputs": [
    {
     "data": {
      "text/plain": [
       "feat1        (1, 1)\n",
       "feat2    (1.5, 1.5)\n",
       "dtype: object"
      ]
     },
     "execution_count": 248,
     "metadata": {},
     "output_type": "execute_result"
    }
   ],
   "source": [
    "g1"
   ]
  },
  {
   "cell_type": "code",
   "execution_count": 95,
   "metadata": {},
   "outputs": [
    {
     "data": {
      "text/plain": [
       "(pandas.core.series.Series, pandas.core.frame.DataFrame)"
      ]
     },
     "execution_count": 95,
     "metadata": {},
     "output_type": "execute_result"
    }
   ],
   "source": [
    "type(d), type(sample)"
   ]
  },
  {
   "cell_type": "code",
   "execution_count": 186,
   "metadata": {},
   "outputs": [],
   "source": [
    "# is_included_in_repr(d, sample)"
   ]
  },
  {
   "cell_type": "markdown",
   "metadata": {},
   "source": [
    "Тестовая функция провекри np.random.choice"
   ]
  },
  {
   "cell_type": "code",
   "execution_count": 40,
   "metadata": {},
   "outputs": [],
   "source": [
    "def compute_stat(times, data):\n",
    "    print(f\"times = {times}\")\n",
    "    sample = np.random.RandomState().choice(data, replace=False, size=10)\n",
    "    print(f\"sample = {sample}\")\n",
    "    sample_sum = np.sum(sample)\n",
    "    print(f\"sample sum = {sample_sum}\")\n",
    "    return sample_sum\n",
    "\n",
    "def run_computing(n_jobs=2):\n",
    "    data = list(range(100))\n",
    "    \n",
    "    compute_func = partial(compute_stat, data=data)\n",
    "    \n",
    "    with ProcessPoolExecutor(max_workers=n_jobs) as executor:\n",
    "        results = executor.map(compute_func, list(range(26)))\n",
    "    \n",
    "    return results"
   ]
  },
  {
   "cell_type": "code",
   "execution_count": 284,
   "metadata": {},
   "outputs": [],
   "source": [
    "# t = run_computing(n_jobs=6)"
   ]
  },
  {
   "cell_type": "code",
   "execution_count": null,
   "metadata": {},
   "outputs": [],
   "source": []
  },
  {
   "cell_type": "code",
   "execution_count": null,
   "metadata": {},
   "outputs": [],
   "source": []
  },
  {
   "cell_type": "code",
   "execution_count": null,
   "metadata": {},
   "outputs": [],
   "source": []
  }
 ],
 "metadata": {
  "kernelspec": {
   "display_name": "Python 3",
   "language": "python",
   "name": "python3"
  },
  "language_info": {
   "codemirror_mode": {
    "name": "ipython",
    "version": 3
   },
   "file_extension": ".py",
   "mimetype": "text/x-python",
   "name": "python",
   "nbconvert_exporter": "python",
   "pygments_lexer": "ipython3",
   "version": "3.6.5"
  }
 },
 "nbformat": 4,
 "nbformat_minor": 2
}
