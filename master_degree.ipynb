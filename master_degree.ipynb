{
 "cells": [
  {
   "cell_type": "code",
   "execution_count": 1,
   "metadata": {},
   "outputs": [],
   "source": [
    "import os\n",
    "import imp\n",
    "import numpy as np\n",
    "import pandas as pd\n",
    "import functions as utils\n",
    "\n",
    "from sklearn.model_selection import train_test_split\n",
    "from functools import partial\n",
    "from concurrent.futures import ProcessPoolExecutor, Executor, as_completed"
   ]
  },
  {
   "cell_type": "code",
   "execution_count": null,
   "metadata": {},
   "outputs": [],
   "source": []
  },
  {
   "cell_type": "code",
   "execution_count": 2,
   "metadata": {},
   "outputs": [],
   "source": [
    "def read_data(path, filename):\n",
    "    print(f'reading file = {os.path.join(path, filename)}')\n",
    "    data = pd.read_csv(os.path.join(path, filename))\n",
    "    data = data.rename(columns={'Unnamed: 0':'Id'})\n",
    "    print(f'data shape = {data.shape}')\n",
    "    types_info = pd.DataFrame(data.dtypes.value_counts(), columns=['columns_count'])\n",
    "    print('types info about df columns: ')\n",
    "    print(types_info)\n",
    "    return data"
   ]
  },
  {
   "cell_type": "code",
   "execution_count": 3,
   "metadata": {},
   "outputs": [],
   "source": [
    "# ls -la -h Datasets/GiveMeSomeCredit/"
   ]
  },
  {
   "cell_type": "code",
   "execution_count": null,
   "metadata": {},
   "outputs": [],
   "source": []
  },
  {
   "cell_type": "code",
   "execution_count": 3,
   "metadata": {},
   "outputs": [
    {
     "name": "stdout",
     "output_type": "stream",
     "text": [
      "reading file = Datasets/GiveMeSomeCredit/cs-training.csv\n",
      "data shape = (150000, 12)\n",
      "types info about df columns: \n",
      "         columns_count\n",
      "int64                8\n",
      "float64              4\n"
     ]
    }
   ],
   "source": [
    "train_data = read_data(path='Datasets/GiveMeSomeCredit/', filename='cs-training.csv')\n",
    "# test_data = read_data(path='Datasets/GiveMeSomeCredit/', filename='cs-test.csv')\n",
    "# descript = pd.read_excel(\"Datasets/GiveMeSomeCredit/Data Dictionary.xls\")\n",
    "# sample_data = pd.read_csv(\"Datasets/GiveMeSomeCredit/sampleEntry.csv\")"
   ]
  },
  {
   "cell_type": "code",
   "execution_count": null,
   "metadata": {},
   "outputs": [],
   "source": []
  },
  {
   "cell_type": "code",
   "execution_count": 4,
   "metadata": {},
   "outputs": [],
   "source": [
    "train_data.fillna(0, inplace=True)\n",
    "# test_data.fillna(0, inplace=True)\n",
    "\n",
    "#ставим колонку Id как индекс клиента\n",
    "train_data.set_index('Id', inplace=True)\n",
    "# test_data.set_index('Id', inplace=True)\n",
    "\n",
    "#сохраняем метку класса\n",
    "train_label = train_data['SeriousDlqin2yrs'].copy()\n",
    "train_data.drop('SeriousDlqin2yrs', axis=1, inplace=True)\n",
    "#удаляем колонку класса из тестовых данных, так как она не несет никакой информации\n",
    "# test_data.drop('SeriousDlqin2yrs', axis=1, inplace=True)"
   ]
  },
  {
   "cell_type": "code",
   "execution_count": 5,
   "metadata": {},
   "outputs": [],
   "source": [
    "train_data['NumberOfDependents'] = train_data.NumberOfDependents.astype('int')\n",
    "train_data['MonthlyIncome'] = train_data.MonthlyIncome.astype('int')"
   ]
  },
  {
   "cell_type": "code",
   "execution_count": null,
   "metadata": {},
   "outputs": [],
   "source": []
  },
  {
   "cell_type": "code",
   "execution_count": 6,
   "metadata": {},
   "outputs": [
    {
     "data": {
      "text/plain": [
       "(150000, 10)"
      ]
     },
     "execution_count": 6,
     "metadata": {},
     "output_type": "execute_result"
    }
   ],
   "source": [
    "train_data.shape#, test_data.shape"
   ]
  },
  {
   "cell_type": "code",
   "execution_count": 7,
   "metadata": {},
   "outputs": [],
   "source": [
    "float_cols = train_data.select_dtypes('float').columns\n",
    "train_data.loc[:, float_cols] = train_data.loc[:, float_cols].round(2)\n",
    "# train_data.head()"
   ]
  },
  {
   "cell_type": "code",
   "execution_count": 8,
   "metadata": {},
   "outputs": [],
   "source": [
    "# float_cols = test_data.select_dtypes('float').columns\n",
    "# test_data.loc[:, float_cols] = test_data.loc[:, float_cols].round(2)\n",
    "# test_data.head()"
   ]
  },
  {
   "cell_type": "code",
   "execution_count": 9,
   "metadata": {},
   "outputs": [],
   "source": [
    "transformed_train = utils.transform_to_description(train_data)\n",
    "# transformed_test = transform_to_description(test_data)\n",
    "# transformed_train.head(5)"
   ]
  },
  {
   "cell_type": "code",
   "execution_count": 10,
   "metadata": {},
   "outputs": [
    {
     "data": {
      "text/plain": [
       "(150000, 10)"
      ]
     },
     "execution_count": 10,
     "metadata": {},
     "output_type": "execute_result"
    }
   ],
   "source": [
    "transformed_train.shape#, transformed_test.shape"
   ]
  },
  {
   "cell_type": "code",
   "execution_count": null,
   "metadata": {},
   "outputs": [],
   "source": []
  },
  {
   "cell_type": "code",
   "execution_count": 11,
   "metadata": {},
   "outputs": [],
   "source": [
    "trainX, testX, trainY, testY = train_test_split(transformed_train, train_label, test_size=0.4)"
   ]
  },
  {
   "cell_type": "code",
   "execution_count": 12,
   "metadata": {},
   "outputs": [],
   "source": [
    "valX, testX, valY, testY = train_test_split(testX, testY, test_size=0.5)"
   ]
  },
  {
   "cell_type": "code",
   "execution_count": 13,
   "metadata": {},
   "outputs": [
    {
     "name": "stdout",
     "output_type": "stream",
     "text": [
      "(90000, 10) (30000, 10) (30000, 10)\n",
      "(90000,) (30000,) (30000,)\n"
     ]
    }
   ],
   "source": [
    "print(trainX.shape, valX.shape, testX.shape)\n",
    "print(trainY.shape, valY.shape, testY.shape)"
   ]
  },
  {
   "cell_type": "code",
   "execution_count": null,
   "metadata": {},
   "outputs": [],
   "source": []
  },
  {
   "cell_type": "code",
   "execution_count": null,
   "metadata": {},
   "outputs": [],
   "source": []
  },
  {
   "cell_type": "code",
   "execution_count": null,
   "metadata": {},
   "outputs": [],
   "source": []
  },
  {
   "cell_type": "markdown",
   "metadata": {},
   "source": [
    "**Алгоритм из работы Алексея(QBCA)**"
   ]
  },
  {
   "cell_type": "code",
   "execution_count": 14,
   "metadata": {},
   "outputs": [],
   "source": [
    "# alpha = 0.005\n",
    "# sample_ratio = 0.01\n",
    "# num_iters = 100\n",
    "# N_neg = train_label.value_counts().reset_index().iloc[0, 1]\n",
    "# N_pos = train_label.value_counts().reset_index().iloc[1, 1]\n",
    "# N_neg, N_pos"
   ]
  },
  {
   "cell_type": "markdown",
   "metadata": {},
   "source": [
    "**не обновляем индекс так как индекс - это id клиента, имеет значимую информацию**"
   ]
  },
  {
   "cell_type": "code",
   "execution_count": 19,
   "metadata": {},
   "outputs": [
    {
     "data": {
      "text/plain": [
       "((83940, 10), (6060, 10))"
      ]
     },
     "execution_count": 19,
     "metadata": {},
     "output_type": "execute_result"
    }
   ],
   "source": [
    "# train_pos = transformed_train.loc[train_label[train_label == 1].index]\n",
    "# train_neg = transformed_train.loc[train_label[train_label == 0].index]\n",
    "train_pos = trainX.loc[trainY[trainY == 1].index]\n",
    "train_neg = trainX.loc[trainY[trainY == 0].index]\n",
    "\n",
    "train_neg.shape, train_pos.shape"
   ]
  },
  {
   "cell_type": "markdown",
   "metadata": {},
   "source": [
    "**Берем выборку заемов, для начального тестирования работоспособности**"
   ]
  },
  {
   "cell_type": "code",
   "execution_count": 20,
   "metadata": {},
   "outputs": [
    {
     "data": {
      "text/plain": [
       "((1000, 10), (1000, 10))"
      ]
     },
     "execution_count": 20,
     "metadata": {},
     "output_type": "execute_result"
    }
   ],
   "source": [
    "train_pos = train_pos.sample(n=1000, replace=False)\n",
    "train_neg = train_neg.sample(n=1000, replace=False)\n",
    "train_pos.shape, train_neg.shape"
   ]
  },
  {
   "cell_type": "code",
   "execution_count": 21,
   "metadata": {
    "scrolled": true
   },
   "outputs": [
    {
     "data": {
      "text/html": [
       "<div>\n",
       "<style scoped>\n",
       "    .dataframe tbody tr th:only-of-type {\n",
       "        vertical-align: middle;\n",
       "    }\n",
       "\n",
       "    .dataframe tbody tr th {\n",
       "        vertical-align: top;\n",
       "    }\n",
       "\n",
       "    .dataframe thead th {\n",
       "        text-align: right;\n",
       "    }\n",
       "</style>\n",
       "<table border=\"1\" class=\"dataframe\">\n",
       "  <thead>\n",
       "    <tr style=\"text-align: right;\">\n",
       "      <th></th>\n",
       "      <th>RevolvingUtilizationOfUnsecuredLines</th>\n",
       "      <th>age</th>\n",
       "      <th>NumberOfTime30-59DaysPastDueNotWorse</th>\n",
       "      <th>DebtRatio</th>\n",
       "      <th>MonthlyIncome</th>\n",
       "      <th>NumberOfOpenCreditLinesAndLoans</th>\n",
       "      <th>NumberOfTimes90DaysLate</th>\n",
       "      <th>NumberRealEstateLoansOrLines</th>\n",
       "      <th>NumberOfTime60-89DaysPastDueNotWorse</th>\n",
       "      <th>NumberOfDependents</th>\n",
       "    </tr>\n",
       "    <tr>\n",
       "      <th>Id</th>\n",
       "      <th></th>\n",
       "      <th></th>\n",
       "      <th></th>\n",
       "      <th></th>\n",
       "      <th></th>\n",
       "      <th></th>\n",
       "      <th></th>\n",
       "      <th></th>\n",
       "      <th></th>\n",
       "      <th></th>\n",
       "    </tr>\n",
       "  </thead>\n",
       "  <tbody>\n",
       "    <tr>\n",
       "      <th>113187</th>\n",
       "      <td>(1.0, 1.0)</td>\n",
       "      <td>(44, 44)</td>\n",
       "      <td>(0, 0)</td>\n",
       "      <td>(0.13, 0.13)</td>\n",
       "      <td>(5700, 5700)</td>\n",
       "      <td>(3, 3)</td>\n",
       "      <td>(0, 0)</td>\n",
       "      <td>(1, 1)</td>\n",
       "      <td>(0, 0)</td>\n",
       "      <td>(2, 2)</td>\n",
       "    </tr>\n",
       "  </tbody>\n",
       "</table>\n",
       "</div>"
      ],
      "text/plain": [
       "       RevolvingUtilizationOfUnsecuredLines       age  \\\n",
       "Id                                                      \n",
       "113187                           (1.0, 1.0)  (44, 44)   \n",
       "\n",
       "       NumberOfTime30-59DaysPastDueNotWorse     DebtRatio MonthlyIncome  \\\n",
       "Id                                                                        \n",
       "113187                               (0, 0)  (0.13, 0.13)  (5700, 5700)   \n",
       "\n",
       "       NumberOfOpenCreditLinesAndLoans NumberOfTimes90DaysLate  \\\n",
       "Id                                                               \n",
       "113187                          (3, 3)                  (0, 0)   \n",
       "\n",
       "       NumberRealEstateLoansOrLines NumberOfTime60-89DaysPastDueNotWorse  \\\n",
       "Id                                                                         \n",
       "113187                       (1, 1)                               (0, 0)   \n",
       "\n",
       "       NumberOfDependents  \n",
       "Id                         \n",
       "113187             (2, 2)  "
      ]
     },
     "execution_count": 21,
     "metadata": {},
     "output_type": "execute_result"
    }
   ],
   "source": [
    "test_sample = valX.sample(1)\n",
    "test_sample"
   ]
  },
  {
   "cell_type": "code",
   "execution_count": 25,
   "metadata": {
    "scrolled": true
   },
   "outputs": [
    {
     "data": {
      "text/html": [
       "<div>\n",
       "<style scoped>\n",
       "    .dataframe tbody tr th:only-of-type {\n",
       "        vertical-align: middle;\n",
       "    }\n",
       "\n",
       "    .dataframe tbody tr th {\n",
       "        vertical-align: top;\n",
       "    }\n",
       "\n",
       "    .dataframe thead th {\n",
       "        text-align: right;\n",
       "    }\n",
       "</style>\n",
       "<table border=\"1\" class=\"dataframe\">\n",
       "  <thead>\n",
       "    <tr style=\"text-align: right;\">\n",
       "      <th></th>\n",
       "      <th>RevolvingUtilizationOfUnsecuredLines</th>\n",
       "      <th>age</th>\n",
       "      <th>NumberOfTime30-59DaysPastDueNotWorse</th>\n",
       "      <th>DebtRatio</th>\n",
       "      <th>MonthlyIncome</th>\n",
       "      <th>NumberOfOpenCreditLinesAndLoans</th>\n",
       "      <th>NumberOfTimes90DaysLate</th>\n",
       "      <th>NumberRealEstateLoansOrLines</th>\n",
       "      <th>NumberOfTime60-89DaysPastDueNotWorse</th>\n",
       "      <th>NumberOfDependents</th>\n",
       "    </tr>\n",
       "    <tr>\n",
       "      <th>Id</th>\n",
       "      <th></th>\n",
       "      <th></th>\n",
       "      <th></th>\n",
       "      <th></th>\n",
       "      <th></th>\n",
       "      <th></th>\n",
       "      <th></th>\n",
       "      <th></th>\n",
       "      <th></th>\n",
       "      <th></th>\n",
       "    </tr>\n",
       "  </thead>\n",
       "  <tbody>\n",
       "    <tr>\n",
       "      <th>47663</th>\n",
       "      <td>(0.78, 0.78)</td>\n",
       "      <td>(36, 36)</td>\n",
       "      <td>(1, 1)</td>\n",
       "      <td>(2.98, 2.98)</td>\n",
       "      <td>(1365, 1365)</td>\n",
       "      <td>(7, 7)</td>\n",
       "      <td>(1, 1)</td>\n",
       "      <td>(0, 0)</td>\n",
       "      <td>(2, 2)</td>\n",
       "      <td>(1, 1)</td>\n",
       "    </tr>\n",
       "    <tr>\n",
       "      <th>105701</th>\n",
       "      <td>(0.06, 0.06)</td>\n",
       "      <td>(65, 65)</td>\n",
       "      <td>(1, 1)</td>\n",
       "      <td>(0.64, 0.64)</td>\n",
       "      <td>(12250, 12250)</td>\n",
       "      <td>(24, 24)</td>\n",
       "      <td>(0, 0)</td>\n",
       "      <td>(13, 13)</td>\n",
       "      <td>(0, 0)</td>\n",
       "      <td>(1, 1)</td>\n",
       "    </tr>\n",
       "    <tr>\n",
       "      <th>87670</th>\n",
       "      <td>(1.0, 1.0)</td>\n",
       "      <td>(27, 27)</td>\n",
       "      <td>(0, 0)</td>\n",
       "      <td>(0.0, 0.0)</td>\n",
       "      <td>(2000, 2000)</td>\n",
       "      <td>(0, 0)</td>\n",
       "      <td>(1, 1)</td>\n",
       "      <td>(0, 0)</td>\n",
       "      <td>(1, 1)</td>\n",
       "      <td>(0, 0)</td>\n",
       "    </tr>\n",
       "    <tr>\n",
       "      <th>50310</th>\n",
       "      <td>(0.88, 0.88)</td>\n",
       "      <td>(78, 78)</td>\n",
       "      <td>(3, 3)</td>\n",
       "      <td>(423.0, 423.0)</td>\n",
       "      <td>(0, 0)</td>\n",
       "      <td>(4, 4)</td>\n",
       "      <td>(0, 0)</td>\n",
       "      <td>(1, 1)</td>\n",
       "      <td>(0, 0)</td>\n",
       "      <td>(0, 0)</td>\n",
       "    </tr>\n",
       "    <tr>\n",
       "      <th>50047</th>\n",
       "      <td>(1.0, 1.0)</td>\n",
       "      <td>(51, 51)</td>\n",
       "      <td>(1, 1)</td>\n",
       "      <td>(0.62, 0.62)</td>\n",
       "      <td>(6058, 6058)</td>\n",
       "      <td>(8, 8)</td>\n",
       "      <td>(0, 0)</td>\n",
       "      <td>(2, 2)</td>\n",
       "      <td>(1, 1)</td>\n",
       "      <td>(0, 0)</td>\n",
       "    </tr>\n",
       "    <tr>\n",
       "      <th>53256</th>\n",
       "      <td>(1.02, 1.02)</td>\n",
       "      <td>(41, 41)</td>\n",
       "      <td>(1, 1)</td>\n",
       "      <td>(0.53, 0.53)</td>\n",
       "      <td>(4198, 4198)</td>\n",
       "      <td>(5, 5)</td>\n",
       "      <td>(1, 1)</td>\n",
       "      <td>(1, 1)</td>\n",
       "      <td>(1, 1)</td>\n",
       "      <td>(2, 2)</td>\n",
       "    </tr>\n",
       "    <tr>\n",
       "      <th>123640</th>\n",
       "      <td>(0.88, 0.88)</td>\n",
       "      <td>(62, 62)</td>\n",
       "      <td>(0, 0)</td>\n",
       "      <td>(0.52, 0.52)</td>\n",
       "      <td>(3000, 3000)</td>\n",
       "      <td>(10, 10)</td>\n",
       "      <td>(0, 0)</td>\n",
       "      <td>(2, 2)</td>\n",
       "      <td>(0, 0)</td>\n",
       "      <td>(0, 0)</td>\n",
       "    </tr>\n",
       "    <tr>\n",
       "      <th>75586</th>\n",
       "      <td>(1.0, 1.0)</td>\n",
       "      <td>(67, 67)</td>\n",
       "      <td>(2, 2)</td>\n",
       "      <td>(706.0, 706.0)</td>\n",
       "      <td>(0, 0)</td>\n",
       "      <td>(2, 2)</td>\n",
       "      <td>(3, 3)</td>\n",
       "      <td>(0, 0)</td>\n",
       "      <td>(2, 2)</td>\n",
       "      <td>(0, 0)</td>\n",
       "    </tr>\n",
       "    <tr>\n",
       "      <th>28913</th>\n",
       "      <td>(1.14, 1.14)</td>\n",
       "      <td>(25, 25)</td>\n",
       "      <td>(0, 0)</td>\n",
       "      <td>(102.0, 102.0)</td>\n",
       "      <td>(0, 0)</td>\n",
       "      <td>(1, 1)</td>\n",
       "      <td>(0, 0)</td>\n",
       "      <td>(0, 0)</td>\n",
       "      <td>(0, 0)</td>\n",
       "      <td>(0, 0)</td>\n",
       "    </tr>\n",
       "    <tr>\n",
       "      <th>127921</th>\n",
       "      <td>(1.04, 1.04)</td>\n",
       "      <td>(57, 57)</td>\n",
       "      <td>(3, 3)</td>\n",
       "      <td>(0.18, 0.18)</td>\n",
       "      <td>(10895, 10895)</td>\n",
       "      <td>(7, 7)</td>\n",
       "      <td>(3, 3)</td>\n",
       "      <td>(0, 0)</td>\n",
       "      <td>(0, 0)</td>\n",
       "      <td>(2, 2)</td>\n",
       "    </tr>\n",
       "    <tr>\n",
       "      <th>28125</th>\n",
       "      <td>(0.01, 0.01)</td>\n",
       "      <td>(73, 73)</td>\n",
       "      <td>(0, 0)</td>\n",
       "      <td>(0.26, 0.26)</td>\n",
       "      <td>(7000, 7000)</td>\n",
       "      <td>(7, 7)</td>\n",
       "      <td>(0, 0)</td>\n",
       "      <td>(1, 1)</td>\n",
       "      <td>(0, 0)</td>\n",
       "      <td>(0, 0)</td>\n",
       "    </tr>\n",
       "    <tr>\n",
       "      <th>100534</th>\n",
       "      <td>(0.82, 0.82)</td>\n",
       "      <td>(40, 40)</td>\n",
       "      <td>(0, 0)</td>\n",
       "      <td>(1629.0, 1629.0)</td>\n",
       "      <td>(0, 0)</td>\n",
       "      <td>(10, 10)</td>\n",
       "      <td>(0, 0)</td>\n",
       "      <td>(0, 0)</td>\n",
       "      <td>(1, 1)</td>\n",
       "      <td>(0, 0)</td>\n",
       "    </tr>\n",
       "    <tr>\n",
       "      <th>131250</th>\n",
       "      <td>(1.0, 1.0)</td>\n",
       "      <td>(47, 47)</td>\n",
       "      <td>(1, 1)</td>\n",
       "      <td>(0.08, 0.08)</td>\n",
       "      <td>(7646, 7646)</td>\n",
       "      <td>(1, 1)</td>\n",
       "      <td>(0, 0)</td>\n",
       "      <td>(0, 0)</td>\n",
       "      <td>(0, 0)</td>\n",
       "      <td>(0, 0)</td>\n",
       "    </tr>\n",
       "    <tr>\n",
       "      <th>13710</th>\n",
       "      <td>(1.0, 1.0)</td>\n",
       "      <td>(49, 49)</td>\n",
       "      <td>(0, 0)</td>\n",
       "      <td>(48.0, 48.0)</td>\n",
       "      <td>(0, 0)</td>\n",
       "      <td>(0, 0)</td>\n",
       "      <td>(0, 0)</td>\n",
       "      <td>(0, 0)</td>\n",
       "      <td>(0, 0)</td>\n",
       "      <td>(0, 0)</td>\n",
       "    </tr>\n",
       "    <tr>\n",
       "      <th>41211</th>\n",
       "      <td>(0.58, 0.58)</td>\n",
       "      <td>(35, 35)</td>\n",
       "      <td>(1, 1)</td>\n",
       "      <td>(0.47, 0.47)</td>\n",
       "      <td>(6333, 6333)</td>\n",
       "      <td>(6, 6)</td>\n",
       "      <td>(0, 0)</td>\n",
       "      <td>(2, 2)</td>\n",
       "      <td>(0, 0)</td>\n",
       "      <td>(0, 0)</td>\n",
       "    </tr>\n",
       "    <tr>\n",
       "      <th>96571</th>\n",
       "      <td>(1.09, 1.09)</td>\n",
       "      <td>(42, 42)</td>\n",
       "      <td>(3, 3)</td>\n",
       "      <td>(0.56, 0.56)</td>\n",
       "      <td>(8816, 8816)</td>\n",
       "      <td>(16, 16)</td>\n",
       "      <td>(2, 2)</td>\n",
       "      <td>(2, 2)</td>\n",
       "      <td>(0, 0)</td>\n",
       "      <td>(0, 0)</td>\n",
       "    </tr>\n",
       "    <tr>\n",
       "      <th>122921</th>\n",
       "      <td>(0.97, 0.97)</td>\n",
       "      <td>(62, 62)</td>\n",
       "      <td>(2, 2)</td>\n",
       "      <td>(1538.0, 1538.0)</td>\n",
       "      <td>(0, 0)</td>\n",
       "      <td>(4, 4)</td>\n",
       "      <td>(1, 1)</td>\n",
       "      <td>(0, 0)</td>\n",
       "      <td>(0, 0)</td>\n",
       "      <td>(0, 0)</td>\n",
       "    </tr>\n",
       "    <tr>\n",
       "      <th>40781</th>\n",
       "      <td>(0.14, 0.14)</td>\n",
       "      <td>(85, 85)</td>\n",
       "      <td>(0, 0)</td>\n",
       "      <td>(0.02, 0.02)</td>\n",
       "      <td>(3566, 3566)</td>\n",
       "      <td>(3, 3)</td>\n",
       "      <td>(0, 0)</td>\n",
       "      <td>(0, 0)</td>\n",
       "      <td>(1, 1)</td>\n",
       "      <td>(0, 0)</td>\n",
       "    </tr>\n",
       "    <tr>\n",
       "      <th>43540</th>\n",
       "      <td>(0.94, 0.94)</td>\n",
       "      <td>(35, 35)</td>\n",
       "      <td>(3, 3)</td>\n",
       "      <td>(0.4, 0.4)</td>\n",
       "      <td>(3900, 3900)</td>\n",
       "      <td>(9, 9)</td>\n",
       "      <td>(0, 0)</td>\n",
       "      <td>(0, 0)</td>\n",
       "      <td>(0, 0)</td>\n",
       "      <td>(3, 3)</td>\n",
       "    </tr>\n",
       "    <tr>\n",
       "      <th>71955</th>\n",
       "      <td>(1.0, 1.0)</td>\n",
       "      <td>(23, 23)</td>\n",
       "      <td>(0, 0)</td>\n",
       "      <td>(274.0, 274.0)</td>\n",
       "      <td>(0, 0)</td>\n",
       "      <td>(1, 1)</td>\n",
       "      <td>(0, 0)</td>\n",
       "      <td>(0, 0)</td>\n",
       "      <td>(2, 2)</td>\n",
       "      <td>(0, 0)</td>\n",
       "    </tr>\n",
       "    <tr>\n",
       "      <th>50374</th>\n",
       "      <td>(0.0, 0.0)</td>\n",
       "      <td>(70, 70)</td>\n",
       "      <td>(0, 0)</td>\n",
       "      <td>(1663.0, 1663.0)</td>\n",
       "      <td>(0, 0)</td>\n",
       "      <td>(4, 4)</td>\n",
       "      <td>(0, 0)</td>\n",
       "      <td>(1, 1)</td>\n",
       "      <td>(0, 0)</td>\n",
       "      <td>(0, 0)</td>\n",
       "    </tr>\n",
       "    <tr>\n",
       "      <th>136962</th>\n",
       "      <td>(1.01, 1.01)</td>\n",
       "      <td>(25, 25)</td>\n",
       "      <td>(1, 1)</td>\n",
       "      <td>(0.12, 0.12)</td>\n",
       "      <td>(2600, 2600)</td>\n",
       "      <td>(6, 6)</td>\n",
       "      <td>(0, 0)</td>\n",
       "      <td>(0, 0)</td>\n",
       "      <td>(0, 0)</td>\n",
       "      <td>(0, 0)</td>\n",
       "    </tr>\n",
       "    <tr>\n",
       "      <th>6659</th>\n",
       "      <td>(0.8, 0.8)</td>\n",
       "      <td>(31, 31)</td>\n",
       "      <td>(2, 2)</td>\n",
       "      <td>(0.01, 0.01)</td>\n",
       "      <td>(81000, 81000)</td>\n",
       "      <td>(5, 5)</td>\n",
       "      <td>(0, 0)</td>\n",
       "      <td>(0, 0)</td>\n",
       "      <td>(0, 0)</td>\n",
       "      <td>(2, 2)</td>\n",
       "    </tr>\n",
       "    <tr>\n",
       "      <th>89516</th>\n",
       "      <td>(0.8, 0.8)</td>\n",
       "      <td>(54, 54)</td>\n",
       "      <td>(3, 3)</td>\n",
       "      <td>(0.59, 0.59)</td>\n",
       "      <td>(4450, 4450)</td>\n",
       "      <td>(12, 12)</td>\n",
       "      <td>(0, 0)</td>\n",
       "      <td>(2, 2)</td>\n",
       "      <td>(0, 0)</td>\n",
       "      <td>(0, 0)</td>\n",
       "    </tr>\n",
       "    <tr>\n",
       "      <th>95550</th>\n",
       "      <td>(1.16, 1.16)</td>\n",
       "      <td>(39, 39)</td>\n",
       "      <td>(1, 1)</td>\n",
       "      <td>(10.0, 10.0)</td>\n",
       "      <td>(0, 0)</td>\n",
       "      <td>(1, 1)</td>\n",
       "      <td>(0, 0)</td>\n",
       "      <td>(0, 0)</td>\n",
       "      <td>(0, 0)</td>\n",
       "      <td>(0, 0)</td>\n",
       "    </tr>\n",
       "    <tr>\n",
       "      <th>62953</th>\n",
       "      <td>(0.44, 0.44)</td>\n",
       "      <td>(57, 57)</td>\n",
       "      <td>(0, 0)</td>\n",
       "      <td>(0.8, 0.8)</td>\n",
       "      <td>(5935, 5935)</td>\n",
       "      <td>(15, 15)</td>\n",
       "      <td>(0, 0)</td>\n",
       "      <td>(2, 2)</td>\n",
       "      <td>(0, 0)</td>\n",
       "      <td>(0, 0)</td>\n",
       "    </tr>\n",
       "    <tr>\n",
       "      <th>61603</th>\n",
       "      <td>(1.0, 1.0)</td>\n",
       "      <td>(49, 49)</td>\n",
       "      <td>(0, 0)</td>\n",
       "      <td>(0.0, 0.0)</td>\n",
       "      <td>(16200, 16200)</td>\n",
       "      <td>(4, 4)</td>\n",
       "      <td>(0, 0)</td>\n",
       "      <td>(0, 0)</td>\n",
       "      <td>(0, 0)</td>\n",
       "      <td>(0, 0)</td>\n",
       "    </tr>\n",
       "    <tr>\n",
       "      <th>37332</th>\n",
       "      <td>(0.73, 0.73)</td>\n",
       "      <td>(54, 54)</td>\n",
       "      <td>(1, 1)</td>\n",
       "      <td>(0.74, 0.74)</td>\n",
       "      <td>(6520, 6520)</td>\n",
       "      <td>(10, 10)</td>\n",
       "      <td>(0, 0)</td>\n",
       "      <td>(2, 2)</td>\n",
       "      <td>(0, 0)</td>\n",
       "      <td>(1, 1)</td>\n",
       "    </tr>\n",
       "    <tr>\n",
       "      <th>43662</th>\n",
       "      <td>(1.39, 1.39)</td>\n",
       "      <td>(30, 30)</td>\n",
       "      <td>(1, 1)</td>\n",
       "      <td>(0.29, 0.29)</td>\n",
       "      <td>(1400, 1400)</td>\n",
       "      <td>(5, 5)</td>\n",
       "      <td>(0, 0)</td>\n",
       "      <td>(0, 0)</td>\n",
       "      <td>(2, 2)</td>\n",
       "      <td>(0, 0)</td>\n",
       "    </tr>\n",
       "    <tr>\n",
       "      <th>61178</th>\n",
       "      <td>(0.18, 0.18)</td>\n",
       "      <td>(63, 63)</td>\n",
       "      <td>(0, 0)</td>\n",
       "      <td>(0.44, 0.44)</td>\n",
       "      <td>(5250, 5250)</td>\n",
       "      <td>(5, 5)</td>\n",
       "      <td>(0, 0)</td>\n",
       "      <td>(2, 2)</td>\n",
       "      <td>(0, 0)</td>\n",
       "      <td>(0, 0)</td>\n",
       "    </tr>\n",
       "    <tr>\n",
       "      <th>...</th>\n",
       "      <td>...</td>\n",
       "      <td>...</td>\n",
       "      <td>...</td>\n",
       "      <td>...</td>\n",
       "      <td>...</td>\n",
       "      <td>...</td>\n",
       "      <td>...</td>\n",
       "      <td>...</td>\n",
       "      <td>...</td>\n",
       "      <td>...</td>\n",
       "    </tr>\n",
       "    <tr>\n",
       "      <th>28400</th>\n",
       "      <td>(1.0, 1.0)</td>\n",
       "      <td>(27, 27)</td>\n",
       "      <td>(1, 1)</td>\n",
       "      <td>(0.12, 0.12)</td>\n",
       "      <td>(2400, 2400)</td>\n",
       "      <td>(1, 1)</td>\n",
       "      <td>(0, 0)</td>\n",
       "      <td>(0, 0)</td>\n",
       "      <td>(0, 0)</td>\n",
       "      <td>(1, 1)</td>\n",
       "    </tr>\n",
       "    <tr>\n",
       "      <th>68722</th>\n",
       "      <td>(0.18, 0.18)</td>\n",
       "      <td>(41, 41)</td>\n",
       "      <td>(0, 0)</td>\n",
       "      <td>(1.04, 1.04)</td>\n",
       "      <td>(700, 700)</td>\n",
       "      <td>(7, 7)</td>\n",
       "      <td>(1, 1)</td>\n",
       "      <td>(0, 0)</td>\n",
       "      <td>(1, 1)</td>\n",
       "      <td>(0, 0)</td>\n",
       "    </tr>\n",
       "    <tr>\n",
       "      <th>108630</th>\n",
       "      <td>(0.96, 0.96)</td>\n",
       "      <td>(46, 46)</td>\n",
       "      <td>(1, 1)</td>\n",
       "      <td>(0.32, 0.32)</td>\n",
       "      <td>(6500, 6500)</td>\n",
       "      <td>(7, 7)</td>\n",
       "      <td>(0, 0)</td>\n",
       "      <td>(1, 1)</td>\n",
       "      <td>(0, 0)</td>\n",
       "      <td>(4, 4)</td>\n",
       "    </tr>\n",
       "    <tr>\n",
       "      <th>1790</th>\n",
       "      <td>(1.0, 1.0)</td>\n",
       "      <td>(70, 70)</td>\n",
       "      <td>(1, 1)</td>\n",
       "      <td>(520.0, 520.0)</td>\n",
       "      <td>(0, 0)</td>\n",
       "      <td>(3, 3)</td>\n",
       "      <td>(0, 0)</td>\n",
       "      <td>(1, 1)</td>\n",
       "      <td>(1, 1)</td>\n",
       "      <td>(0, 0)</td>\n",
       "    </tr>\n",
       "    <tr>\n",
       "      <th>143255</th>\n",
       "      <td>(0.59, 0.59)</td>\n",
       "      <td>(53, 53)</td>\n",
       "      <td>(2, 2)</td>\n",
       "      <td>(0.5, 0.5)</td>\n",
       "      <td>(2800, 2800)</td>\n",
       "      <td>(7, 7)</td>\n",
       "      <td>(0, 0)</td>\n",
       "      <td>(0, 0)</td>\n",
       "      <td>(0, 0)</td>\n",
       "      <td>(1, 1)</td>\n",
       "    </tr>\n",
       "    <tr>\n",
       "      <th>125671</th>\n",
       "      <td>(0.16, 0.16)</td>\n",
       "      <td>(51, 51)</td>\n",
       "      <td>(0, 0)</td>\n",
       "      <td>(0.18, 0.18)</td>\n",
       "      <td>(9000, 9000)</td>\n",
       "      <td>(8, 8)</td>\n",
       "      <td>(0, 0)</td>\n",
       "      <td>(0, 0)</td>\n",
       "      <td>(1, 1)</td>\n",
       "      <td>(0, 0)</td>\n",
       "    </tr>\n",
       "    <tr>\n",
       "      <th>10179</th>\n",
       "      <td>(0.05, 0.05)</td>\n",
       "      <td>(36, 36)</td>\n",
       "      <td>(1, 1)</td>\n",
       "      <td>(0.26, 0.26)</td>\n",
       "      <td>(14932, 14932)</td>\n",
       "      <td>(11, 11)</td>\n",
       "      <td>(0, 0)</td>\n",
       "      <td>(1, 1)</td>\n",
       "      <td>(0, 0)</td>\n",
       "      <td>(2, 2)</td>\n",
       "    </tr>\n",
       "    <tr>\n",
       "      <th>58291</th>\n",
       "      <td>(0.85, 0.85)</td>\n",
       "      <td>(43, 43)</td>\n",
       "      <td>(0, 0)</td>\n",
       "      <td>(0.4, 0.4)</td>\n",
       "      <td>(6600, 6600)</td>\n",
       "      <td>(7, 7)</td>\n",
       "      <td>(0, 0)</td>\n",
       "      <td>(0, 0)</td>\n",
       "      <td>(0, 0)</td>\n",
       "      <td>(2, 2)</td>\n",
       "    </tr>\n",
       "    <tr>\n",
       "      <th>97349</th>\n",
       "      <td>(0.05, 0.05)</td>\n",
       "      <td>(59, 59)</td>\n",
       "      <td>(0, 0)</td>\n",
       "      <td>(0.22, 0.22)</td>\n",
       "      <td>(4000, 4000)</td>\n",
       "      <td>(15, 15)</td>\n",
       "      <td>(0, 0)</td>\n",
       "      <td>(2, 2)</td>\n",
       "      <td>(0, 0)</td>\n",
       "      <td>(0, 0)</td>\n",
       "    </tr>\n",
       "    <tr>\n",
       "      <th>101244</th>\n",
       "      <td>(0.18, 0.18)</td>\n",
       "      <td>(51, 51)</td>\n",
       "      <td>(0, 0)</td>\n",
       "      <td>(0.43, 0.43)</td>\n",
       "      <td>(8200, 8200)</td>\n",
       "      <td>(14, 14)</td>\n",
       "      <td>(0, 0)</td>\n",
       "      <td>(2, 2)</td>\n",
       "      <td>(0, 0)</td>\n",
       "      <td>(4, 4)</td>\n",
       "    </tr>\n",
       "    <tr>\n",
       "      <th>32446</th>\n",
       "      <td>(0.5, 0.5)</td>\n",
       "      <td>(52, 52)</td>\n",
       "      <td>(0, 0)</td>\n",
       "      <td>(0.39, 0.39)</td>\n",
       "      <td>(9710, 9710)</td>\n",
       "      <td>(18, 18)</td>\n",
       "      <td>(1, 1)</td>\n",
       "      <td>(1, 1)</td>\n",
       "      <td>(0, 0)</td>\n",
       "      <td>(1, 1)</td>\n",
       "    </tr>\n",
       "    <tr>\n",
       "      <th>15958</th>\n",
       "      <td>(0.16, 0.16)</td>\n",
       "      <td>(34, 34)</td>\n",
       "      <td>(2, 2)</td>\n",
       "      <td>(1940.0, 1940.0)</td>\n",
       "      <td>(0, 0)</td>\n",
       "      <td>(9, 9)</td>\n",
       "      <td>(0, 0)</td>\n",
       "      <td>(2, 2)</td>\n",
       "      <td>(0, 0)</td>\n",
       "      <td>(0, 0)</td>\n",
       "    </tr>\n",
       "    <tr>\n",
       "      <th>5889</th>\n",
       "      <td>(0.81, 0.81)</td>\n",
       "      <td>(37, 37)</td>\n",
       "      <td>(0, 0)</td>\n",
       "      <td>(0.6, 0.6)</td>\n",
       "      <td>(4546, 4546)</td>\n",
       "      <td>(12, 12)</td>\n",
       "      <td>(1, 1)</td>\n",
       "      <td>(1, 1)</td>\n",
       "      <td>(0, 0)</td>\n",
       "      <td>(2, 2)</td>\n",
       "    </tr>\n",
       "    <tr>\n",
       "      <th>73522</th>\n",
       "      <td>(0.56, 0.56)</td>\n",
       "      <td>(27, 27)</td>\n",
       "      <td>(2, 2)</td>\n",
       "      <td>(0.45, 0.45)</td>\n",
       "      <td>(3400, 3400)</td>\n",
       "      <td>(11, 11)</td>\n",
       "      <td>(0, 0)</td>\n",
       "      <td>(0, 0)</td>\n",
       "      <td>(0, 0)</td>\n",
       "      <td>(2, 2)</td>\n",
       "    </tr>\n",
       "    <tr>\n",
       "      <th>19213</th>\n",
       "      <td>(0.44, 0.44)</td>\n",
       "      <td>(73, 73)</td>\n",
       "      <td>(1, 1)</td>\n",
       "      <td>(10359.0, 10359.0)</td>\n",
       "      <td>(0, 0)</td>\n",
       "      <td>(20, 20)</td>\n",
       "      <td>(0, 0)</td>\n",
       "      <td>(1, 1)</td>\n",
       "      <td>(0, 0)</td>\n",
       "      <td>(0, 0)</td>\n",
       "    </tr>\n",
       "    <tr>\n",
       "      <th>149642</th>\n",
       "      <td>(0.93, 0.93)</td>\n",
       "      <td>(60, 60)</td>\n",
       "      <td>(1, 1)</td>\n",
       "      <td>(0.57, 0.57)</td>\n",
       "      <td>(10073, 10073)</td>\n",
       "      <td>(17, 17)</td>\n",
       "      <td>(0, 0)</td>\n",
       "      <td>(3, 3)</td>\n",
       "      <td>(0, 0)</td>\n",
       "      <td>(0, 0)</td>\n",
       "    </tr>\n",
       "    <tr>\n",
       "      <th>87105</th>\n",
       "      <td>(0.7, 0.7)</td>\n",
       "      <td>(36, 36)</td>\n",
       "      <td>(1, 1)</td>\n",
       "      <td>(435.0, 435.0)</td>\n",
       "      <td>(0, 0)</td>\n",
       "      <td>(5, 5)</td>\n",
       "      <td>(2, 2)</td>\n",
       "      <td>(0, 0)</td>\n",
       "      <td>(1, 1)</td>\n",
       "      <td>(0, 0)</td>\n",
       "    </tr>\n",
       "    <tr>\n",
       "      <th>137763</th>\n",
       "      <td>(0.93, 0.93)</td>\n",
       "      <td>(37, 37)</td>\n",
       "      <td>(3, 3)</td>\n",
       "      <td>(0.6, 0.6)</td>\n",
       "      <td>(9083, 9083)</td>\n",
       "      <td>(12, 12)</td>\n",
       "      <td>(0, 0)</td>\n",
       "      <td>(2, 2)</td>\n",
       "      <td>(0, 0)</td>\n",
       "      <td>(2, 2)</td>\n",
       "    </tr>\n",
       "    <tr>\n",
       "      <th>108211</th>\n",
       "      <td>(0.98, 0.98)</td>\n",
       "      <td>(62, 62)</td>\n",
       "      <td>(0, 0)</td>\n",
       "      <td>(2376.0, 2376.0)</td>\n",
       "      <td>(0, 0)</td>\n",
       "      <td>(7, 7)</td>\n",
       "      <td>(0, 0)</td>\n",
       "      <td>(0, 0)</td>\n",
       "      <td>(1, 1)</td>\n",
       "      <td>(0, 0)</td>\n",
       "    </tr>\n",
       "    <tr>\n",
       "      <th>40022</th>\n",
       "      <td>(0.1, 0.1)</td>\n",
       "      <td>(29, 29)</td>\n",
       "      <td>(0, 0)</td>\n",
       "      <td>(0.88, 0.88)</td>\n",
       "      <td>(2000, 2000)</td>\n",
       "      <td>(7, 7)</td>\n",
       "      <td>(0, 0)</td>\n",
       "      <td>(2, 2)</td>\n",
       "      <td>(0, 0)</td>\n",
       "      <td>(0, 0)</td>\n",
       "    </tr>\n",
       "    <tr>\n",
       "      <th>77339</th>\n",
       "      <td>(0.02, 0.02)</td>\n",
       "      <td>(51, 51)</td>\n",
       "      <td>(3, 3)</td>\n",
       "      <td>(5200.0, 5200.0)</td>\n",
       "      <td>(0, 0)</td>\n",
       "      <td>(22, 22)</td>\n",
       "      <td>(0, 0)</td>\n",
       "      <td>(2, 2)</td>\n",
       "      <td>(0, 0)</td>\n",
       "      <td>(0, 0)</td>\n",
       "    </tr>\n",
       "    <tr>\n",
       "      <th>140963</th>\n",
       "      <td>(0.58, 0.58)</td>\n",
       "      <td>(47, 47)</td>\n",
       "      <td>(0, 0)</td>\n",
       "      <td>(0.7, 0.7)</td>\n",
       "      <td>(1926, 1926)</td>\n",
       "      <td>(13, 13)</td>\n",
       "      <td>(0, 0)</td>\n",
       "      <td>(0, 0)</td>\n",
       "      <td>(0, 0)</td>\n",
       "      <td>(0, 0)</td>\n",
       "    </tr>\n",
       "    <tr>\n",
       "      <th>85422</th>\n",
       "      <td>(0.0, 0.0)</td>\n",
       "      <td>(71, 71)</td>\n",
       "      <td>(1, 1)</td>\n",
       "      <td>(0.03, 0.03)</td>\n",
       "      <td>(11700, 11700)</td>\n",
       "      <td>(6, 6)</td>\n",
       "      <td>(0, 0)</td>\n",
       "      <td>(1, 1)</td>\n",
       "      <td>(0, 0)</td>\n",
       "      <td>(0, 0)</td>\n",
       "    </tr>\n",
       "    <tr>\n",
       "      <th>29726</th>\n",
       "      <td>(0.16, 0.16)</td>\n",
       "      <td>(42, 42)</td>\n",
       "      <td>(1, 1)</td>\n",
       "      <td>(0.3, 0.3)</td>\n",
       "      <td>(6451, 6451)</td>\n",
       "      <td>(11, 11)</td>\n",
       "      <td>(0, 0)</td>\n",
       "      <td>(1, 1)</td>\n",
       "      <td>(0, 0)</td>\n",
       "      <td>(0, 0)</td>\n",
       "    </tr>\n",
       "    <tr>\n",
       "      <th>149447</th>\n",
       "      <td>(0.42, 0.42)</td>\n",
       "      <td>(40, 40)</td>\n",
       "      <td>(0, 0)</td>\n",
       "      <td>(0.74, 0.74)</td>\n",
       "      <td>(5800, 5800)</td>\n",
       "      <td>(12, 12)</td>\n",
       "      <td>(0, 0)</td>\n",
       "      <td>(2, 2)</td>\n",
       "      <td>(0, 0)</td>\n",
       "      <td>(0, 0)</td>\n",
       "    </tr>\n",
       "    <tr>\n",
       "      <th>112817</th>\n",
       "      <td>(1.0, 1.0)</td>\n",
       "      <td>(54, 54)</td>\n",
       "      <td>(1, 1)</td>\n",
       "      <td>(0.17, 0.17)</td>\n",
       "      <td>(10416, 10416)</td>\n",
       "      <td>(7, 7)</td>\n",
       "      <td>(0, 0)</td>\n",
       "      <td>(1, 1)</td>\n",
       "      <td>(1, 1)</td>\n",
       "      <td>(0, 0)</td>\n",
       "    </tr>\n",
       "    <tr>\n",
       "      <th>118649</th>\n",
       "      <td>(0.95, 0.95)</td>\n",
       "      <td>(38, 38)</td>\n",
       "      <td>(1, 1)</td>\n",
       "      <td>(0.48, 0.48)</td>\n",
       "      <td>(2736, 2736)</td>\n",
       "      <td>(4, 4)</td>\n",
       "      <td>(2, 2)</td>\n",
       "      <td>(1, 1)</td>\n",
       "      <td>(2, 2)</td>\n",
       "      <td>(0, 0)</td>\n",
       "    </tr>\n",
       "    <tr>\n",
       "      <th>137194</th>\n",
       "      <td>(0.0, 0.0)</td>\n",
       "      <td>(38, 38)</td>\n",
       "      <td>(1, 1)</td>\n",
       "      <td>(0.64, 0.64)</td>\n",
       "      <td>(2600, 2600)</td>\n",
       "      <td>(3, 3)</td>\n",
       "      <td>(0, 0)</td>\n",
       "      <td>(1, 1)</td>\n",
       "      <td>(1, 1)</td>\n",
       "      <td>(2, 2)</td>\n",
       "    </tr>\n",
       "    <tr>\n",
       "      <th>26247</th>\n",
       "      <td>(0.42, 0.42)</td>\n",
       "      <td>(52, 52)</td>\n",
       "      <td>(0, 0)</td>\n",
       "      <td>(0.35, 0.35)</td>\n",
       "      <td>(13000, 13000)</td>\n",
       "      <td>(18, 18)</td>\n",
       "      <td>(0, 0)</td>\n",
       "      <td>(2, 2)</td>\n",
       "      <td>(0, 0)</td>\n",
       "      <td>(1, 1)</td>\n",
       "    </tr>\n",
       "    <tr>\n",
       "      <th>33070</th>\n",
       "      <td>(0.99, 0.99)</td>\n",
       "      <td>(41, 41)</td>\n",
       "      <td>(3, 3)</td>\n",
       "      <td>(1.16, 1.16)</td>\n",
       "      <td>(6000, 6000)</td>\n",
       "      <td>(13, 13)</td>\n",
       "      <td>(0, 0)</td>\n",
       "      <td>(2, 2)</td>\n",
       "      <td>(0, 0)</td>\n",
       "      <td>(0, 0)</td>\n",
       "    </tr>\n",
       "  </tbody>\n",
       "</table>\n",
       "<p>1000 rows × 10 columns</p>\n",
       "</div>"
      ],
      "text/plain": [
       "       RevolvingUtilizationOfUnsecuredLines       age  \\\n",
       "Id                                                      \n",
       "47663                          (0.78, 0.78)  (36, 36)   \n",
       "105701                         (0.06, 0.06)  (65, 65)   \n",
       "87670                            (1.0, 1.0)  (27, 27)   \n",
       "50310                          (0.88, 0.88)  (78, 78)   \n",
       "50047                            (1.0, 1.0)  (51, 51)   \n",
       "53256                          (1.02, 1.02)  (41, 41)   \n",
       "123640                         (0.88, 0.88)  (62, 62)   \n",
       "75586                            (1.0, 1.0)  (67, 67)   \n",
       "28913                          (1.14, 1.14)  (25, 25)   \n",
       "127921                         (1.04, 1.04)  (57, 57)   \n",
       "28125                          (0.01, 0.01)  (73, 73)   \n",
       "100534                         (0.82, 0.82)  (40, 40)   \n",
       "131250                           (1.0, 1.0)  (47, 47)   \n",
       "13710                            (1.0, 1.0)  (49, 49)   \n",
       "41211                          (0.58, 0.58)  (35, 35)   \n",
       "96571                          (1.09, 1.09)  (42, 42)   \n",
       "122921                         (0.97, 0.97)  (62, 62)   \n",
       "40781                          (0.14, 0.14)  (85, 85)   \n",
       "43540                          (0.94, 0.94)  (35, 35)   \n",
       "71955                            (1.0, 1.0)  (23, 23)   \n",
       "50374                            (0.0, 0.0)  (70, 70)   \n",
       "136962                         (1.01, 1.01)  (25, 25)   \n",
       "6659                             (0.8, 0.8)  (31, 31)   \n",
       "89516                            (0.8, 0.8)  (54, 54)   \n",
       "95550                          (1.16, 1.16)  (39, 39)   \n",
       "62953                          (0.44, 0.44)  (57, 57)   \n",
       "61603                            (1.0, 1.0)  (49, 49)   \n",
       "37332                          (0.73, 0.73)  (54, 54)   \n",
       "43662                          (1.39, 1.39)  (30, 30)   \n",
       "61178                          (0.18, 0.18)  (63, 63)   \n",
       "...                                     ...       ...   \n",
       "28400                            (1.0, 1.0)  (27, 27)   \n",
       "68722                          (0.18, 0.18)  (41, 41)   \n",
       "108630                         (0.96, 0.96)  (46, 46)   \n",
       "1790                             (1.0, 1.0)  (70, 70)   \n",
       "143255                         (0.59, 0.59)  (53, 53)   \n",
       "125671                         (0.16, 0.16)  (51, 51)   \n",
       "10179                          (0.05, 0.05)  (36, 36)   \n",
       "58291                          (0.85, 0.85)  (43, 43)   \n",
       "97349                          (0.05, 0.05)  (59, 59)   \n",
       "101244                         (0.18, 0.18)  (51, 51)   \n",
       "32446                            (0.5, 0.5)  (52, 52)   \n",
       "15958                          (0.16, 0.16)  (34, 34)   \n",
       "5889                           (0.81, 0.81)  (37, 37)   \n",
       "73522                          (0.56, 0.56)  (27, 27)   \n",
       "19213                          (0.44, 0.44)  (73, 73)   \n",
       "149642                         (0.93, 0.93)  (60, 60)   \n",
       "87105                            (0.7, 0.7)  (36, 36)   \n",
       "137763                         (0.93, 0.93)  (37, 37)   \n",
       "108211                         (0.98, 0.98)  (62, 62)   \n",
       "40022                            (0.1, 0.1)  (29, 29)   \n",
       "77339                          (0.02, 0.02)  (51, 51)   \n",
       "140963                         (0.58, 0.58)  (47, 47)   \n",
       "85422                            (0.0, 0.0)  (71, 71)   \n",
       "29726                          (0.16, 0.16)  (42, 42)   \n",
       "149447                         (0.42, 0.42)  (40, 40)   \n",
       "112817                           (1.0, 1.0)  (54, 54)   \n",
       "118649                         (0.95, 0.95)  (38, 38)   \n",
       "137194                           (0.0, 0.0)  (38, 38)   \n",
       "26247                          (0.42, 0.42)  (52, 52)   \n",
       "33070                          (0.99, 0.99)  (41, 41)   \n",
       "\n",
       "       NumberOfTime30-59DaysPastDueNotWorse           DebtRatio  \\\n",
       "Id                                                                \n",
       "47663                                (1, 1)        (2.98, 2.98)   \n",
       "105701                               (1, 1)        (0.64, 0.64)   \n",
       "87670                                (0, 0)          (0.0, 0.0)   \n",
       "50310                                (3, 3)      (423.0, 423.0)   \n",
       "50047                                (1, 1)        (0.62, 0.62)   \n",
       "53256                                (1, 1)        (0.53, 0.53)   \n",
       "123640                               (0, 0)        (0.52, 0.52)   \n",
       "75586                                (2, 2)      (706.0, 706.0)   \n",
       "28913                                (0, 0)      (102.0, 102.0)   \n",
       "127921                               (3, 3)        (0.18, 0.18)   \n",
       "28125                                (0, 0)        (0.26, 0.26)   \n",
       "100534                               (0, 0)    (1629.0, 1629.0)   \n",
       "131250                               (1, 1)        (0.08, 0.08)   \n",
       "13710                                (0, 0)        (48.0, 48.0)   \n",
       "41211                                (1, 1)        (0.47, 0.47)   \n",
       "96571                                (3, 3)        (0.56, 0.56)   \n",
       "122921                               (2, 2)    (1538.0, 1538.0)   \n",
       "40781                                (0, 0)        (0.02, 0.02)   \n",
       "43540                                (3, 3)          (0.4, 0.4)   \n",
       "71955                                (0, 0)      (274.0, 274.0)   \n",
       "50374                                (0, 0)    (1663.0, 1663.0)   \n",
       "136962                               (1, 1)        (0.12, 0.12)   \n",
       "6659                                 (2, 2)        (0.01, 0.01)   \n",
       "89516                                (3, 3)        (0.59, 0.59)   \n",
       "95550                                (1, 1)        (10.0, 10.0)   \n",
       "62953                                (0, 0)          (0.8, 0.8)   \n",
       "61603                                (0, 0)          (0.0, 0.0)   \n",
       "37332                                (1, 1)        (0.74, 0.74)   \n",
       "43662                                (1, 1)        (0.29, 0.29)   \n",
       "61178                                (0, 0)        (0.44, 0.44)   \n",
       "...                                     ...                 ...   \n",
       "28400                                (1, 1)        (0.12, 0.12)   \n",
       "68722                                (0, 0)        (1.04, 1.04)   \n",
       "108630                               (1, 1)        (0.32, 0.32)   \n",
       "1790                                 (1, 1)      (520.0, 520.0)   \n",
       "143255                               (2, 2)          (0.5, 0.5)   \n",
       "125671                               (0, 0)        (0.18, 0.18)   \n",
       "10179                                (1, 1)        (0.26, 0.26)   \n",
       "58291                                (0, 0)          (0.4, 0.4)   \n",
       "97349                                (0, 0)        (0.22, 0.22)   \n",
       "101244                               (0, 0)        (0.43, 0.43)   \n",
       "32446                                (0, 0)        (0.39, 0.39)   \n",
       "15958                                (2, 2)    (1940.0, 1940.0)   \n",
       "5889                                 (0, 0)          (0.6, 0.6)   \n",
       "73522                                (2, 2)        (0.45, 0.45)   \n",
       "19213                                (1, 1)  (10359.0, 10359.0)   \n",
       "149642                               (1, 1)        (0.57, 0.57)   \n",
       "87105                                (1, 1)      (435.0, 435.0)   \n",
       "137763                               (3, 3)          (0.6, 0.6)   \n",
       "108211                               (0, 0)    (2376.0, 2376.0)   \n",
       "40022                                (0, 0)        (0.88, 0.88)   \n",
       "77339                                (3, 3)    (5200.0, 5200.0)   \n",
       "140963                               (0, 0)          (0.7, 0.7)   \n",
       "85422                                (1, 1)        (0.03, 0.03)   \n",
       "29726                                (1, 1)          (0.3, 0.3)   \n",
       "149447                               (0, 0)        (0.74, 0.74)   \n",
       "112817                               (1, 1)        (0.17, 0.17)   \n",
       "118649                               (1, 1)        (0.48, 0.48)   \n",
       "137194                               (1, 1)        (0.64, 0.64)   \n",
       "26247                                (0, 0)        (0.35, 0.35)   \n",
       "33070                                (3, 3)        (1.16, 1.16)   \n",
       "\n",
       "         MonthlyIncome NumberOfOpenCreditLinesAndLoans  \\\n",
       "Id                                                       \n",
       "47663     (1365, 1365)                          (7, 7)   \n",
       "105701  (12250, 12250)                        (24, 24)   \n",
       "87670     (2000, 2000)                          (0, 0)   \n",
       "50310           (0, 0)                          (4, 4)   \n",
       "50047     (6058, 6058)                          (8, 8)   \n",
       "53256     (4198, 4198)                          (5, 5)   \n",
       "123640    (3000, 3000)                        (10, 10)   \n",
       "75586           (0, 0)                          (2, 2)   \n",
       "28913           (0, 0)                          (1, 1)   \n",
       "127921  (10895, 10895)                          (7, 7)   \n",
       "28125     (7000, 7000)                          (7, 7)   \n",
       "100534          (0, 0)                        (10, 10)   \n",
       "131250    (7646, 7646)                          (1, 1)   \n",
       "13710           (0, 0)                          (0, 0)   \n",
       "41211     (6333, 6333)                          (6, 6)   \n",
       "96571     (8816, 8816)                        (16, 16)   \n",
       "122921          (0, 0)                          (4, 4)   \n",
       "40781     (3566, 3566)                          (3, 3)   \n",
       "43540     (3900, 3900)                          (9, 9)   \n",
       "71955           (0, 0)                          (1, 1)   \n",
       "50374           (0, 0)                          (4, 4)   \n",
       "136962    (2600, 2600)                          (6, 6)   \n",
       "6659    (81000, 81000)                          (5, 5)   \n",
       "89516     (4450, 4450)                        (12, 12)   \n",
       "95550           (0, 0)                          (1, 1)   \n",
       "62953     (5935, 5935)                        (15, 15)   \n",
       "61603   (16200, 16200)                          (4, 4)   \n",
       "37332     (6520, 6520)                        (10, 10)   \n",
       "43662     (1400, 1400)                          (5, 5)   \n",
       "61178     (5250, 5250)                          (5, 5)   \n",
       "...                ...                             ...   \n",
       "28400     (2400, 2400)                          (1, 1)   \n",
       "68722       (700, 700)                          (7, 7)   \n",
       "108630    (6500, 6500)                          (7, 7)   \n",
       "1790            (0, 0)                          (3, 3)   \n",
       "143255    (2800, 2800)                          (7, 7)   \n",
       "125671    (9000, 9000)                          (8, 8)   \n",
       "10179   (14932, 14932)                        (11, 11)   \n",
       "58291     (6600, 6600)                          (7, 7)   \n",
       "97349     (4000, 4000)                        (15, 15)   \n",
       "101244    (8200, 8200)                        (14, 14)   \n",
       "32446     (9710, 9710)                        (18, 18)   \n",
       "15958           (0, 0)                          (9, 9)   \n",
       "5889      (4546, 4546)                        (12, 12)   \n",
       "73522     (3400, 3400)                        (11, 11)   \n",
       "19213           (0, 0)                        (20, 20)   \n",
       "149642  (10073, 10073)                        (17, 17)   \n",
       "87105           (0, 0)                          (5, 5)   \n",
       "137763    (9083, 9083)                        (12, 12)   \n",
       "108211          (0, 0)                          (7, 7)   \n",
       "40022     (2000, 2000)                          (7, 7)   \n",
       "77339           (0, 0)                        (22, 22)   \n",
       "140963    (1926, 1926)                        (13, 13)   \n",
       "85422   (11700, 11700)                          (6, 6)   \n",
       "29726     (6451, 6451)                        (11, 11)   \n",
       "149447    (5800, 5800)                        (12, 12)   \n",
       "112817  (10416, 10416)                          (7, 7)   \n",
       "118649    (2736, 2736)                          (4, 4)   \n",
       "137194    (2600, 2600)                          (3, 3)   \n",
       "26247   (13000, 13000)                        (18, 18)   \n",
       "33070     (6000, 6000)                        (13, 13)   \n",
       "\n",
       "       NumberOfTimes90DaysLate NumberRealEstateLoansOrLines  \\\n",
       "Id                                                            \n",
       "47663                   (1, 1)                       (0, 0)   \n",
       "105701                  (0, 0)                     (13, 13)   \n",
       "87670                   (1, 1)                       (0, 0)   \n",
       "50310                   (0, 0)                       (1, 1)   \n",
       "50047                   (0, 0)                       (2, 2)   \n",
       "53256                   (1, 1)                       (1, 1)   \n",
       "123640                  (0, 0)                       (2, 2)   \n",
       "75586                   (3, 3)                       (0, 0)   \n",
       "28913                   (0, 0)                       (0, 0)   \n",
       "127921                  (3, 3)                       (0, 0)   \n",
       "28125                   (0, 0)                       (1, 1)   \n",
       "100534                  (0, 0)                       (0, 0)   \n",
       "131250                  (0, 0)                       (0, 0)   \n",
       "13710                   (0, 0)                       (0, 0)   \n",
       "41211                   (0, 0)                       (2, 2)   \n",
       "96571                   (2, 2)                       (2, 2)   \n",
       "122921                  (1, 1)                       (0, 0)   \n",
       "40781                   (0, 0)                       (0, 0)   \n",
       "43540                   (0, 0)                       (0, 0)   \n",
       "71955                   (0, 0)                       (0, 0)   \n",
       "50374                   (0, 0)                       (1, 1)   \n",
       "136962                  (0, 0)                       (0, 0)   \n",
       "6659                    (0, 0)                       (0, 0)   \n",
       "89516                   (0, 0)                       (2, 2)   \n",
       "95550                   (0, 0)                       (0, 0)   \n",
       "62953                   (0, 0)                       (2, 2)   \n",
       "61603                   (0, 0)                       (0, 0)   \n",
       "37332                   (0, 0)                       (2, 2)   \n",
       "43662                   (0, 0)                       (0, 0)   \n",
       "61178                   (0, 0)                       (2, 2)   \n",
       "...                        ...                          ...   \n",
       "28400                   (0, 0)                       (0, 0)   \n",
       "68722                   (1, 1)                       (0, 0)   \n",
       "108630                  (0, 0)                       (1, 1)   \n",
       "1790                    (0, 0)                       (1, 1)   \n",
       "143255                  (0, 0)                       (0, 0)   \n",
       "125671                  (0, 0)                       (0, 0)   \n",
       "10179                   (0, 0)                       (1, 1)   \n",
       "58291                   (0, 0)                       (0, 0)   \n",
       "97349                   (0, 0)                       (2, 2)   \n",
       "101244                  (0, 0)                       (2, 2)   \n",
       "32446                   (1, 1)                       (1, 1)   \n",
       "15958                   (0, 0)                       (2, 2)   \n",
       "5889                    (1, 1)                       (1, 1)   \n",
       "73522                   (0, 0)                       (0, 0)   \n",
       "19213                   (0, 0)                       (1, 1)   \n",
       "149642                  (0, 0)                       (3, 3)   \n",
       "87105                   (2, 2)                       (0, 0)   \n",
       "137763                  (0, 0)                       (2, 2)   \n",
       "108211                  (0, 0)                       (0, 0)   \n",
       "40022                   (0, 0)                       (2, 2)   \n",
       "77339                   (0, 0)                       (2, 2)   \n",
       "140963                  (0, 0)                       (0, 0)   \n",
       "85422                   (0, 0)                       (1, 1)   \n",
       "29726                   (0, 0)                       (1, 1)   \n",
       "149447                  (0, 0)                       (2, 2)   \n",
       "112817                  (0, 0)                       (1, 1)   \n",
       "118649                  (2, 2)                       (1, 1)   \n",
       "137194                  (0, 0)                       (1, 1)   \n",
       "26247                   (0, 0)                       (2, 2)   \n",
       "33070                   (0, 0)                       (2, 2)   \n",
       "\n",
       "       NumberOfTime60-89DaysPastDueNotWorse NumberOfDependents  \n",
       "Id                                                              \n",
       "47663                                (2, 2)             (1, 1)  \n",
       "105701                               (0, 0)             (1, 1)  \n",
       "87670                                (1, 1)             (0, 0)  \n",
       "50310                                (0, 0)             (0, 0)  \n",
       "50047                                (1, 1)             (0, 0)  \n",
       "53256                                (1, 1)             (2, 2)  \n",
       "123640                               (0, 0)             (0, 0)  \n",
       "75586                                (2, 2)             (0, 0)  \n",
       "28913                                (0, 0)             (0, 0)  \n",
       "127921                               (0, 0)             (2, 2)  \n",
       "28125                                (0, 0)             (0, 0)  \n",
       "100534                               (1, 1)             (0, 0)  \n",
       "131250                               (0, 0)             (0, 0)  \n",
       "13710                                (0, 0)             (0, 0)  \n",
       "41211                                (0, 0)             (0, 0)  \n",
       "96571                                (0, 0)             (0, 0)  \n",
       "122921                               (0, 0)             (0, 0)  \n",
       "40781                                (1, 1)             (0, 0)  \n",
       "43540                                (0, 0)             (3, 3)  \n",
       "71955                                (2, 2)             (0, 0)  \n",
       "50374                                (0, 0)             (0, 0)  \n",
       "136962                               (0, 0)             (0, 0)  \n",
       "6659                                 (0, 0)             (2, 2)  \n",
       "89516                                (0, 0)             (0, 0)  \n",
       "95550                                (0, 0)             (0, 0)  \n",
       "62953                                (0, 0)             (0, 0)  \n",
       "61603                                (0, 0)             (0, 0)  \n",
       "37332                                (0, 0)             (1, 1)  \n",
       "43662                                (2, 2)             (0, 0)  \n",
       "61178                                (0, 0)             (0, 0)  \n",
       "...                                     ...                ...  \n",
       "28400                                (0, 0)             (1, 1)  \n",
       "68722                                (1, 1)             (0, 0)  \n",
       "108630                               (0, 0)             (4, 4)  \n",
       "1790                                 (1, 1)             (0, 0)  \n",
       "143255                               (0, 0)             (1, 1)  \n",
       "125671                               (1, 1)             (0, 0)  \n",
       "10179                                (0, 0)             (2, 2)  \n",
       "58291                                (0, 0)             (2, 2)  \n",
       "97349                                (0, 0)             (0, 0)  \n",
       "101244                               (0, 0)             (4, 4)  \n",
       "32446                                (0, 0)             (1, 1)  \n",
       "15958                                (0, 0)             (0, 0)  \n",
       "5889                                 (0, 0)             (2, 2)  \n",
       "73522                                (0, 0)             (2, 2)  \n",
       "19213                                (0, 0)             (0, 0)  \n",
       "149642                               (0, 0)             (0, 0)  \n",
       "87105                                (1, 1)             (0, 0)  \n",
       "137763                               (0, 0)             (2, 2)  \n",
       "108211                               (1, 1)             (0, 0)  \n",
       "40022                                (0, 0)             (0, 0)  \n",
       "77339                                (0, 0)             (0, 0)  \n",
       "140963                               (0, 0)             (0, 0)  \n",
       "85422                                (0, 0)             (0, 0)  \n",
       "29726                                (0, 0)             (0, 0)  \n",
       "149447                               (0, 0)             (0, 0)  \n",
       "112817                               (1, 1)             (0, 0)  \n",
       "118649                               (2, 2)             (0, 0)  \n",
       "137194                               (1, 1)             (2, 2)  \n",
       "26247                                (0, 0)             (1, 1)  \n",
       "33070                                (0, 0)             (0, 0)  \n",
       "\n",
       "[1000 rows x 10 columns]"
      ]
     },
     "execution_count": 25,
     "metadata": {},
     "output_type": "execute_result"
    }
   ],
   "source": [
    "train_pos"
   ]
  },
  {
   "cell_type": "markdown",
   "metadata": {},
   "source": [
    "### Mining step\n",
    "\n",
    "\n",
    "    для положительного класса нас интересуют объекты отрицательного класса, \n",
    "    а для отрицательного - положительные\n",
    "    Уже после определения объектов из другого класса, попадающие в признаковое представление семпла данных, будет приниматься решение\n",
    "     о включение этого признакого представление в список гипотез представления(областей или интервальных представлений)\n",
    "    "
   ]
  },
  {
   "cell_type": "markdown",
   "metadata": {},
   "source": [
    "Что нужно посмотреть:\n",
    "\n",
    "    1. Сравнение количества генерируемых гипотез в зависимости от критерия и области генерации выборки.\n",
    "    (Возможно изобразить всего 4 варианта: старый подход - локальная или случайная выборка, новый подход - \n",
    "    локальная или случайная выборка)\n",
    "    \n",
    "    2. Сравнение генерируемых гипотез для старого и нового критерия в зависимости от ширины локальной области генерации\n",
    "    (Возможно есть какая то оптимальная ширина окна)\n",
    "    "
   ]
  },
  {
   "cell_type": "code",
   "execution_count": null,
   "metadata": {},
   "outputs": [],
   "source": []
  },
  {
   "cell_type": "code",
   "execution_count": null,
   "metadata": {},
   "outputs": [],
   "source": []
  },
  {
   "cell_type": "markdown",
   "metadata": {},
   "source": [
    "To-do-list:\n",
    "1. **классификации при разном включении признаков из исходного множества**\n",
    "\n",
    "2. **Подумать о том, каким образом генерить гипотезы. То есть выбирать не случайно выборку из множества объектов,\n",
    "    а какую-то локальную область. (Делать будем через расширение области объекта; более того, будем искать \n",
    "    оптимальное значение расширения локальной области) done !!!**"
   ]
  },
  {
   "cell_type": "code",
   "execution_count": null,
   "metadata": {},
   "outputs": [],
   "source": []
  },
  {
   "cell_type": "code",
   "execution_count": 24,
   "metadata": {},
   "outputs": [],
   "source": [
    "utils = imp.reload(utils)"
   ]
  },
  {
   "cell_type": "code",
   "execution_count": 89,
   "metadata": {},
   "outputs": [],
   "source": [
    "def generate_hypothesis(iteration: int, obj: pd.Series, object_area: pd.Series, train_data: pd.DataFrame, \n",
    "                        other_data: pd.DataFrame, sample_size: int, hypothesis_criterion: str,\n",
    "                        sample_type:str, verbose: bool, alpha: float):\n",
    "        \n",
    "        print(f'iteration: {iteration}')\n",
    "        \n",
    "        if sample_type == 'local' and object_area is None:\n",
    "            print(f'Cannot generate sample from local area. Got None as local object area param!')\n",
    "            raise NotImplementedError('Wrong params for local sampling!')\n",
    "    \n",
    "        if sample_type == 'random' and object_area is not None:\n",
    "            print(f'got misleading params values. Got sample_type = None and local object area is not None')\n",
    "            return NotImplementedError('Wrong params for random sampling!')\n",
    "\n",
    "        #generating random sample using sample strategy = {sample_type}\n",
    "        sample = utils.generate_random_sample(train_data=train_data, sample_size=sample_size, d=object_area) \n",
    "        sample.append(obj)\n",
    "        \n",
    "        d = utils.get_similarity_sample_repr(sample)\n",
    "        if verbose:\n",
    "            print('got feature represantation for sample')\n",
    "        \n",
    "        d_other_objects = utils.is_included_in_repr(d, train_data=other_data)\n",
    "#         if d_other_objects is not None:\n",
    "#             print(f'got {d_other_objects.shape[0]} d_other_objects')\n",
    "#             print(f'thresh for hypothesis = {int(other_data.shape[0] * alpha)}')\n",
    "    \n",
    "        if d_other_objects is None:\n",
    "            return d    \n",
    "        \n",
    "        result_hypothesis = utils.check_criterion(d=d, train_data=train_data, \n",
    "                                                  hypothesis_criterion=hypothesis_criterion, \n",
    "                                                  d_other_objects=d_other_objects,\n",
    "                                                  other_data=other_data, alpha=alpha\n",
    "                                                 )\n",
    "\n",
    "        return result_hypothesis\n",
    "        \n",
    "\n",
    "        \n",
    "\n",
    "def mining_step(test_obj: pd.Series,train_pos: pd.DataFrame, train_neg: pd.DataFrame, num_iters: int, \n",
    "                sample_ratio: float, alpha: float, hypothesis_criterion: str, sample_type: str,\n",
    "                mining_type: str = 'pos', verbose : bool = False, n_jobs : int = 4):\n",
    "    \"\"\"\n",
    "    hypothesis_criterion: 'contr_class', если используем базовый критерий, \n",
    "                                когда смотрится пересечение с противоположным классом(старый критерий отбора гипотез)\n",
    "                           'both_classes', когда интересует пересечение по обоим классам(новый критерий отбора гипотез)\n",
    "                           \n",
    "    sample_type: 'random', если берем произвольную выборку интервальных представлений\n",
    "                 'local', если берем произвольную выборку из локальной области\n",
    "    \n",
    "    returns list of hypothesises\n",
    "    \"\"\"\n",
    "    \n",
    "    if sample_type == 'local':\n",
    "        #sampling\n",
    "        print(f'start searching optimal local area')\n",
    "        object_area = utils.find_opt_local_area(obj=test_obj,\n",
    "                                                train_data=train_data,\n",
    "                                                frac=0.15,\n",
    "                                                num_iters=30\n",
    "                                               )\n",
    "    else:\n",
    "        print(f'using random sample from train data')\n",
    "        object_area = None\n",
    "    \n",
    "    train_data = train_pos if mining_type == 'pos' else train_neg\n",
    "    other_data = train_neg if mining_type == 'pos' else train_pos\n",
    "    sample_size = int(train_data.shape[0] * sample_ratio)\n",
    "    print('start generating hypothesises')\n",
    "    \n",
    "    mining = partial(generate_hypothesis, \n",
    "                     obj=test_obj, \n",
    "                     object_area=object_area,\n",
    "                     train_data=train_data, \n",
    "                     other_data=other_data, \n",
    "                     sample_size=sample_size, \n",
    "                     hypothesis_criterion=hypothesis_criterion,\n",
    "                     sample_type=sample_type,\n",
    "                     verbose=verbose,\n",
    "                     alpha=alpha\n",
    "                    )\n",
    "    \n",
    "    with ProcessPoolExecutor(max_workers=n_jobs) as executor:\n",
    "        hypothesises = executor.map(mining, range(num_iters))\n",
    "\n",
    "    hypothesises = [res for res in hypothesises if res is not None]\n",
    "    print(f'All hypothesises are generated!')\n",
    "    return hypothesises"
   ]
  },
  {
   "cell_type": "code",
   "execution_count": null,
   "metadata": {},
   "outputs": [],
   "source": []
  },
  {
   "cell_type": "code",
   "execution_count": 27,
   "metadata": {},
   "outputs": [],
   "source": [
    "# for i, obj in test_sample.iterrows():\n",
    "#     area = utils.find_opt_local_area(obj=obj, train_data=train_pos, num_iters=100)\n",
    "#     if area is not None:\n",
    "#         print('we found area')"
   ]
  },
  {
   "cell_type": "code",
   "execution_count": null,
   "metadata": {},
   "outputs": [],
   "source": []
  },
  {
   "cell_type": "code",
   "execution_count": 50,
   "metadata": {},
   "outputs": [],
   "source": [
    "# generate_local_sample(d=area, train_data=train_pos, sample_size=int(sample_ratio * train_pos.shape[0]))"
   ]
  },
  {
   "cell_type": "code",
   "execution_count": null,
   "metadata": {},
   "outputs": [],
   "source": []
  },
  {
   "cell_type": "code",
   "execution_count": 51,
   "metadata": {},
   "outputs": [],
   "source": [
    "# local_neg_objs = is_included_in_repr(d=area, train_data=train_neg)\n",
    "# local_objs = is_included_in_repr(d=area, train_data=train_pos)\n",
    "# len(local_objs), train_pos.shape, len(local_neg_objs)"
   ]
  },
  {
   "cell_type": "code",
   "execution_count": 179,
   "metadata": {},
   "outputs": [],
   "source": [
    "# for i, obj in test_sample.iterrows():\n",
    "#     sample = generate_local_sample(obj, train_data=train_pos, sample_size=3, num_iters=30)"
   ]
  },
  {
   "cell_type": "code",
   "execution_count": null,
   "metadata": {},
   "outputs": [],
   "source": []
  },
  {
   "cell_type": "code",
   "execution_count": 183,
   "metadata": {},
   "outputs": [],
   "source": [
    "# for i, obj in test_sample.iterrows():\n",
    "#     print(type(obj))\n",
    "# #     generate_local_sample(obj=obj, train_data=train_pos, sample_size=3)\n",
    "#     generated = generate_local_area(obj)"
   ]
  },
  {
   "cell_type": "code",
   "execution_count": 55,
   "metadata": {},
   "outputs": [],
   "source": [
    "# test_local_obj = transformed_train.sample(1)\n",
    "# test_local_obj\n",
    "\n",
    "# generated_obj = generate_local_area(test_local_obj)\n",
    "# generated_obj\n",
    "\n",
    "# generate_local_area(generated_obj)"
   ]
  },
  {
   "cell_type": "code",
   "execution_count": 56,
   "metadata": {},
   "outputs": [
    {
     "data": {
      "text/plain": [
       "((1000, 10), (1000, 10))"
      ]
     },
     "execution_count": 56,
     "metadata": {},
     "output_type": "execute_result"
    }
   ],
   "source": [
    "train_pos.shape, train_neg.shape"
   ]
  },
  {
   "cell_type": "code",
   "execution_count": 93,
   "metadata": {},
   "outputs": [],
   "source": [
    "alpha = 0.001\n",
    "sample_ratio = 0.002\n",
    "num_iters = 1000"
   ]
  },
  {
   "cell_type": "code",
   "execution_count": 38,
   "metadata": {},
   "outputs": [
    {
     "data": {
      "text/plain": [
       "([0.0, 0.001, 0.002], [0.001, 0.002, 0.004])"
      ]
     },
     "execution_count": 38,
     "metadata": {},
     "output_type": "execute_result"
    }
   ],
   "source": [
    "alpha_params = [0.000, 0.001, 0.002]#, 0.003, 0.004]\n",
    "sample_ratio_params = [0.001, 0.002, 0.004]#, 0.006, 0.008]\n",
    "alpha_params, sample_ratio_params"
   ]
  },
  {
   "cell_type": "code",
   "execution_count": null,
   "metadata": {},
   "outputs": [],
   "source": []
  },
  {
   "cell_type": "code",
   "execution_count": null,
   "metadata": {},
   "outputs": [],
   "source": [
    "!!!Нужно построить график зависимости генерации гипотез от количества параметров\n",
    "Нужно думаю что минимум 10 итераций"
   ]
  },
  {
   "cell_type": "code",
   "execution_count": 90,
   "metadata": {},
   "outputs": [],
   "source": [
    "results_pos = {}\n",
    "results_neg = {}\n",
    "pos_hyps = []\n",
    "neg_hyps = []"
   ]
  },
  {
   "cell_type": "code",
   "execution_count": 91,
   "metadata": {},
   "outputs": [],
   "source": [
    "num_iters = 1000"
   ]
  },
  {
   "cell_type": "code",
   "execution_count": null,
   "metadata": {},
   "outputs": [],
   "source": []
  },
  {
   "cell_type": "code",
   "execution_count": 295,
   "metadata": {
    "scrolled": true
   },
   "outputs": [],
   "source": [
    "%%time\n",
    "for i, obj in test_sample.iterrows():\n",
    "    for alpha in alpha_params:\n",
    "        for sample_ratio in sample_ratio_params:\n",
    "            print(f'using params: alpha = {alpha}, sample_ratio = {sample_ratio}, num_iters = {num_iters}')\n",
    "            \n",
    "            pos_hyps = mining_step(test_obj=obj, train_pos=train_pos, train_neg=train_neg, \n",
    "                           num_iters=num_iters,sample_ratio=sample_ratio, alpha = alpha,\n",
    "                           hypothesis_criterion='contr_class',\n",
    "                           sample_type='random',\n",
    "                           mining_type='pos',\n",
    "                           verbose=False, n_jobs=4\n",
    "                          )\n",
    "            pos_hyps_shape = pd.DataFrame(pos_hyps).shape[0] if len(pos_hyps) > 0 else 0\n",
    "            results_pos[(alpha, sample_ratio, num_iters)] = pos_hyps_shape\n",
    "#             print(f'start mining from neg objects')\n",
    "            neg_hyps = mining_step(test_obj=obj, train_pos=train_pos, train_neg=train_neg,\n",
    "                                   num_iters=num_iters, sample_ratio=sample_ratio, alpha = alpha, \n",
    "                                   hypothesis_criterion='contr_class',mining_type='neg', \n",
    "                                   sample_type='random',\n",
    "                                   verbose=False, n_jobs=4\n",
    "                                  )\n",
    "            neg_hyps_shape = pd.DataFrame(neg_hyps).shape[0] if len(neg_hyps) > 0 else 0\n",
    "            results_neg[(alpha, sample_ratio, num_iters)] = neg_hyps_shape"
   ]
  },
  {
   "cell_type": "code",
   "execution_count": 45,
   "metadata": {},
   "outputs": [
    {
     "data": {
      "text/plain": [
       "{(0.0, 0.001, 1000): 1000,\n",
       " (0.0, 0.002, 1000): 608,\n",
       " (0.0, 0.004, 1000): 17,\n",
       " (0.001, 0.001, 1000): 1000,\n",
       " (0.001, 0.002, 1000): 740,\n",
       " (0.001, 0.004, 1000): 37,\n",
       " (0.002, 0.001, 1000): 1000,\n",
       " (0.002, 0.002, 1000): 790,\n",
       " (0.002, 0.004, 1000): 51}"
      ]
     },
     "execution_count": 45,
     "metadata": {},
     "output_type": "execute_result"
    }
   ],
   "source": [
    "results_poss"
   ]
  },
  {
   "cell_type": "code",
   "execution_count": 43,
   "metadata": {},
   "outputs": [
    {
     "data": {
      "text/plain": [
       "{(0.0, 0.001, 1000): 1000,\n",
       " (0.0, 0.002, 1000): 601,\n",
       " (0.0, 0.004, 1000): 11,\n",
       " (0.001, 0.001, 1000): 1000,\n",
       " (0.001, 0.002, 1000): 754,\n",
       " (0.001, 0.004, 1000): 46,\n",
       " (0.002, 0.001, 1000): 1000,\n",
       " (0.002, 0.002, 1000): 826,\n",
       " (0.002, 0.004, 1000): 57}"
      ]
     },
     "execution_count": 43,
     "metadata": {},
     "output_type": "execute_result"
    }
   ],
   "source": [
    "results_neg"
   ]
  },
  {
   "cell_type": "code",
   "execution_count": 35,
   "metadata": {},
   "outputs": [
    {
     "data": {
      "text/plain": [
       "{(0.0, 0.001, 100): 100,\n",
       " (0.0, 0.002, 100): 58,\n",
       " (0.001, 0.001, 100): 100,\n",
       " (0.001, 0.002, 100): 76}"
      ]
     },
     "execution_count": 35,
     "metadata": {},
     "output_type": "execute_result"
    }
   ],
   "source": [
    "results_pos"
   ]
  },
  {
   "cell_type": "code",
   "execution_count": 36,
   "metadata": {},
   "outputs": [
    {
     "data": {
      "text/plain": [
       "{(0.0, 0.001, 100): 100,\n",
       " (0.0, 0.002, 100): 66,\n",
       " (0.001, 0.001, 100): 100,\n",
       " (0.001, 0.002, 100): 75}"
      ]
     },
     "execution_count": 36,
     "metadata": {},
     "output_type": "execute_result"
    }
   ],
   "source": [
    "results_neg"
   ]
  },
  {
   "cell_type": "markdown",
   "metadata": {},
   "source": [
    "**Генерация гипотез для полож класса занимает 10 мин (с 4 процессами) c 3000 iterations**\n",
    "**c 1000 iterations - 2 mins**"
   ]
  },
  {
   "cell_type": "code",
   "execution_count": 294,
   "metadata": {
    "scrolled": false
   },
   "outputs": [],
   "source": [
    "# %%time\n",
    "# for i, obj in test_sample.iterrows():\n",
    "#     print(type(obj))\n",
    "#     print(f'start mining from pos objects')\n",
    "#     pos_hyps = mining_step(test_obj=obj, train_pos=train_pos, train_neg=train_neg, \n",
    "#                            num_iters=num_iters,sample_ratio=sample_ratio, alpha = alpha,\n",
    "#                            hypothesis_criterion='contr_class',\n",
    "#                            sample_type='random',\n",
    "#                            mining_type='pos',\n",
    "#                            verbose=False, n_jobs=4\n",
    "#                           )\n",
    "    \n",
    "#     print(f'start mining from neg objects')\n",
    "#     neg_hyps = mining_step(test_obj=obj, train_pos=train_pos, train_neg=train_neg,\n",
    "#                            num_iters=num_iters, sample_ratio=sample_ratio, alpha = alpha, \n",
    "#                            hypothesis_criterion='contr_class',mining_type='neg', \n",
    "#                            sample_type='random',\n",
    "#                            verbose=False, n_jobs=4\n",
    "#                           )"
   ]
  },
  {
   "cell_type": "code",
   "execution_count": 95,
   "metadata": {},
   "outputs": [
    {
     "data": {
      "text/plain": [
       "(731, 780)"
      ]
     },
     "execution_count": 95,
     "metadata": {},
     "output_type": "execute_result"
    }
   ],
   "source": [
    "len(pos_hyps), len(neg_hyps)"
   ]
  },
  {
   "cell_type": "code",
   "execution_count": 104,
   "metadata": {},
   "outputs": [],
   "source": [
    "pos_hyps = pd.DataFrame(pos_hyps)"
   ]
  },
  {
   "cell_type": "code",
   "execution_count": 105,
   "metadata": {},
   "outputs": [],
   "source": [
    "neg_hyps = pd.DataFrame(neg_hyps)"
   ]
  },
  {
   "cell_type": "code",
   "execution_count": 106,
   "metadata": {},
   "outputs": [
    {
     "data": {
      "text/plain": [
       "(731, 780)"
      ]
     },
     "execution_count": 106,
     "metadata": {},
     "output_type": "execute_result"
    }
   ],
   "source": [
    "len(pos_hyps), len(neg_hyps)"
   ]
  },
  {
   "cell_type": "code",
   "execution_count": 58,
   "metadata": {},
   "outputs": [
    {
     "data": {
      "text/plain": [
       "(31, 51)"
      ]
     },
     "execution_count": 58,
     "metadata": {},
     "output_type": "execute_result"
    }
   ],
   "source": [
    "len(pos_hyps), len(neg_hyps)"
   ]
  },
  {
   "cell_type": "code",
   "execution_count": 39,
   "metadata": {},
   "outputs": [],
   "source": [
    "pos_hyps = pd.DataFrame(pos_hyps)\n",
    "neg_hyps = pd.DataFrame(neg_hyps)"
   ]
  },
  {
   "cell_type": "code",
   "execution_count": 40,
   "metadata": {},
   "outputs": [
    {
     "data": {
      "text/plain": [
       "((761, 10), (789, 10))"
      ]
     },
     "execution_count": 40,
     "metadata": {},
     "output_type": "execute_result"
    }
   ],
   "source": [
    "pos_hyps.shape, neg_hyps.shape"
   ]
  },
  {
   "cell_type": "code",
   "execution_count": 112,
   "metadata": {},
   "outputs": [],
   "source": [
    "neg_hyps.to_csv('hypothesises/test_neg_hyps.csv', header=True, index=False)"
   ]
  },
  {
   "cell_type": "code",
   "execution_count": null,
   "metadata": {},
   "outputs": [],
   "source": []
  },
  {
   "cell_type": "code",
   "execution_count": null,
   "metadata": {},
   "outputs": [],
   "source": []
  },
  {
   "cell_type": "code",
   "execution_count": null,
   "metadata": {},
   "outputs": [],
   "source": []
  },
  {
   "cell_type": "code",
   "execution_count": 28,
   "metadata": {},
   "outputs": [
    {
     "name": "stdout",
     "output_type": "stream",
     "text": [
      "test_neg_hyps.csv  test_pos_hyps.csv\r\n"
     ]
    }
   ],
   "source": [
    "ls hypothesises/"
   ]
  },
  {
   "cell_type": "code",
   "execution_count": 31,
   "metadata": {},
   "outputs": [
    {
     "data": {
      "text/plain": [
       "((761, 10), (789, 10))"
      ]
     },
     "execution_count": 31,
     "metadata": {},
     "output_type": "execute_result"
    }
   ],
   "source": [
    "pos_hyps = pd.read_csv('hypothesises/test_pos_hyps.csv')\n",
    "neg_hyps = pd.read_csv('hypothesises/test_neg_hyps.csv')\n",
    "pos_hyps.shape, neg_hyps.shape"
   ]
  },
  {
   "cell_type": "code",
   "execution_count": 69,
   "metadata": {},
   "outputs": [],
   "source": [
    "# count = 0\n",
    "# for i, obj in trainX.iterrows():\n",
    "#     count += 1\n",
    "#     print(i, type(obj))\n",
    "#     if count > 5:\n",
    "#         break"
   ]
  },
  {
   "cell_type": "code",
   "execution_count": 293,
   "metadata": {},
   "outputs": [],
   "source": [
    "# for i, obj in test_sample.iterrows():\n",
    "#     for key, val in obj.iteritems():\n",
    "#         print(key, type(val[0]), type(val[1]))"
   ]
  },
  {
   "cell_type": "code",
   "execution_count": 292,
   "metadata": {},
   "outputs": [],
   "source": [
    "# for i, pos_obj in pos_hyps.iterrows():\n",
    "#     for key, val in obj.iteritems():\n",
    "#         print(key, type(val[0]), type(val[1]))\n",
    "#     break"
   ]
  },
  {
   "cell_type": "code",
   "execution_count": 69,
   "metadata": {},
   "outputs": [],
   "source": [
    "some_func = lambda x, y: (min(x[0], y[0]), max(x[1], y[1]))"
   ]
  },
  {
   "cell_type": "code",
   "execution_count": 291,
   "metadata": {},
   "outputs": [],
   "source": [
    "# pos_hyps.infer_objects().info()"
   ]
  },
  {
   "cell_type": "code",
   "execution_count": null,
   "metadata": {},
   "outputs": [],
   "source": []
  },
  {
   "cell_type": "code",
   "execution_count": 109,
   "metadata": {},
   "outputs": [],
   "source": [
    "for i, obj in test_sample.iterrows():\n",
    "    for i, pos_obj in pos_hyps.iterrows():\n",
    "        repres = utils.similarity(obj, pos_obj)\n",
    "        break"
   ]
  },
  {
   "cell_type": "code",
   "execution_count": null,
   "metadata": {},
   "outputs": [],
   "source": []
  },
  {
   "cell_type": "code",
   "execution_count": null,
   "metadata": {},
   "outputs": [],
   "source": []
  },
  {
   "cell_type": "code",
   "execution_count": 143,
   "metadata": {},
   "outputs": [
    {
     "name": "stdout",
     "output_type": "stream",
     "text": [
      "CPU times: user 1.67 s, sys: 9.07 ms, total: 1.68 s\n",
      "Wall time: 1.68 s\n"
     ]
    }
   ],
   "source": [
    "%%time\n",
    "t = hypothesises_to_feat_matrix(pos_hyps=pos_hyps, neg_hyps=neg_hyps, trainX=train_pos.sample(1))"
   ]
  },
  {
   "cell_type": "code",
   "execution_count": 168,
   "metadata": {},
   "outputs": [
    {
     "data": {
      "text/html": [
       "<div>\n",
       "<style scoped>\n",
       "    .dataframe tbody tr th:only-of-type {\n",
       "        vertical-align: middle;\n",
       "    }\n",
       "\n",
       "    .dataframe tbody tr th {\n",
       "        vertical-align: top;\n",
       "    }\n",
       "\n",
       "    .dataframe thead th {\n",
       "        text-align: right;\n",
       "    }\n",
       "</style>\n",
       "<table border=\"1\" class=\"dataframe\">\n",
       "  <thead>\n",
       "    <tr style=\"text-align: right;\">\n",
       "      <th></th>\n",
       "      <th>0</th>\n",
       "      <th>1</th>\n",
       "      <th>2</th>\n",
       "      <th>3</th>\n",
       "      <th>4</th>\n",
       "      <th>5</th>\n",
       "      <th>6</th>\n",
       "      <th>7</th>\n",
       "      <th>8</th>\n",
       "      <th>9</th>\n",
       "      <th>10</th>\n",
       "      <th>11</th>\n",
       "    </tr>\n",
       "  </thead>\n",
       "  <tbody>\n",
       "    <tr>\n",
       "      <th>12</th>\n",
       "      <td>0.0</td>\n",
       "      <td>0.0</td>\n",
       "      <td>0.0</td>\n",
       "      <td>0.0</td>\n",
       "      <td>0.0</td>\n",
       "      <td>0.0</td>\n",
       "      <td>0.0</td>\n",
       "      <td>0.0</td>\n",
       "      <td>0.0</td>\n",
       "      <td>0.0</td>\n",
       "      <td>0.0</td>\n",
       "      <td>0.0</td>\n",
       "    </tr>\n",
       "  </tbody>\n",
       "</table>\n",
       "</div>"
      ],
      "text/plain": [
       "     0    1    2    3    4    5    6    7    8    9    10   11\n",
       "12  0.0  0.0  0.0  0.0  0.0  0.0  0.0  0.0  0.0  0.0  0.0  0.0"
      ]
     },
     "execution_count": 168,
     "metadata": {},
     "output_type": "execute_result"
    }
   ],
   "source": [
    "pd.DataFrame(np.zeros(shape=(1, 12)), index=[12], columns=range(12))"
   ]
  },
  {
   "cell_type": "code",
   "execution_count": 192,
   "metadata": {},
   "outputs": [
    {
     "data": {
      "text/html": [
       "<div>\n",
       "<style scoped>\n",
       "    .dataframe tbody tr th:only-of-type {\n",
       "        vertical-align: middle;\n",
       "    }\n",
       "\n",
       "    .dataframe tbody tr th {\n",
       "        vertical-align: top;\n",
       "    }\n",
       "\n",
       "    .dataframe thead th {\n",
       "        text-align: right;\n",
       "    }\n",
       "</style>\n",
       "<table border=\"1\" class=\"dataframe\">\n",
       "  <thead>\n",
       "    <tr style=\"text-align: right;\">\n",
       "      <th></th>\n",
       "      <th>0</th>\n",
       "      <th>1</th>\n",
       "      <th>2</th>\n",
       "      <th>3</th>\n",
       "      <th>4</th>\n",
       "      <th>5</th>\n",
       "      <th>6</th>\n",
       "      <th>7</th>\n",
       "      <th>8</th>\n",
       "      <th>9</th>\n",
       "      <th>10</th>\n",
       "      <th>11</th>\n",
       "    </tr>\n",
       "  </thead>\n",
       "  <tbody>\n",
       "    <tr>\n",
       "      <th>0</th>\n",
       "      <td>0.0</td>\n",
       "      <td>0.0</td>\n",
       "      <td>0.0</td>\n",
       "      <td>0.0</td>\n",
       "      <td>0.0</td>\n",
       "      <td>0.0</td>\n",
       "      <td>0.0</td>\n",
       "      <td>0.0</td>\n",
       "      <td>0.0</td>\n",
       "      <td>0.0</td>\n",
       "      <td>0.0</td>\n",
       "      <td>0.0</td>\n",
       "    </tr>\n",
       "  </tbody>\n",
       "</table>\n",
       "</div>"
      ],
      "text/plain": [
       "    0    1    2    3    4    5    6    7    8    9    10   11\n",
       "0  0.0  0.0  0.0  0.0  0.0  0.0  0.0  0.0  0.0  0.0  0.0  0.0"
      ]
     },
     "execution_count": 192,
     "metadata": {},
     "output_type": "execute_result"
    }
   ],
   "source": [
    "pd.DataFrame(np.zeros(shape=(1, 12)))"
   ]
  },
  {
   "cell_type": "code",
   "execution_count": 223,
   "metadata": {},
   "outputs": [
    {
     "data": {
      "text/plain": [
       "113187"
      ]
     },
     "execution_count": 223,
     "metadata": {},
     "output_type": "execute_result"
    }
   ],
   "source": [
    "test_sample.iloc[0].name"
   ]
  },
  {
   "cell_type": "code",
   "execution_count": 276,
   "metadata": {},
   "outputs": [],
   "source": [
    "def to_binary_repr(num: int, pos_hyps: pd.DataFrame, neg_hyps: pd.DataFrame, indices: list, trainX: pd.DataFrame):\n",
    "    ind = indices[num]\n",
    "    obj = trainX.loc[ind]\n",
    "    pos_features = [f'pos_feat_{feat_num}' for feat_num in pos_hyps.index]\n",
    "    neg_features = [f'neg_feat_{feat_num}' for feat_num in neg_hyps.index]\n",
    "    features = pos_features + neg_features\n",
    "    start_values = np.zeros(shape=(1, len(features)))\n",
    "#     print(start_values.shape)\n",
    "#     print(obj.name)\n",
    "    result = pd.DataFrame(data=start_values,index=[obj.name], columns=features, dtype='int')\n",
    "    ind = obj.name\n",
    "    for pi in range(pos_hyps.shape[0]):\n",
    "        feat_repr = utils.similarity(obj, pos_hyps.iloc[pi])\n",
    "        is_included = pos_hyps.iloc[pi].equals(feat_repr)\n",
    "        if is_included:\n",
    "            result.loc[ind, f'pos_feat_{pi}'] = 1\n",
    "        else:\n",
    "            result.loc[ind, f'pos_feat_{pi}'] = 0\n",
    "        \n",
    "    for pi in range(neg_hyps.shape[0]):\n",
    "        feat_repr = utils.similarity(obj, neg_hyps.iloc[pi])\n",
    "        is_included = neg_hyps.iloc[pi].equals(feat_repr)\n",
    "        if is_included:\n",
    "            result.loc[ind, f'neg_feat_{pi}'] = 1\n",
    "        else:\n",
    "            result.loc[ind, f'neg_feat_{pi}'] = 0\n",
    "                          \n",
    "    return result\n",
    "\n",
    "def transform_to_feature_matrix(pos_hyps: pd.DataFrame, neg_hyps: pd.DataFrame, trainX: pd.DataFrame, n_jobs: int = 4):\n",
    "    \n",
    "    indices = trainX.index\n",
    "    transform_func = partial(to_binary_repr, pos_hyps=pos_hyps, \n",
    "                             neg_hyps=neg_hyps, indices=indices, trainX=trainX)\n",
    "    \n",
    "    with ProcessPoolExecutor(max_workers=n_jobs) as executor:\n",
    "        obj_features = executor.map(transform_func, range(len(indices)))\n",
    "\n",
    "    features = pd.concat(obj_features)#pd.DataFrame(obj_features)\n",
    "    \n",
    "    return features"
   ]
  },
  {
   "cell_type": "code",
   "execution_count": 290,
   "metadata": {},
   "outputs": [
    {
     "name": "stdout",
     "output_type": "stream",
     "text": [
      "CPU times: user 4.07 s, sys: 442 ms, total: 4.51 s\n",
      "Wall time: 3min 47s\n"
     ]
    }
   ],
   "source": [
    "%%time\n",
    "gen = transform_to_feature_matrix(pos_hyps=pos_hyps, neg_hyps=neg_hyps, trainX=trainX.sample(512))"
   ]
  },
  {
   "cell_type": "code",
   "execution_count": 285,
   "metadata": {},
   "outputs": [
    {
     "data": {
      "text/plain": [
       "(1.18, 1.25, 1.71)"
      ]
     },
     "execution_count": 285,
     "metadata": {},
     "output_type": "execute_result"
    }
   ],
   "source": [
    "1.18, 1.25, 1.71, 2 range 1 4\n",
    "3.95(8), 7.35(16), 29(64), 512"
   ]
  },
  {
   "cell_type": "code",
   "execution_count": null,
   "metadata": {},
   "outputs": [],
   "source": []
  },
  {
   "cell_type": "raw",
   "metadata": {},
   "source": [
    "t = to_binary_repr(train_pos.iloc[10], pos_hyps=pos_hyps, neg_hyps=neg_hyps)"
   ]
  },
  {
   "cell_type": "code",
   "execution_count": 248,
   "metadata": {},
   "outputs": [
    {
     "data": {
      "text/plain": [
       "28125    3\n",
       "dtype: int64"
      ]
     },
     "execution_count": 248,
     "metadata": {},
     "output_type": "execute_result"
    }
   ],
   "source": [
    "t.sum(axis=1)"
   ]
  },
  {
   "cell_type": "code",
   "execution_count": 140,
   "metadata": {},
   "outputs": [],
   "source": [
    "def hypothesises_to_feat_matrix(pos_hyps: pd.DataFrame, neg_hyps: pd.DataFrame, trainX: pd.DataFrame):\n",
    "    pos_features = [f'pos_feat_{feat_num}' for feat_num in pos_hyps.index]\n",
    "#     neg_features = [f'neg_feat_{feat_num}' for feat_num in neg_hyps[pi]s.index]\n",
    "    \n",
    "    result = pd.DataFrame(index=trainX.index, columns=pos_features)# + neg_features)\n",
    "    \n",
    "    for i in range(trainX.shape[0]):\n",
    "        for pi in range(pos_hyps.shape[0]):\n",
    "\n",
    "            feat_repr = utils.similarity(obj, pos_hyps.iloc[pi])\n",
    "            is_included = pos_hyps.iloc[pi].equals(feat_repr)\n",
    "            if is_included:\n",
    "                result.loc[i, f'pos_feat_{pi}'] = 1\n",
    "            else:\n",
    "                result.loc[i, f'pos_feat_{pi}'] = 0\n",
    "                \n",
    "        for pi in range(neg_hyps.shape[0]):\n",
    "            feat_repr = utils.similarity(obj, neg_hyps.iloc[pi])\n",
    "            is_included = neg_hyps.iloc[pi].equals(feat_repr)\n",
    "            if is_included:\n",
    "                result.loc[i, f'neg_feat_{pi}'] = 1\n",
    "            else:\n",
    "                result.loc[i, f'neg_feat_{pi}'] = 0\n",
    "    \n",
    "    \n",
    "    return result\n",
    "    "
   ]
  },
  {
   "cell_type": "code",
   "execution_count": null,
   "metadata": {},
   "outputs": [],
   "source": []
  },
  {
   "cell_type": "code",
   "execution_count": null,
   "metadata": {},
   "outputs": [],
   "source": [
    "###Данный вариант не прокатит, слишком долго\n",
    "### Нужно придумать другой вариант"
   ]
  },
  {
   "cell_type": "code",
   "execution_count": 70,
   "metadata": {},
   "outputs": [],
   "source": [
    "# %%time\n",
    "# result = hypothesises_to_feat_matrix(pos_hyps=pos_hyps, neg_hyps=neg_hyps, trainX=trainX.sample(1000))"
   ]
  },
  {
   "cell_type": "code",
   "execution_count": null,
   "metadata": {},
   "outputs": [],
   "source": []
  },
  {
   "cell_type": "code",
   "execution_count": 62,
   "metadata": {},
   "outputs": [],
   "source": [
    "# a = pd.Series({'feat1':(1,1), 'feat2':(0, 1.4), 'feat3':(3, 4)})\n",
    "# b = pd.Series({'feat1':(1,2), 'feat2':(1, 1.4), 'feat3':(7, 7)})\n",
    "# c = pd.Series({'feat1':(1,1), 'feat2':(0.8, 1.6), 'feat3':(3, 4)})\n",
    "# d = pd.Series({'feat1':(2,3), 'feat2':(0, 1.4), 'feat3':(4, 6)})\n",
    "\n",
    "\n",
    "# print(a.equals(b))\n",
    "# print(a == b)\n",
    "\n",
    "# test1 = pd.Series({'feat1':(1,3), 'feat2':(1, 3.4), 'feat3':(1, 1.9)})\n",
    "# test2 = pd.Series({'feat1':(2,2.2), 'feat2':(2, 2.4), 'feat3':(3, 3.9)})\n",
    "# test3 = pd.Series({'feat1':(3,3), 'feat2':(4, 4.4), 'feat3':(4, 4.9)})\n",
    "\n",
    "g1 = pd.Series({'feat1':(1,1), 'feat2':(1.5, 1.5)})\n",
    "g2 = pd.DataFrame({'feat1':(-1,-1), 'feat2':(0, 0)})\n",
    "g3 = pd.Series({'feat1':(0.5,0.5), 'feat2':(1, 1)})\n",
    "\n",
    "test1 = pd.Series({'feat1':(0.1, 1), 'feat2':(-0.5, 0)})\n",
    "test2 = pd.DataFrame({'feat1':(-0.1, 1), 'feat2':(0.5, 0.8)})\n",
    "tst = pd.Series({'feat1':(-1, 1), 'feat2':(0, 1.5)})"
   ]
  },
  {
   "cell_type": "code",
   "execution_count": 287,
   "metadata": {},
   "outputs": [],
   "source": [
    "# for i,obj in sample.iterrows():\n",
    "#     print(similarity(pd.DataFrame(d).T, obj))"
   ]
  },
  {
   "cell_type": "code",
   "execution_count": 286,
   "metadata": {},
   "outputs": [],
   "source": [
    "# sample = pd.DataFrame([g1, g2, g3, test1, test2])\n",
    "# sample"
   ]
  },
  {
   "cell_type": "code",
   "execution_count": 248,
   "metadata": {},
   "outputs": [
    {
     "data": {
      "text/plain": [
       "feat1        (1, 1)\n",
       "feat2    (1.5, 1.5)\n",
       "dtype: object"
      ]
     },
     "execution_count": 248,
     "metadata": {},
     "output_type": "execute_result"
    }
   ],
   "source": [
    "g1"
   ]
  },
  {
   "cell_type": "code",
   "execution_count": 95,
   "metadata": {},
   "outputs": [
    {
     "data": {
      "text/plain": [
       "(pandas.core.series.Series, pandas.core.frame.DataFrame)"
      ]
     },
     "execution_count": 95,
     "metadata": {},
     "output_type": "execute_result"
    }
   ],
   "source": [
    "type(d), type(sample)"
   ]
  },
  {
   "cell_type": "code",
   "execution_count": 186,
   "metadata": {},
   "outputs": [],
   "source": [
    "# is_included_in_repr(d, sample)"
   ]
  },
  {
   "cell_type": "markdown",
   "metadata": {},
   "source": [
    "Тестовая функция провекри np.random.choice"
   ]
  },
  {
   "cell_type": "code",
   "execution_count": 40,
   "metadata": {},
   "outputs": [],
   "source": [
    "def compute_stat(times, data):\n",
    "    print(f\"times = {times}\")\n",
    "    sample = np.random.RandomState().choice(data, replace=False, size=10)\n",
    "    print(f\"sample = {sample}\")\n",
    "    sample_sum = np.sum(sample)\n",
    "    print(f\"sample sum = {sample_sum}\")\n",
    "    return sample_sum\n",
    "\n",
    "def run_computing(n_jobs=2):\n",
    "    data = list(range(100))\n",
    "    \n",
    "    compute_func = partial(compute_stat, data=data)\n",
    "    \n",
    "    with ProcessPoolExecutor(max_workers=n_jobs) as executor:\n",
    "        results = executor.map(compute_func, list(range(26)))\n",
    "    \n",
    "    return results"
   ]
  },
  {
   "cell_type": "code",
   "execution_count": 284,
   "metadata": {},
   "outputs": [],
   "source": [
    "# t = run_computing(n_jobs=6)"
   ]
  },
  {
   "cell_type": "code",
   "execution_count": null,
   "metadata": {},
   "outputs": [],
   "source": []
  },
  {
   "cell_type": "code",
   "execution_count": null,
   "metadata": {},
   "outputs": [],
   "source": []
  },
  {
   "cell_type": "code",
   "execution_count": null,
   "metadata": {},
   "outputs": [],
   "source": []
  }
 ],
 "metadata": {
  "kernelspec": {
   "display_name": "Python 3",
   "language": "python",
   "name": "python3"
  },
  "language_info": {
   "codemirror_mode": {
    "name": "ipython",
    "version": 3
   },
   "file_extension": ".py",
   "mimetype": "text/x-python",
   "name": "python",
   "nbconvert_exporter": "python",
   "pygments_lexer": "ipython3",
   "version": "3.6.5"
  }
 },
 "nbformat": 4,
 "nbformat_minor": 2
}
