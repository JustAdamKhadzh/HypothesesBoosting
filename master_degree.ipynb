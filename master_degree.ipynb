{
 "cells": [
  {
   "cell_type": "code",
   "execution_count": 2,
   "metadata": {},
   "outputs": [],
   "source": [
    "import os\n",
    "import numpy as np\n",
    "import pandas as pd\n",
    "import functions as func\n",
    "\n",
    "from functools import partial\n",
    "from concurrent.futures import ProcessPoolExecutor, Executor, as_completed"
   ]
  },
  {
   "cell_type": "code",
   "execution_count": 66,
   "metadata": {},
   "outputs": [],
   "source": [
    "def read_data(path, filename):\n",
    "    print(f'reading file = {os.path.join(path, filename)}')\n",
    "    data = pd.read_csv(os.path.join(path, filename))\n",
    "    data = data.rename(columns={'Unnamed: 0':'Id'})\n",
    "    print(f'data shape = {data.shape}')\n",
    "    types_info = pd.DataFrame(data.dtypes.value_counts(), columns=['columns_count'])\n",
    "    print('types info about df columns: ')\n",
    "    print(types_info)\n",
    "    return data"
   ]
  },
  {
   "cell_type": "code",
   "execution_count": 4,
   "metadata": {},
   "outputs": [
    {
     "name": "stdout",
     "output_type": "stream",
     "text": [
      "total 28272\r\n",
      "drwx------@ 6 adam  staff   192B Dec 23 21:30 \u001b[34m.\u001b[m\u001b[m/\r\n",
      "drwxr-xr-x  8 adam  staff   256B Dec 23 21:36 \u001b[34m..\u001b[m\u001b[m/\r\n",
      "-rwxr-xr-x@ 1 adam  staff    15K Dec 11  2019 \u001b[31mData Dictionary.xls\u001b[m\u001b[m*\r\n",
      "-rwxr-xr-x@ 1 adam  staff   4.8M Dec 11  2019 \u001b[31mcs-test.csv\u001b[m\u001b[m*\r\n",
      "-rwxr-xr-x@ 1 adam  staff   7.2M Dec 11  2019 \u001b[31mcs-training.csv\u001b[m\u001b[m*\r\n",
      "-rwxr-xr-x@ 1 adam  staff   1.8M Dec 11  2019 \u001b[31msampleEntry.csv\u001b[m\u001b[m*\r\n"
     ]
    }
   ],
   "source": [
    "ls -la -h Datasets/GiveMeSomeCredit/"
   ]
  },
  {
   "cell_type": "code",
   "execution_count": null,
   "metadata": {},
   "outputs": [],
   "source": []
  },
  {
   "cell_type": "code",
   "execution_count": 72,
   "metadata": {},
   "outputs": [
    {
     "name": "stdout",
     "output_type": "stream",
     "text": [
      "reading file = Datasets/GiveMeSomeCredit/cs-training.csv\n",
      "data shape = (150000, 12)\n",
      "types info about df columns: \n",
      "         columns_count\n",
      "int64                8\n",
      "float64              4\n"
     ]
    }
   ],
   "source": [
    "train_data = read_data(path='Datasets/GiveMeSomeCredit/', filename='cs-training.csv')\n",
    "# test_data = read_data(path='Datasets/GiveMeSomeCredit/', filename='cs-test.csv')\n",
    "# descript = pd.read_excel(\"Datasets/GiveMeSomeCredit/Data Dictionary.xls\")\n",
    "# sample_data = pd.read_csv(\"Datasets/GiveMeSomeCredit/sampleEntry.csv\")"
   ]
  },
  {
   "cell_type": "code",
   "execution_count": 73,
   "metadata": {},
   "outputs": [],
   "source": [
    "def transform_to_description(data):\n",
    "    transformed_data = pd.DataFrame(columns=data.columns)\n",
    "    \n",
    "    for col in data:\n",
    "        transformed_data[col] = data[col].apply(lambda x: (x, x))\n",
    "    \n",
    "    return transformed_data"
   ]
  },
  {
   "cell_type": "code",
   "execution_count": 74,
   "metadata": {},
   "outputs": [],
   "source": [
    "train_data.fillna(0, inplace=True)\n",
    "# test_data.fillna(0, inplace=True)\n",
    "\n",
    "#ставим колонку Id как индекс клиента\n",
    "train_data.set_index('Id', inplace=True)\n",
    "# test_data.set_index('Id', inplace=True)\n",
    "\n",
    "#сохраняем метку класса\n",
    "train_label = train_data['SeriousDlqin2yrs'].copy()\n",
    "train_data.drop('SeriousDlqin2yrs', axis=1, inplace=True)\n",
    "#удаляем колонку класса из тестовых данных, так как она не несет никакой информации\n",
    "# test_data.drop('SeriousDlqin2yrs', axis=1, inplace=True)"
   ]
  },
  {
   "cell_type": "code",
   "execution_count": 75,
   "metadata": {},
   "outputs": [],
   "source": [
    "train_data['NumberOfDependents'] = train_data.NumberOfDependents.astype('int')\n",
    "train_data['MonthlyIncome'] = train_data.MonthlyIncome.astype('int')"
   ]
  },
  {
   "cell_type": "code",
   "execution_count": null,
   "metadata": {},
   "outputs": [],
   "source": []
  },
  {
   "cell_type": "code",
   "execution_count": 80,
   "metadata": {},
   "outputs": [
    {
     "data": {
      "text/plain": [
       "(150000, 10)"
      ]
     },
     "execution_count": 80,
     "metadata": {},
     "output_type": "execute_result"
    }
   ],
   "source": [
    "train_data.shape#, test_data.shape"
   ]
  },
  {
   "cell_type": "code",
   "execution_count": 81,
   "metadata": {},
   "outputs": [],
   "source": [
    "float_cols = train_data.select_dtypes('float').columns\n",
    "train_data.loc[:, float_cols] = train_data.loc[:, float_cols].round(2)\n",
    "# train_data.head()"
   ]
  },
  {
   "cell_type": "code",
   "execution_count": 82,
   "metadata": {},
   "outputs": [],
   "source": [
    "# float_cols = test_data.select_dtypes('float').columns\n",
    "# test_data.loc[:, float_cols] = test_data.loc[:, float_cols].round(2)\n",
    "# test_data.head()"
   ]
  },
  {
   "cell_type": "code",
   "execution_count": 83,
   "metadata": {},
   "outputs": [],
   "source": [
    "transformed_train = transform_to_description(train_data)\n",
    "# transformed_test = transform_to_description(test_data)\n",
    "# transformed_train.head(5)"
   ]
  },
  {
   "cell_type": "code",
   "execution_count": 84,
   "metadata": {},
   "outputs": [
    {
     "data": {
      "text/plain": [
       "(150000, 10)"
      ]
     },
     "execution_count": 84,
     "metadata": {},
     "output_type": "execute_result"
    }
   ],
   "source": [
    "transformed_train.shape#, transformed_test.shape"
   ]
  },
  {
   "cell_type": "code",
   "execution_count": null,
   "metadata": {},
   "outputs": [],
   "source": []
  },
  {
   "cell_type": "code",
   "execution_count": null,
   "metadata": {},
   "outputs": [],
   "source": []
  },
  {
   "cell_type": "code",
   "execution_count": 18,
   "metadata": {},
   "outputs": [],
   "source": [
    "def similarity(vect1, vect2):\n",
    "    \n",
    "    \"\"\"\n",
    "    previous version:\n",
    "     vect1 = transformed_train.iloc[0]\n",
    "     vect2 = transformed_train.iloc[2]\n",
    "     func = (lambda x,y: (min(x[0], y[0]), max(x[1], y[1])))\n",
    "     pd.Series(map(func, vect1, vect2), index=train_data.columns)\n",
    "    \n",
    "     for col in cols:\n",
    "     vect_min = min(vect1.loc[col][0], vect2.loc[col][0])\n",
    "     vect_max = max(vect1.loc[col][1], vect2.loc[col][1])\n",
    "     vect[col] = (vect_min, vect_max)\n",
    "    \"\"\"\n",
    "    \n",
    "    func = lambda x, y: (min(x[0], y[0]), max(x[1], y[1]))\n",
    "    vect = pd.Series(map(func, vect1, vect2), index=vect1.index)\n",
    "    return vect\n",
    "\n",
    "def inclusion(obj, patterns):\n",
    "    \"\"\"\n",
    "    check where an obj is inluded in list of patterns\n",
    "    is_include = any([all(obj == elem) for elem in patterns])\n",
    "    \"\"\"     \n",
    "    is_include = any([obj.equals(elem) for elem in patterns])\n",
    "    return  is_include"
   ]
  },
  {
   "cell_type": "code",
   "execution_count": null,
   "metadata": {},
   "outputs": [],
   "source": []
  },
  {
   "cell_type": "code",
   "execution_count": null,
   "metadata": {},
   "outputs": [],
   "source": []
  },
  {
   "cell_type": "code",
   "execution_count": null,
   "metadata": {},
   "outputs": [],
   "source": []
  },
  {
   "cell_type": "markdown",
   "metadata": {},
   "source": [
    "**Алгоритм из работы Алексея(QBCA)**"
   ]
  },
  {
   "cell_type": "code",
   "execution_count": 86,
   "metadata": {},
   "outputs": [
    {
     "data": {
      "text/plain": [
       "(139974, 10026)"
      ]
     },
     "execution_count": 86,
     "metadata": {},
     "output_type": "execute_result"
    }
   ],
   "source": [
    "alpha = 0.003\n",
    "sample_ratio = 0.003#parameter\n",
    "num_iters = 1000#parameter\n",
    "N_neg = train_label.value_counts().reset_index().iloc[0, 1]\n",
    "N_pos = train_label.value_counts().reset_index().iloc[1, 1]\n",
    "N_neg, N_pos"
   ]
  },
  {
   "cell_type": "code",
   "execution_count": 87,
   "metadata": {},
   "outputs": [
    {
     "data": {
      "text/plain": [
       "((139974, 10), (10026, 10))"
      ]
     },
     "execution_count": 87,
     "metadata": {},
     "output_type": "execute_result"
    }
   ],
   "source": [
    "train_pos = transformed_train.loc[train_label[train_label == 1].index]\n",
    "train_neg = transformed_train.loc[train_label[train_label == 0].index]\n",
    "#не обновляем индекс так как индекс - это id клиента, имеет значимую информацию\n",
    "train_neg.shape, train_pos.shape"
   ]
  },
  {
   "cell_type": "markdown",
   "metadata": {},
   "source": [
    "Берем выборку заемов, для начального тестирования работоспособности"
   ]
  },
  {
   "cell_type": "code",
   "execution_count": 88,
   "metadata": {},
   "outputs": [
    {
     "data": {
      "text/plain": [
       "((1000, 10), (1000, 10))"
      ]
     },
     "execution_count": 88,
     "metadata": {},
     "output_type": "execute_result"
    }
   ],
   "source": [
    "train_pos = train_pos.sample(n=1000, random_state=123, replace=False)\n",
    "train_neg = train_neg.sample(n=1000, random_state=123, replace=False)\n",
    "train_pos.shape, train_neg.shape"
   ]
  },
  {
   "cell_type": "code",
   "execution_count": null,
   "metadata": {
    "scrolled": true
   },
   "outputs": [],
   "source": []
  },
  {
   "cell_type": "code",
   "execution_count": null,
   "metadata": {},
   "outputs": [],
   "source": []
  },
  {
   "cell_type": "markdown",
   "metadata": {},
   "source": [
    "**get_similarity_sample_repr and is_included_in_repr работают вроде правильно**\n",
    "\n",
    "По крайней мере на тестовых объектах показали правильные результаты"
   ]
  },
  {
   "cell_type": "code",
   "execution_count": 253,
   "metadata": {},
   "outputs": [],
   "source": [
    "def get_similarity_sample_repr(sample: pd.DataFrame):\n",
    "    \n",
    "    \"\"\"\n",
    "    get sample of feature represantations from pos or neg class dataset\n",
    "    returns feature represantation for sample by similarity operation\n",
    "    \"\"\"\n",
    "    pattern = None\n",
    "    for i, obj in sample.iterrows():\n",
    "        if pattern is None:\n",
    "            pattern = obj\n",
    "        else:\n",
    "            pattern = similarity(pattern, obj)\n",
    "    return pattern\n",
    "    \n",
    "#операция нахождения объектов по признаковому представлению\n",
    "def is_included_in_repr(d, train_data):\n",
    "    \"\"\"\n",
    "    returns objects from train dataset(from train pos and neg data) that is included in d representation\n",
    "    \"\"\"\n",
    "    \n",
    "    d_list = []\n",
    "    \n",
    "    for i, obj in train_data.iterrows():\n",
    "        feature_repr = similarity(obj, d)\n",
    "        is_included = d.equals(feature_repr)\n",
    "        if is_included:\n",
    "            d_list.append(obj)\n",
    "            \n",
    "    return pd.DataFrame(d_list)"
   ]
  },
  {
   "cell_type": "markdown",
   "metadata": {},
   "source": [
    "### Mining step\n",
    "\n",
    "\n",
    "    для положительного класса нас интересуют объекты отрицательного класса, \n",
    "    а для отрицательного - положительные\n",
    "    Уже после определения объектов из другого класса, попадающие в признаковое представление семпла данных, будет приниматься решение\n",
    "     о включение этого признакого представление в список гипотез представления(областей или интервальных представлений)\n",
    "    "
   ]
  },
  {
   "cell_type": "markdown",
   "metadata": {},
   "source": [
    "Что нужно посмотреть:\n",
    "\n",
    "    1. Сравнение количества генерируемых гипотез в зависимости от критерия и области генерации выборки.\n",
    "    (Возможно изобразить всего 4 варианта: старый подход - локальная или случайная выборка, новый подход - \n",
    "    локальная или случайная выборка)\n",
    "    \n",
    "    2. Сравнение генерируемых гипотез для старого и нового критерия в зависимости от ширины локальной области генерации\n",
    "    (Возможно есть какая то оптимальная ширина окна)\n",
    "    "
   ]
  },
  {
   "cell_type": "code",
   "execution_count": null,
   "metadata": {},
   "outputs": [],
   "source": []
  },
  {
   "cell_type": "code",
   "execution_count": null,
   "metadata": {},
   "outputs": [],
   "source": []
  },
  {
   "cell_type": "markdown",
   "metadata": {},
   "source": [
    "To-do-list:\n",
    "1. **классификации при разном включении признаков из исходного множества**\n",
    "\n",
    "2. **Подумать о том, каким образом генерить гипотезы. То есть выбирать не случайно выборку из множества объектов,\n",
    "    а какую-то локальную область. (Делать будем через расширение области объекта; более того, будем искать \n",
    "    оптимальное значение расширения локальной области)**"
   ]
  },
  {
   "cell_type": "code",
   "execution_count": null,
   "metadata": {},
   "outputs": [],
   "source": []
  },
  {
   "cell_type": "code",
   "execution_count": 237,
   "metadata": {},
   "outputs": [],
   "source": [
    "def generate_local_area(obj: pd.DataFrame):\n",
    "    eps = 0\n",
    "    index = obj.index.values[0]\n",
    "    local_obj = pd.DataFrame(index=[index], columns=obj.columns)\n",
    "    for key in obj.columns:\n",
    "        left_val, right_val = obj[key].iloc[0]\n",
    "        if isinstance(left_val, int):\n",
    "            eps = 1 if abs(left_val) // 100 == 0 else 100\n",
    "        elif isinstance(left_val, float):\n",
    "            eps = 0.01\n",
    "        left_val, right_val = left_val - eps, right_val + eps \n",
    "        local_obj.loc[index, key] = (left_val, right_val)\n",
    "    return local_obj\n",
    "\n",
    "def generate_local_sample(obj: pd.DataFrame, train_data: pd.DataFrame, \n",
    "                              sample_size: int, frac: float = 0.15, num_iters=10):\n",
    "    \n",
    "    iters = num_iters\n",
    "    while iters > 0:    \n",
    "        print(f'itr: {iters}')\n",
    "        d_local_area = generate_local_area(obj)\n",
    "        d_local_objects = is_included_in_repr(d=d_local_area, train_data=train_data)\n",
    "        if d_local_objects.shape[0] > int(train_data.shape[0] * frac):\n",
    "        #sampling\n",
    "            inds = np.random.RandomState().choice(d_local_objects.index, replace=False, size=sample_size)\n",
    "            sample = d_local_objects.loc[inds, :].copy()\n",
    "            break\n",
    "        #else:\n",
    "        #    d_local_area = generate_local_area(d_local_area)\n",
    "        iters -= 1\n",
    "        \n",
    "    return sample"
   ]
  },
  {
   "cell_type": "code",
   "execution_count": 22,
   "metadata": {},
   "outputs": [],
   "source": [
    "def generate_hypothesis(iteration: int,\n",
    "                        obj: pd.Series, \n",
    "                        train_data: pd.DataFrame, \n",
    "                        other_data: pd.DataFrame, \n",
    "                        sample_size: int, \n",
    "                        hypothesis_criterion: str,\n",
    "                        sample_type:str,\n",
    "                        verbose: bool,\n",
    "                        other_data_size: int, \n",
    "                        alpha: float):\n",
    "        \n",
    "        print(f'iteration: {iteration}')\n",
    "        \n",
    "        if sample_type == 'random':\n",
    "            inds = np.random.RandomState().choice(train_data.index, replace=False, size=sample_size)\n",
    "            sample = train_data.loc[inds, :].copy()\n",
    "            sample = sample.append(obj)\n",
    "        elif sample_type == 'local':\n",
    "            #генерация семпла данных из локальной области\n",
    "            sample = generate_local_sample(obj)\n",
    "            sample.append(ob)\n",
    "        else:\n",
    "            print('Не задали тип семплирования')\n",
    "            return None\n",
    "        \n",
    "        d = get_similarity_sample_repr(sample)\n",
    "        if verbose:\n",
    "            print('got feature represantation for sample')\n",
    "        \n",
    "        d_other_objects = is_included_in_repr(d, train_data=other_data)\n",
    "        #print(f'got {len(d_other_objects)} d_other_objects')\n",
    "        #print(f'thresh for hypothesis = {int(other_data_size * alpha)}')\n",
    "        \n",
    "#         if verbose:\n",
    "#             print('got objects that is included in sample represantation')\n",
    "            \n",
    "        if d_other_objects is None:\n",
    "            print('did not find any hypothesis on this iteration')\n",
    "            return None\n",
    "        \n",
    "        ###проверка критерия\n",
    "        if hypothesis_criterion == 'contr_class':\n",
    "            if d_other_objects.shape[0] <= int(other_data_size * alpha):\n",
    "                return d\n",
    "        elif hypothesis_criterion == 'both_classes':\n",
    "            #дополнительно смотрим какие объекты target(рассматриваемого на этой итерации) класса попадают в паттерн d\n",
    "            d_target_objects = is_included_in_repr(d, train_data=train_data)\n",
    "            if d_other_objects.shape[0] <= int(d_target_objects.shape[0] * alpha):\n",
    "                return d\n",
    "        else:\n",
    "            return None\n",
    "\n",
    "def mining_step(test_obj: pd.Series, train_pos: pd.DataFrame, train_neg: pd.DataFrame,\n",
    "                num_iters: int, sample_ratio: float, alpha: float, hypothesis_criterion: str, sample_type: str,\n",
    "                mining_type: str = 'pos', verbose : bool = False, n_jobs : int = 4):\n",
    "    \"\"\"\n",
    "    hypothesis_criterion: 'contr_class', если используем базовый критерий, \n",
    "                                когда смотрится пересечение с противоположным классом(старый критерий отбора гипотез)\n",
    "                           'both_classes', когда интересует пересечение по обоим классам(новый критерий отбора гипотез)\n",
    "    sample_type: 'random', если берем произвольную выборку интервальных представлений\n",
    "                 'local', если берем произвольную выборку из локальной области\n",
    "    \n",
    "    returns list of hypothesises\n",
    "    \"\"\"\n",
    "    \n",
    "    train_data = train_pos if mining_type == 'pos' else train_neg\n",
    "    other_data = train_neg if mining_type == 'pos' else train_pos\n",
    "    other_data_size = train_neg.shape[0] if mining_type == 'pos' else train_pos.shape[0]\n",
    "    \n",
    "    sample_size = int(train_data.shape[0] * sample_ratio)\n",
    "    print(f'using sample size = {sample_size}')\n",
    "    print(f'other data size = {other_data_size}')\n",
    "    print(f'other data rate size = {int(other_data_size * alpha)}')\n",
    "    print('start generating hypothesises')\n",
    "    \n",
    "    mining = partial(generate_hypothesis, \n",
    "                     obj=test_obj, \n",
    "                     train_data=train_data, \n",
    "                     other_data=other_data, \n",
    "                     sample_size=sample_size, \n",
    "                     hypothesis_criterion=hypothesis_criterion,\n",
    "                     sample_type=sample_type,\n",
    "                     verbose=verbose, \n",
    "                     other_data_size=other_data_size,\n",
    "                     alpha=alpha\n",
    "                    )\n",
    "    \n",
    "    with ProcessPoolExecutor(max_workers=n_jobs) as executor:\n",
    "        hypothesises = executor.map(mining, range(num_iters))\n",
    "\n",
    "    hypothesises = [res for res in hypothesises if res is not None]\n",
    "    return hypothesises\n",
    "    "
   ]
  },
  {
   "cell_type": "code",
   "execution_count": null,
   "metadata": {},
   "outputs": [],
   "source": []
  },
  {
   "cell_type": "code",
   "execution_count": null,
   "metadata": {},
   "outputs": [],
   "source": []
  },
  {
   "cell_type": "code",
   "execution_count": 234,
   "metadata": {},
   "outputs": [
    {
     "data": {
      "text/html": [
       "<div>\n",
       "<style scoped>\n",
       "    .dataframe tbody tr th:only-of-type {\n",
       "        vertical-align: middle;\n",
       "    }\n",
       "\n",
       "    .dataframe tbody tr th {\n",
       "        vertical-align: top;\n",
       "    }\n",
       "\n",
       "    .dataframe thead th {\n",
       "        text-align: right;\n",
       "    }\n",
       "</style>\n",
       "<table border=\"1\" class=\"dataframe\">\n",
       "  <thead>\n",
       "    <tr style=\"text-align: right;\">\n",
       "      <th></th>\n",
       "      <th>RevolvingUtilizationOfUnsecuredLines</th>\n",
       "      <th>age</th>\n",
       "      <th>NumberOfTime30-59DaysPastDueNotWorse</th>\n",
       "      <th>DebtRatio</th>\n",
       "      <th>MonthlyIncome</th>\n",
       "      <th>NumberOfOpenCreditLinesAndLoans</th>\n",
       "      <th>NumberOfTimes90DaysLate</th>\n",
       "      <th>NumberRealEstateLoansOrLines</th>\n",
       "      <th>NumberOfTime60-89DaysPastDueNotWorse</th>\n",
       "      <th>NumberOfDependents</th>\n",
       "    </tr>\n",
       "    <tr>\n",
       "      <th>Id</th>\n",
       "      <th></th>\n",
       "      <th></th>\n",
       "      <th></th>\n",
       "      <th></th>\n",
       "      <th></th>\n",
       "      <th></th>\n",
       "      <th></th>\n",
       "      <th></th>\n",
       "      <th></th>\n",
       "      <th></th>\n",
       "    </tr>\n",
       "  </thead>\n",
       "  <tbody>\n",
       "    <tr>\n",
       "      <th>44881</th>\n",
       "      <td>(0.04, 0.04)</td>\n",
       "      <td>(78, 78)</td>\n",
       "      <td>(0, 0)</td>\n",
       "      <td>(1438.0, 1438.0)</td>\n",
       "      <td>(0, 0)</td>\n",
       "      <td>(8, 8)</td>\n",
       "      <td>(0, 0)</td>\n",
       "      <td>(1, 1)</td>\n",
       "      <td>(0, 0)</td>\n",
       "      <td>(0, 0)</td>\n",
       "    </tr>\n",
       "  </tbody>\n",
       "</table>\n",
       "</div>"
      ],
      "text/plain": [
       "      RevolvingUtilizationOfUnsecuredLines       age  \\\n",
       "Id                                                     \n",
       "44881                         (0.04, 0.04)  (78, 78)   \n",
       "\n",
       "      NumberOfTime30-59DaysPastDueNotWorse         DebtRatio MonthlyIncome  \\\n",
       "Id                                                                           \n",
       "44881                               (0, 0)  (1438.0, 1438.0)        (0, 0)   \n",
       "\n",
       "      NumberOfOpenCreditLinesAndLoans NumberOfTimes90DaysLate  \\\n",
       "Id                                                              \n",
       "44881                          (8, 8)                  (0, 0)   \n",
       "\n",
       "      NumberRealEstateLoansOrLines NumberOfTime60-89DaysPastDueNotWorse  \\\n",
       "Id                                                                        \n",
       "44881                       (1, 1)                               (0, 0)   \n",
       "\n",
       "      NumberOfDependents  \n",
       "Id                        \n",
       "44881             (0, 0)  "
      ]
     },
     "execution_count": 234,
     "metadata": {},
     "output_type": "execute_result"
    }
   ],
   "source": [
    "test_local_obj = transformed_train.sample(1)\n",
    "test_local_obj"
   ]
  },
  {
   "cell_type": "code",
   "execution_count": 235,
   "metadata": {},
   "outputs": [
    {
     "data": {
      "text/html": [
       "<div>\n",
       "<style scoped>\n",
       "    .dataframe tbody tr th:only-of-type {\n",
       "        vertical-align: middle;\n",
       "    }\n",
       "\n",
       "    .dataframe tbody tr th {\n",
       "        vertical-align: top;\n",
       "    }\n",
       "\n",
       "    .dataframe thead th {\n",
       "        text-align: right;\n",
       "    }\n",
       "</style>\n",
       "<table border=\"1\" class=\"dataframe\">\n",
       "  <thead>\n",
       "    <tr style=\"text-align: right;\">\n",
       "      <th></th>\n",
       "      <th>RevolvingUtilizationOfUnsecuredLines</th>\n",
       "      <th>age</th>\n",
       "      <th>NumberOfTime30-59DaysPastDueNotWorse</th>\n",
       "      <th>DebtRatio</th>\n",
       "      <th>MonthlyIncome</th>\n",
       "      <th>NumberOfOpenCreditLinesAndLoans</th>\n",
       "      <th>NumberOfTimes90DaysLate</th>\n",
       "      <th>NumberRealEstateLoansOrLines</th>\n",
       "      <th>NumberOfTime60-89DaysPastDueNotWorse</th>\n",
       "      <th>NumberOfDependents</th>\n",
       "    </tr>\n",
       "  </thead>\n",
       "  <tbody>\n",
       "    <tr>\n",
       "      <th>44881</th>\n",
       "      <td>(0.03, 0.05)</td>\n",
       "      <td>(77, 79)</td>\n",
       "      <td>(-1, 1)</td>\n",
       "      <td>(1437.99, 1438.01)</td>\n",
       "      <td>(-1, 1)</td>\n",
       "      <td>(7, 9)</td>\n",
       "      <td>(-1, 1)</td>\n",
       "      <td>(0, 2)</td>\n",
       "      <td>(-1, 1)</td>\n",
       "      <td>(-1, 1)</td>\n",
       "    </tr>\n",
       "  </tbody>\n",
       "</table>\n",
       "</div>"
      ],
      "text/plain": [
       "      RevolvingUtilizationOfUnsecuredLines       age  \\\n",
       "44881                         (0.03, 0.05)  (77, 79)   \n",
       "\n",
       "      NumberOfTime30-59DaysPastDueNotWorse           DebtRatio MonthlyIncome  \\\n",
       "44881                              (-1, 1)  (1437.99, 1438.01)       (-1, 1)   \n",
       "\n",
       "      NumberOfOpenCreditLinesAndLoans NumberOfTimes90DaysLate  \\\n",
       "44881                          (7, 9)                 (-1, 1)   \n",
       "\n",
       "      NumberRealEstateLoansOrLines NumberOfTime60-89DaysPastDueNotWorse  \\\n",
       "44881                       (0, 2)                              (-1, 1)   \n",
       "\n",
       "      NumberOfDependents  \n",
       "44881            (-1, 1)  "
      ]
     },
     "execution_count": 235,
     "metadata": {},
     "output_type": "execute_result"
    }
   ],
   "source": [
    "generated_obj = generate_local_area(test_local_obj)\n",
    "generated_obj"
   ]
  },
  {
   "cell_type": "code",
   "execution_count": 236,
   "metadata": {},
   "outputs": [
    {
     "data": {
      "text/html": [
       "<div>\n",
       "<style scoped>\n",
       "    .dataframe tbody tr th:only-of-type {\n",
       "        vertical-align: middle;\n",
       "    }\n",
       "\n",
       "    .dataframe tbody tr th {\n",
       "        vertical-align: top;\n",
       "    }\n",
       "\n",
       "    .dataframe thead th {\n",
       "        text-align: right;\n",
       "    }\n",
       "</style>\n",
       "<table border=\"1\" class=\"dataframe\">\n",
       "  <thead>\n",
       "    <tr style=\"text-align: right;\">\n",
       "      <th></th>\n",
       "      <th>RevolvingUtilizationOfUnsecuredLines</th>\n",
       "      <th>age</th>\n",
       "      <th>NumberOfTime30-59DaysPastDueNotWorse</th>\n",
       "      <th>DebtRatio</th>\n",
       "      <th>MonthlyIncome</th>\n",
       "      <th>NumberOfOpenCreditLinesAndLoans</th>\n",
       "      <th>NumberOfTimes90DaysLate</th>\n",
       "      <th>NumberRealEstateLoansOrLines</th>\n",
       "      <th>NumberOfTime60-89DaysPastDueNotWorse</th>\n",
       "      <th>NumberOfDependents</th>\n",
       "    </tr>\n",
       "  </thead>\n",
       "  <tbody>\n",
       "    <tr>\n",
       "      <th>44881</th>\n",
       "      <td>(0.019999999999999997, 0.060000000000000005)</td>\n",
       "      <td>(76, 80)</td>\n",
       "      <td>(-2, 2)</td>\n",
       "      <td>(1437.98, 1438.02)</td>\n",
       "      <td>(-2, 2)</td>\n",
       "      <td>(6, 10)</td>\n",
       "      <td>(-2, 2)</td>\n",
       "      <td>(-1, 3)</td>\n",
       "      <td>(-2, 2)</td>\n",
       "      <td>(-2, 2)</td>\n",
       "    </tr>\n",
       "  </tbody>\n",
       "</table>\n",
       "</div>"
      ],
      "text/plain": [
       "               RevolvingUtilizationOfUnsecuredLines       age  \\\n",
       "44881  (0.019999999999999997, 0.060000000000000005)  (76, 80)   \n",
       "\n",
       "      NumberOfTime30-59DaysPastDueNotWorse           DebtRatio MonthlyIncome  \\\n",
       "44881                              (-2, 2)  (1437.98, 1438.02)       (-2, 2)   \n",
       "\n",
       "      NumberOfOpenCreditLinesAndLoans NumberOfTimes90DaysLate  \\\n",
       "44881                         (6, 10)                 (-2, 2)   \n",
       "\n",
       "      NumberRealEstateLoansOrLines NumberOfTime60-89DaysPastDueNotWorse  \\\n",
       "44881                      (-1, 3)                              (-2, 2)   \n",
       "\n",
       "      NumberOfDependents  \n",
       "44881            (-2, 2)  "
      ]
     },
     "execution_count": 236,
     "metadata": {},
     "output_type": "execute_result"
    }
   ],
   "source": [
    "generate_local_area(generated_obj)"
   ]
  },
  {
   "cell_type": "code",
   "execution_count": null,
   "metadata": {},
   "outputs": [],
   "source": []
  },
  {
   "cell_type": "code",
   "execution_count": null,
   "metadata": {},
   "outputs": [],
   "source": []
  },
  {
   "cell_type": "code",
   "execution_count": 93,
   "metadata": {},
   "outputs": [
    {
     "name": "stdout",
     "output_type": "stream",
     "text": [
      "RevolvingUtilizationOfUnsecuredLines 0.01\n",
      "age 1\n",
      "NumberOfTime30-59DaysPastDueNotWorse 1\n",
      "DebtRatio 0.01\n",
      "MonthlyIncome 100\n",
      "NumberOfOpenCreditLinesAndLoans 1\n",
      "NumberOfTimes90DaysLate 1\n",
      "NumberRealEstateLoansOrLines 1\n",
      "NumberOfTime60-89DaysPastDueNotWorse 1\n",
      "NumberOfDependents 1\n"
     ]
    }
   ],
   "source": []
  },
  {
   "cell_type": "code",
   "execution_count": null,
   "metadata": {},
   "outputs": [],
   "source": []
  },
  {
   "cell_type": "code",
   "execution_count": 25,
   "metadata": {},
   "outputs": [],
   "source": [
    "# test_sample = transformed_test.loc[:2]\n",
    "# test_sample"
   ]
  },
  {
   "cell_type": "code",
   "execution_count": 24,
   "metadata": {},
   "outputs": [
    {
     "data": {
      "text/plain": [
       "(1000, 0.003, 0.003)"
      ]
     },
     "execution_count": 24,
     "metadata": {},
     "output_type": "execute_result"
    }
   ],
   "source": [
    "num_iters, alpha, sample_ratio"
   ]
  },
  {
   "cell_type": "code",
   "execution_count": null,
   "metadata": {},
   "outputs": [],
   "source": []
  },
  {
   "cell_type": "code",
   "execution_count": null,
   "metadata": {},
   "outputs": [],
   "source": []
  },
  {
   "cell_type": "code",
   "execution_count": null,
   "metadata": {},
   "outputs": [],
   "source": []
  },
  {
   "cell_type": "code",
   "execution_count": null,
   "metadata": {},
   "outputs": [],
   "source": []
  },
  {
   "cell_type": "code",
   "execution_count": 241,
   "metadata": {},
   "outputs": [],
   "source": [
    "%%time\n",
    "for i, obj in test_sample.iterrows():\n",
    "    \n",
    "    print(f'start mining from pos objects')\n",
    "    pos_hyps = mining_step(test_obj=obj, train_pos=train_pos, train_neg=train_neg, \n",
    "                           num_iters=num_iters,sample_ratio=sample_ratio, alpha = alpha,\n",
    "                           hypothesis_criterion='contr_class', mining_type='pos',\n",
    "                           verbose=True, n_jobs=4\n",
    "                          )\n",
    "    \n",
    "    print(f'start mining from neg objects')\n",
    "    neg_hyps = mining_step(test_obj=obj, train_pos=train_pos, train_neg=train_neg,\n",
    "                           num_iters=num_iters, sample_ratio=sample_ratio, alpha = alpha, \n",
    "                           hypothesis_criterion='contr_class',mining_type='neg', \n",
    "                           verbose=True, n_jobs=4\n",
    "                          )"
   ]
  },
  {
   "cell_type": "code",
   "execution_count": null,
   "metadata": {},
   "outputs": [],
   "source": []
  },
  {
   "cell_type": "code",
   "execution_count": null,
   "metadata": {},
   "outputs": [],
   "source": []
  },
  {
   "cell_type": "code",
   "execution_count": null,
   "metadata": {},
   "outputs": [],
   "source": []
  },
  {
   "cell_type": "code",
   "execution_count": null,
   "metadata": {},
   "outputs": [],
   "source": []
  },
  {
   "cell_type": "code",
   "execution_count": 242,
   "metadata": {},
   "outputs": [],
   "source": [
    "# a = pd.Series({'feat1':(1,1), 'feat2':(0, 1.4), 'feat3':(3, 4)})\n",
    "# b = pd.Series({'feat1':(1,2), 'feat2':(1, 1.4), 'feat3':(7, 7)})\n",
    "# c = pd.Series({'feat1':(1,1), 'feat2':(0.8, 1.6), 'feat3':(3, 4)})\n",
    "# d = pd.Series({'feat1':(2,3), 'feat2':(0, 1.4), 'feat3':(4, 6)})\n",
    "\n",
    "\n",
    "# print(a.equals(b))\n",
    "# print(a == b)\n",
    "\n",
    "# test1 = pd.Series({'feat1':(1,3), 'feat2':(1, 3.4), 'feat3':(1, 1.9)})\n",
    "# test2 = pd.Series({'feat1':(2,2.2), 'feat2':(2, 2.4), 'feat3':(3, 3.9)})\n",
    "# test3 = pd.Series({'feat1':(3,3), 'feat2':(4, 4.4), 'feat3':(4, 4.9)})\n",
    "\n",
    "g1 = pd.Series({'feat1':(1,1), 'feat2':(1.5, 1.5)})\n",
    "g2 = pd.Series({'feat1':(-1,-1), 'feat2':(0, 0)})\n",
    "g3 = pd.Series({'feat1':(0.5,0.5), 'feat2':(1, 1)})\n",
    "\n",
    "test1 = pd.Series({'feat1':(0.1, 1), 'feat2':(-0.5, 0)})\n",
    "test2 = pd.Series({'feat1':(-0.1, 1), 'feat2':(0.5, 0.8)})\n",
    "tst = pd.Series({'feat1':(-1, 1), 'feat2':(0, 1.5)})"
   ]
  },
  {
   "cell_type": "code",
   "execution_count": 243,
   "metadata": {},
   "outputs": [
    {
     "data": {
      "text/plain": [
       "feat1     (-1, 1)\n",
       "feat2    (0, 1.5)\n",
       "dtype: object"
      ]
     },
     "execution_count": 243,
     "metadata": {},
     "output_type": "execute_result"
    }
   ],
   "source": [
    "d = similarity(g1, g2)\n",
    "d"
   ]
  },
  {
   "cell_type": "code",
   "execution_count": 244,
   "metadata": {},
   "outputs": [
    {
     "data": {
      "text/plain": [
       "feat1     (-1, 1)\n",
       "feat2    (0, 1.5)\n",
       "dtype: object"
      ]
     },
     "execution_count": 244,
     "metadata": {},
     "output_type": "execute_result"
    }
   ],
   "source": [
    "d"
   ]
  },
  {
   "cell_type": "code",
   "execution_count": 245,
   "metadata": {},
   "outputs": [
    {
     "data": {
      "text/plain": [
       "True"
      ]
     },
     "execution_count": 245,
     "metadata": {},
     "output_type": "execute_result"
    }
   ],
   "source": [
    "d.equals(tst)"
   ]
  },
  {
   "cell_type": "code",
   "execution_count": 92,
   "metadata": {},
   "outputs": [
    {
     "data": {
      "text/plain": [
       "feat1     (-1, 1)\n",
       "feat2    (0, 1.5)\n",
       "dtype: object"
      ]
     },
     "execution_count": 92,
     "metadata": {},
     "output_type": "execute_result"
    }
   ],
   "source": [
    "tst"
   ]
  },
  {
   "cell_type": "code",
   "execution_count": 103,
   "metadata": {},
   "outputs": [
    {
     "data": {
      "text/plain": [
       "feat1    (0.5, 1)\n",
       "feat2    (1, 1.5)\n",
       "dtype: object"
      ]
     },
     "execution_count": 103,
     "metadata": {},
     "output_type": "execute_result"
    }
   ],
   "source": [
    "inter_sample = get_similarity_sample_repr(sample)\n",
    "inter_sample"
   ]
  },
  {
   "cell_type": "code",
   "execution_count": 247,
   "metadata": {},
   "outputs": [
    {
     "data": {
      "text/html": [
       "<div>\n",
       "<style scoped>\n",
       "    .dataframe tbody tr th:only-of-type {\n",
       "        vertical-align: middle;\n",
       "    }\n",
       "\n",
       "    .dataframe tbody tr th {\n",
       "        vertical-align: top;\n",
       "    }\n",
       "\n",
       "    .dataframe thead th {\n",
       "        text-align: right;\n",
       "    }\n",
       "</style>\n",
       "<table border=\"1\" class=\"dataframe\">\n",
       "  <thead>\n",
       "    <tr style=\"text-align: right;\">\n",
       "      <th></th>\n",
       "      <th>feat1</th>\n",
       "      <th>feat2</th>\n",
       "    </tr>\n",
       "  </thead>\n",
       "  <tbody>\n",
       "    <tr>\n",
       "      <th>0</th>\n",
       "      <td>(1, 1)</td>\n",
       "      <td>(1.5, 1.5)</td>\n",
       "    </tr>\n",
       "    <tr>\n",
       "      <th>1</th>\n",
       "      <td>(-1, -1)</td>\n",
       "      <td>(0, 0)</td>\n",
       "    </tr>\n",
       "    <tr>\n",
       "      <th>2</th>\n",
       "      <td>(0.5, 0.5)</td>\n",
       "      <td>(1, 1)</td>\n",
       "    </tr>\n",
       "    <tr>\n",
       "      <th>3</th>\n",
       "      <td>(0.1, 1)</td>\n",
       "      <td>(-0.5, 0)</td>\n",
       "    </tr>\n",
       "    <tr>\n",
       "      <th>4</th>\n",
       "      <td>(-0.1, 1)</td>\n",
       "      <td>(0.5, 0.8)</td>\n",
       "    </tr>\n",
       "  </tbody>\n",
       "</table>\n",
       "</div>"
      ],
      "text/plain": [
       "        feat1       feat2\n",
       "0      (1, 1)  (1.5, 1.5)\n",
       "1    (-1, -1)      (0, 0)\n",
       "2  (0.5, 0.5)      (1, 1)\n",
       "3    (0.1, 1)   (-0.5, 0)\n",
       "4   (-0.1, 1)  (0.5, 0.8)"
      ]
     },
     "execution_count": 247,
     "metadata": {},
     "output_type": "execute_result"
    }
   ],
   "source": [
    "sample = pd.DataFrame([g1, g2, g3, test1, test2])\n",
    "sample"
   ]
  },
  {
   "cell_type": "code",
   "execution_count": 248,
   "metadata": {},
   "outputs": [
    {
     "data": {
      "text/plain": [
       "feat1        (1, 1)\n",
       "feat2    (1.5, 1.5)\n",
       "dtype: object"
      ]
     },
     "execution_count": 248,
     "metadata": {},
     "output_type": "execute_result"
    }
   ],
   "source": [
    "g1"
   ]
  },
  {
   "cell_type": "code",
   "execution_count": 249,
   "metadata": {},
   "outputs": [
    {
     "data": {
      "text/html": [
       "<div>\n",
       "<style scoped>\n",
       "    .dataframe tbody tr th:only-of-type {\n",
       "        vertical-align: middle;\n",
       "    }\n",
       "\n",
       "    .dataframe tbody tr th {\n",
       "        vertical-align: top;\n",
       "    }\n",
       "\n",
       "    .dataframe thead th {\n",
       "        text-align: right;\n",
       "    }\n",
       "</style>\n",
       "<table border=\"1\" class=\"dataframe\">\n",
       "  <thead>\n",
       "    <tr style=\"text-align: right;\">\n",
       "      <th></th>\n",
       "      <th>feat1</th>\n",
       "      <th>feat2</th>\n",
       "    </tr>\n",
       "  </thead>\n",
       "  <tbody>\n",
       "    <tr>\n",
       "      <th>0</th>\n",
       "      <td>(1, 1)</td>\n",
       "      <td>(1.5, 1.5)</td>\n",
       "    </tr>\n",
       "    <tr>\n",
       "      <th>1</th>\n",
       "      <td>(-1, -1)</td>\n",
       "      <td>(0, 0)</td>\n",
       "    </tr>\n",
       "    <tr>\n",
       "      <th>2</th>\n",
       "      <td>(0.5, 0.5)</td>\n",
       "      <td>(1, 1)</td>\n",
       "    </tr>\n",
       "    <tr>\n",
       "      <th>3</th>\n",
       "      <td>(0.1, 1)</td>\n",
       "      <td>(-0.5, 0)</td>\n",
       "    </tr>\n",
       "    <tr>\n",
       "      <th>4</th>\n",
       "      <td>(-0.1, 1)</td>\n",
       "      <td>(0.5, 0.8)</td>\n",
       "    </tr>\n",
       "  </tbody>\n",
       "</table>\n",
       "</div>"
      ],
      "text/plain": [
       "        feat1       feat2\n",
       "0      (1, 1)  (1.5, 1.5)\n",
       "1    (-1, -1)      (0, 0)\n",
       "2  (0.5, 0.5)      (1, 1)\n",
       "3    (0.1, 1)   (-0.5, 0)\n",
       "4   (-0.1, 1)  (0.5, 0.8)"
      ]
     },
     "execution_count": 249,
     "metadata": {},
     "output_type": "execute_result"
    }
   ],
   "source": [
    "sample"
   ]
  },
  {
   "cell_type": "code",
   "execution_count": 252,
   "metadata": {},
   "outputs": [
    {
     "data": {
      "text/plain": [
       "(4, 2)"
      ]
     },
     "execution_count": 252,
     "metadata": {},
     "output_type": "execute_result"
    }
   ],
   "source": [
    "pd.DataFrame(is_included_in_repr(d, sample)).shape"
   ]
  },
  {
   "cell_type": "code",
   "execution_count": 125,
   "metadata": {},
   "outputs": [
    {
     "data": {
      "text/plain": [
       "feat1     (-1, 1)\n",
       "feat2    (0, 1.5)\n",
       "dtype: object"
      ]
     },
     "execution_count": 125,
     "metadata": {},
     "output_type": "execute_result"
    }
   ],
   "source": [
    "d"
   ]
  },
  {
   "cell_type": "code",
   "execution_count": null,
   "metadata": {},
   "outputs": [],
   "source": []
  },
  {
   "cell_type": "markdown",
   "metadata": {},
   "source": [
    "Тестовая функция провекри np.random.choice"
   ]
  },
  {
   "cell_type": "code",
   "execution_count": 40,
   "metadata": {},
   "outputs": [],
   "source": [
    "def compute_stat(times, data):\n",
    "    print(f\"times = {times}\")\n",
    "    sample = np.random.RandomState().choice(data, replace=False, size=10)\n",
    "    print(f\"sample = {sample}\")\n",
    "    sample_sum = np.sum(sample)\n",
    "    print(f\"sample sum = {sample_sum}\")\n",
    "    return sample_sum\n",
    "\n",
    "def run_computing(n_jobs=2):\n",
    "    data = list(range(100))\n",
    "    \n",
    "    compute_func = partial(compute_stat, data=data)\n",
    "    \n",
    "    with ProcessPoolExecutor(max_workers=n_jobs) as executor:\n",
    "        results = executor.map(compute_func, list(range(26)))\n",
    "    \n",
    "    return results"
   ]
  },
  {
   "cell_type": "code",
   "execution_count": 42,
   "metadata": {},
   "outputs": [
    {
     "name": "stdout",
     "output_type": "stream",
     "text": [
      "times = 0\n",
      "times = 1\n",
      "times = 2\n",
      "times = 3\n",
      "times = 4\n",
      "times = 5\n",
      "sample = [32  5 50 21  9 43 94  8 96 38]\n",
      "sample = [11 35 37 89 88 72 50 28 38 34]\n",
      "sample = [97 53 52 93 81 86 58 35 49 68]\n",
      "sample = [72  5 41 66 65 18 26 71 74 44]\n",
      "sample = [85 23 90 86 18 21 27 80 62 76]\n",
      "sample = [19  6 31 10 98 18 76 71 35 43]\n",
      "sample sum = 482\n",
      "sample sum = 396\n",
      "sample sum = 672\n",
      "sample sum = 482\n",
      "sample sum = 568\n",
      "sample sum = 407\n",
      "times = 6\n",
      "times = 7\n",
      "times = 8\n",
      "times = 9\n",
      "times = 10\n",
      "times = 11\n",
      "sample = [77 67  8 51 54 27 10 52  3 11]\n",
      "sample = [68 85 39 41 77 10 19 81 71 53]\n",
      "sample = [12 88 89 32 26 54 38  2 17 42]\n",
      "sample = [84 89 72 36  3 58 20 17 15 52]\n",
      "sample = [94 46 49  2 79 53 42 91  6 55]\n",
      "sample = [90  3 95  5 76 30 73 56 37 34]\n",
      "sample sum = 360\n",
      "sample sum = 544\n",
      "sample sum = 400\n",
      "sample sum = 446\n",
      "times = 12\n",
      "sample sum = 499\n",
      "sample sum = 517\n",
      "times = 14\n",
      "times = 13\n",
      "times = 16\n",
      "times = 17\n",
      "sample = [70 43 42 85 41 61 33 34 93 10]\n",
      "times = 15\n",
      "sample = [33 14 60 28  7 45 36 68 91 29]\n",
      "sample = [32 48 45 34 66 47  9 73 90 13]\n",
      "sample = [85 43 89 80 57 19 58 14  3 18]\n",
      "sample = [70 11 68 46 28 27 76 21 31 32]\n",
      "sample = [94 36 64 24  0 70 76 38 35 13]\n",
      "sample sum = 512\n",
      "sample sum = 411\n",
      "sample sum = 457\n",
      "sample sum = 466\n",
      "sample sum = 410\n",
      "times = 18\n",
      "sample sum = 450\n",
      "times = 20\n",
      "times = 19\n",
      "times = 21\n",
      "times = 22\n",
      "times = 23\n",
      "sample = [37 42  7 41 96  0 46 89 17 63]\n",
      "sample = [54 13 96 22 52 78 23 14 84 46]\n",
      "sample = [25 79 37 16 23 19 56 50 14 93]\n",
      "sample = [57 81 17 47 41 74 56 78 99 49]\n",
      "sample = [ 5 52 75 49 34  4 67 45 46 79]\n",
      "sample = [ 0 17 19 68 31 50  3 56 25 97]\n",
      "sample sum = 438\n",
      "sample sum = 482\n",
      "sample sum = 412\n",
      "sample sum = 599\n",
      "sample sum = 456\n",
      "sample sum = 366\n",
      "times = 24\n",
      "times = 25\n",
      "sample = [ 4 57 41 64 87 17 13 71 19 62]\n",
      "sample = [93 52 81 77 31 76  9 14 12 42]\n",
      "sample sum = 435\n",
      "sample sum = 487\n"
     ]
    }
   ],
   "source": [
    "t = run_computing(n_jobs=6)"
   ]
  },
  {
   "cell_type": "code",
   "execution_count": null,
   "metadata": {},
   "outputs": [],
   "source": []
  },
  {
   "cell_type": "code",
   "execution_count": null,
   "metadata": {},
   "outputs": [],
   "source": []
  },
  {
   "cell_type": "code",
   "execution_count": null,
   "metadata": {},
   "outputs": [],
   "source": []
  }
 ],
 "metadata": {
  "kernelspec": {
   "display_name": "Python 3",
   "language": "python",
   "name": "python3"
  },
  "language_info": {
   "codemirror_mode": {
    "name": "ipython",
    "version": 3
   },
   "file_extension": ".py",
   "mimetype": "text/x-python",
   "name": "python",
   "nbconvert_exporter": "python",
   "pygments_lexer": "ipython3",
   "version": "3.6.5"
  }
 },
 "nbformat": 4,
 "nbformat_minor": 2
}
